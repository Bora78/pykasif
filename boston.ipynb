{
  "nbformat": 4,
  "nbformat_minor": 0,
  "metadata": {
    "colab": {
      "name": "boston.ipynb",
      "provenance": [],
      "collapsed_sections": [],
      "mount_file_id": "1I7wtAC3hLYXDjWoRoL8vWqWjJ4bCUU1k",
      "authorship_tag": "ABX9TyOg0J3ZktJjXoiC81G+4ZNl",
      "include_colab_link": true
    },
    "kernelspec": {
      "name": "python3",
      "display_name": "Python 3"
    },
    "language_info": {
      "name": "python"
    }
  },
  "cells": [
    {
      "cell_type": "markdown",
      "metadata": {
        "id": "view-in-github",
        "colab_type": "text"
      },
      "source": [
        "<a href=\"https://colab.research.google.com/github/muhendis/dev-pykasif/blob/master/boston.ipynb\" target=\"_parent\"><img src=\"https://colab.research.google.com/assets/colab-badge.svg\" alt=\"Open In Colab\"/></a>"
      ]
    },
    {
      "cell_type": "code",
      "metadata": {
        "colab": {
          "base_uri": "https://localhost:8080/"
        },
        "id": "2dRUOnDicsD7",
        "outputId": "32fa33db-3518-45bf-e355-146e9d56da28"
      },
      "source": [
        "cd /content/drive/MyDrive/dikey eksen/code\n"
      ],
      "execution_count": 1,
      "outputs": [
        {
          "output_type": "stream",
          "name": "stdout",
          "text": [
            "/content/drive/MyDrive/dikey eksen/code\n"
          ]
        }
      ]
    },
    {
      "cell_type": "code",
      "metadata": {
        "id": "7eNzba70c5N1"
      },
      "source": [
        "from assistant.featureselection import FeatureSelection\n",
        "from assistant.eda import ProfillingReport\n",
        "from assistant.datacleaning import DataCleaning\n",
        "\n",
        "import numpy as np\n",
        "import pandas as pd\n",
        "import matplotlib.pyplot as plt\n",
        "import seaborn as sns\n",
        "\n",
        "from sklearn.datasets import load_boston\n",
        "\n",
        "from sklearn.model_selection import train_test_split\n",
        "from sklearn.model_selection import GridSearchCV\n",
        "from sklearn.linear_model import LinearRegression\n",
        "from sklearn.tree import DecisionTreeRegressor\n",
        "from sklearn.neighbors import KNeighborsRegressor\n",
        "from sklearn.svm import SVR\n",
        "from sklearn.ensemble import RandomForestRegressor\n",
        "from sklearn.metrics import mean_squared_error\n",
        "\n",
        "\n",
        "import warnings\n",
        "warnings.simplefilter(action='ignore')\n"
      ],
      "execution_count": 2,
      "outputs": []
    },
    {
      "cell_type": "markdown",
      "metadata": {
        "id": "sdS3dr_xeEmo"
      },
      "source": [
        "# 1. Veriyi Yükleme ve Anlama"
      ]
    },
    {
      "cell_type": "markdown",
      "metadata": {
        "id": "zaZ9t8uUevV_"
      },
      "source": [
        "Boston'daki farklı evler hakkında bilgi içeren konut veri setini kullanacağız. Amaç, verilen özellikleri kullanarak evin fiyat değerini tahmin etmektir.\n"
      ]
    },
    {
      "cell_type": "code",
      "metadata": {
        "colab": {
          "base_uri": "https://localhost:8080/",
          "height": 406
        },
        "id": "IejwXZu4eDVS",
        "outputId": "361ecad4-b581-486e-929f-2340bfaf3ffb"
      },
      "source": [
        "boston = load_boston()\n",
        "\n",
        "df_data = pd.DataFrame(boston.data, columns=boston.feature_names)\n",
        "\n",
        "df_price =  pd.DataFrame(boston.target, columns=[\"PRICE\"])\n",
        "\n",
        "df = pd.concat([df_data, df_price], axis=1)\n",
        "\n",
        "df"
      ],
      "execution_count": 3,
      "outputs": [
        {
          "output_type": "execute_result",
          "data": {
            "text/html": [
              "<div>\n",
              "<style scoped>\n",
              "    .dataframe tbody tr th:only-of-type {\n",
              "        vertical-align: middle;\n",
              "    }\n",
              "\n",
              "    .dataframe tbody tr th {\n",
              "        vertical-align: top;\n",
              "    }\n",
              "\n",
              "    .dataframe thead th {\n",
              "        text-align: right;\n",
              "    }\n",
              "</style>\n",
              "<table border=\"1\" class=\"dataframe\">\n",
              "  <thead>\n",
              "    <tr style=\"text-align: right;\">\n",
              "      <th></th>\n",
              "      <th>CRIM</th>\n",
              "      <th>ZN</th>\n",
              "      <th>INDUS</th>\n",
              "      <th>CHAS</th>\n",
              "      <th>NOX</th>\n",
              "      <th>RM</th>\n",
              "      <th>AGE</th>\n",
              "      <th>DIS</th>\n",
              "      <th>RAD</th>\n",
              "      <th>TAX</th>\n",
              "      <th>PTRATIO</th>\n",
              "      <th>B</th>\n",
              "      <th>LSTAT</th>\n",
              "      <th>PRICE</th>\n",
              "    </tr>\n",
              "  </thead>\n",
              "  <tbody>\n",
              "    <tr>\n",
              "      <th>0</th>\n",
              "      <td>0.00632</td>\n",
              "      <td>18.0</td>\n",
              "      <td>2.31</td>\n",
              "      <td>0.0</td>\n",
              "      <td>0.538</td>\n",
              "      <td>6.575</td>\n",
              "      <td>65.2</td>\n",
              "      <td>4.0900</td>\n",
              "      <td>1.0</td>\n",
              "      <td>296.0</td>\n",
              "      <td>15.3</td>\n",
              "      <td>396.90</td>\n",
              "      <td>4.98</td>\n",
              "      <td>24.0</td>\n",
              "    </tr>\n",
              "    <tr>\n",
              "      <th>1</th>\n",
              "      <td>0.02731</td>\n",
              "      <td>0.0</td>\n",
              "      <td>7.07</td>\n",
              "      <td>0.0</td>\n",
              "      <td>0.469</td>\n",
              "      <td>6.421</td>\n",
              "      <td>78.9</td>\n",
              "      <td>4.9671</td>\n",
              "      <td>2.0</td>\n",
              "      <td>242.0</td>\n",
              "      <td>17.8</td>\n",
              "      <td>396.90</td>\n",
              "      <td>9.14</td>\n",
              "      <td>21.6</td>\n",
              "    </tr>\n",
              "    <tr>\n",
              "      <th>2</th>\n",
              "      <td>0.02729</td>\n",
              "      <td>0.0</td>\n",
              "      <td>7.07</td>\n",
              "      <td>0.0</td>\n",
              "      <td>0.469</td>\n",
              "      <td>7.185</td>\n",
              "      <td>61.1</td>\n",
              "      <td>4.9671</td>\n",
              "      <td>2.0</td>\n",
              "      <td>242.0</td>\n",
              "      <td>17.8</td>\n",
              "      <td>392.83</td>\n",
              "      <td>4.03</td>\n",
              "      <td>34.7</td>\n",
              "    </tr>\n",
              "    <tr>\n",
              "      <th>3</th>\n",
              "      <td>0.03237</td>\n",
              "      <td>0.0</td>\n",
              "      <td>2.18</td>\n",
              "      <td>0.0</td>\n",
              "      <td>0.458</td>\n",
              "      <td>6.998</td>\n",
              "      <td>45.8</td>\n",
              "      <td>6.0622</td>\n",
              "      <td>3.0</td>\n",
              "      <td>222.0</td>\n",
              "      <td>18.7</td>\n",
              "      <td>394.63</td>\n",
              "      <td>2.94</td>\n",
              "      <td>33.4</td>\n",
              "    </tr>\n",
              "    <tr>\n",
              "      <th>4</th>\n",
              "      <td>0.06905</td>\n",
              "      <td>0.0</td>\n",
              "      <td>2.18</td>\n",
              "      <td>0.0</td>\n",
              "      <td>0.458</td>\n",
              "      <td>7.147</td>\n",
              "      <td>54.2</td>\n",
              "      <td>6.0622</td>\n",
              "      <td>3.0</td>\n",
              "      <td>222.0</td>\n",
              "      <td>18.7</td>\n",
              "      <td>396.90</td>\n",
              "      <td>5.33</td>\n",
              "      <td>36.2</td>\n",
              "    </tr>\n",
              "    <tr>\n",
              "      <th>...</th>\n",
              "      <td>...</td>\n",
              "      <td>...</td>\n",
              "      <td>...</td>\n",
              "      <td>...</td>\n",
              "      <td>...</td>\n",
              "      <td>...</td>\n",
              "      <td>...</td>\n",
              "      <td>...</td>\n",
              "      <td>...</td>\n",
              "      <td>...</td>\n",
              "      <td>...</td>\n",
              "      <td>...</td>\n",
              "      <td>...</td>\n",
              "      <td>...</td>\n",
              "    </tr>\n",
              "    <tr>\n",
              "      <th>501</th>\n",
              "      <td>0.06263</td>\n",
              "      <td>0.0</td>\n",
              "      <td>11.93</td>\n",
              "      <td>0.0</td>\n",
              "      <td>0.573</td>\n",
              "      <td>6.593</td>\n",
              "      <td>69.1</td>\n",
              "      <td>2.4786</td>\n",
              "      <td>1.0</td>\n",
              "      <td>273.0</td>\n",
              "      <td>21.0</td>\n",
              "      <td>391.99</td>\n",
              "      <td>9.67</td>\n",
              "      <td>22.4</td>\n",
              "    </tr>\n",
              "    <tr>\n",
              "      <th>502</th>\n",
              "      <td>0.04527</td>\n",
              "      <td>0.0</td>\n",
              "      <td>11.93</td>\n",
              "      <td>0.0</td>\n",
              "      <td>0.573</td>\n",
              "      <td>6.120</td>\n",
              "      <td>76.7</td>\n",
              "      <td>2.2875</td>\n",
              "      <td>1.0</td>\n",
              "      <td>273.0</td>\n",
              "      <td>21.0</td>\n",
              "      <td>396.90</td>\n",
              "      <td>9.08</td>\n",
              "      <td>20.6</td>\n",
              "    </tr>\n",
              "    <tr>\n",
              "      <th>503</th>\n",
              "      <td>0.06076</td>\n",
              "      <td>0.0</td>\n",
              "      <td>11.93</td>\n",
              "      <td>0.0</td>\n",
              "      <td>0.573</td>\n",
              "      <td>6.976</td>\n",
              "      <td>91.0</td>\n",
              "      <td>2.1675</td>\n",
              "      <td>1.0</td>\n",
              "      <td>273.0</td>\n",
              "      <td>21.0</td>\n",
              "      <td>396.90</td>\n",
              "      <td>5.64</td>\n",
              "      <td>23.9</td>\n",
              "    </tr>\n",
              "    <tr>\n",
              "      <th>504</th>\n",
              "      <td>0.10959</td>\n",
              "      <td>0.0</td>\n",
              "      <td>11.93</td>\n",
              "      <td>0.0</td>\n",
              "      <td>0.573</td>\n",
              "      <td>6.794</td>\n",
              "      <td>89.3</td>\n",
              "      <td>2.3889</td>\n",
              "      <td>1.0</td>\n",
              "      <td>273.0</td>\n",
              "      <td>21.0</td>\n",
              "      <td>393.45</td>\n",
              "      <td>6.48</td>\n",
              "      <td>22.0</td>\n",
              "    </tr>\n",
              "    <tr>\n",
              "      <th>505</th>\n",
              "      <td>0.04741</td>\n",
              "      <td>0.0</td>\n",
              "      <td>11.93</td>\n",
              "      <td>0.0</td>\n",
              "      <td>0.573</td>\n",
              "      <td>6.030</td>\n",
              "      <td>80.8</td>\n",
              "      <td>2.5050</td>\n",
              "      <td>1.0</td>\n",
              "      <td>273.0</td>\n",
              "      <td>21.0</td>\n",
              "      <td>396.90</td>\n",
              "      <td>7.88</td>\n",
              "      <td>11.9</td>\n",
              "    </tr>\n",
              "  </tbody>\n",
              "</table>\n",
              "<p>506 rows × 14 columns</p>\n",
              "</div>"
            ],
            "text/plain": [
              "        CRIM    ZN  INDUS  CHAS    NOX  ...    TAX  PTRATIO       B  LSTAT  PRICE\n",
              "0    0.00632  18.0   2.31   0.0  0.538  ...  296.0     15.3  396.90   4.98   24.0\n",
              "1    0.02731   0.0   7.07   0.0  0.469  ...  242.0     17.8  396.90   9.14   21.6\n",
              "2    0.02729   0.0   7.07   0.0  0.469  ...  242.0     17.8  392.83   4.03   34.7\n",
              "3    0.03237   0.0   2.18   0.0  0.458  ...  222.0     18.7  394.63   2.94   33.4\n",
              "4    0.06905   0.0   2.18   0.0  0.458  ...  222.0     18.7  396.90   5.33   36.2\n",
              "..       ...   ...    ...   ...    ...  ...    ...      ...     ...    ...    ...\n",
              "501  0.06263   0.0  11.93   0.0  0.573  ...  273.0     21.0  391.99   9.67   22.4\n",
              "502  0.04527   0.0  11.93   0.0  0.573  ...  273.0     21.0  396.90   9.08   20.6\n",
              "503  0.06076   0.0  11.93   0.0  0.573  ...  273.0     21.0  396.90   5.64   23.9\n",
              "504  0.10959   0.0  11.93   0.0  0.573  ...  273.0     21.0  393.45   6.48   22.0\n",
              "505  0.04741   0.0  11.93   0.0  0.573  ...  273.0     21.0  396.90   7.88   11.9\n",
              "\n",
              "[506 rows x 14 columns]"
            ]
          },
          "metadata": {},
          "execution_count": 3
        }
      ]
    },
    {
      "cell_type": "markdown",
      "metadata": {
        "id": "mWVFeumCeM0M"
      },
      "source": [
        "Bu veri setine baktığımızda 506 satır(gözlem) 14 sütundan (öznitelik) olduğu görülüyor. Bu sütunların ne anlam taşıdığına detaylı bakalım.\n",
        "\n",
        "**CRIM**: şehre göre kişi başına suç oranı\n",
        "\n",
        "**ZN** : 25.000 sq.ft'den büyük parseller için imar edilen konut arazisinin oranı\n",
        "\n",
        "**INDUS** : kasaba başına perakende olmayan iş akarı oranı\n",
        "\n",
        "**CHAS** :Charles River kukla değişkeni (eğer yol nehirle sınırlanıyorsa 1; aksi halde 0)\n",
        "\n",
        "**NOX** : nitrik oksit konsantrasyonu (10 milyonda bir)\n",
        "\n",
        "**RM** : konut başına ortalama oda sayısı\n",
        "\n",
        "**AGE** : 1940'tan önce inşa edilmiş sahibi tarafından kullanılan birimlerin oranı\n",
        "\n",
        "**DIS** : beş Boston iş merkezine olan ağırlıklı mesafeler\n",
        "\n",
        "**RAD**: radyal otoyollara erişilebilirlik endeksi\n",
        "\n",
        "**TAX**: 10.000 USD başına tam değer emlak vergisi oranı\n",
        "\n",
        "**PTRATIO**: şehre göre öğrenci-öğretmen oranı\n",
        "\n",
        "**B** : 1000(Bk — 0.63)², burada Bk (Afrika kökenli Amerikalıların) şehre göre oranıdır\n",
        "\n",
        "**LSTAT**: nüfustaki statüsü düşük olanların yüzdesi\n",
        "\n",
        "**PRICE** : ev fiyatı"
      ]
    },
    {
      "cell_type": "markdown",
      "metadata": {
        "id": "y8vmlFnbg5Nc"
      },
      "source": [
        "Veriyi anladığımıza göre veri setindeki değişken türlerini belirleyelim.\n",
        "\n",
        "* **Kategorik değişkenler** : CHAS, RAD\n",
        "\n",
        "* **Sürekli değişkenler**: CRIM, ZN, INDUS, NOX,RM,AGE, DIS, TAX,PTRATIO, B, LSTAT\n",
        "\n",
        "* **Hedef değişken** :PRICE\n"
      ]
    },
    {
      "cell_type": "code",
      "metadata": {
        "id": "aU5B3wFXeL2X"
      },
      "source": [
        "categorical_variables = ['CHAS', 'RAD']\n",
        "continuous_variables = ['CRIM', 'ZN', 'INDUS', 'NOX', 'RM', 'AGE', 'DIS', 'TAX',\n",
        "       'PTRATIO', 'B', 'LSTAT']\n",
        "target = ['PRICE']"
      ],
      "execution_count": 4,
      "outputs": []
    },
    {
      "cell_type": "markdown",
      "metadata": {
        "id": "vs_aITBjhH4W"
      },
      "source": [
        "Gerekli değişkenler tespit edildiğine göre Keşifçi Veri Analizi için yazdığımız ProfillingReport sınıfından nesne oluşturma zamanıdır.\n"
      ]
    },
    {
      "cell_type": "code",
      "metadata": {
        "id": "ELnLaUwog_dk"
      },
      "source": [
        "pr=ProfillingReport(df, continuous_variables,\n",
        "               categorical_variables,\n",
        "               target)"
      ],
      "execution_count": 5,
      "outputs": []
    },
    {
      "cell_type": "markdown",
      "metadata": {
        "id": "IpY3LiuuhNi4"
      },
      "source": [
        "Aşağıdaki kod bloğunda, veri setinde bulunan veri tiplerine bakmak istediğimizde pr.data_types() ve pr.df.info() araçları bize fikir verecektir. Aşağıda görüldüğü üzere çok farklı tipte verilere sahibiz.\n"
      ]
    },
    {
      "cell_type": "code",
      "metadata": {
        "colab": {
          "base_uri": "https://localhost:8080/",
          "height": 247
        },
        "id": "nFFMpnqchK9h",
        "outputId": "751497d6-b309-4eb7-b3d1-c293c1f66e04"
      },
      "source": [
        "pr.data_types()\n"
      ],
      "execution_count": 6,
      "outputs": [
        {
          "output_type": "display_data",
          "data": {
            "image/png": "[encoded data removed]",
            "text/plain": [
              "<Figure size 432x288 with 1 Axes>"
            ]
          },
          "metadata": {}
        }
      ]
    },
    {
      "cell_type": "code",
      "metadata": {
        "colab": {
          "base_uri": "https://localhost:8080/"
        },
        "id": "zYsEp5JWhU_u",
        "outputId": "4b608822-172f-4bee-9839-d93ea55a2a63"
      },
      "source": [
        "pr.df.info()\n"
      ],
      "execution_count": 7,
      "outputs": [
        {
          "output_type": "stream",
          "name": "stdout",
          "text": [
            "<class 'pandas.core.frame.DataFrame'>\n",
            "RangeIndex: 506 entries, 0 to 505\n",
            "Data columns (total 14 columns):\n",
            " #   Column   Non-Null Count  Dtype  \n",
            "---  ------   --------------  -----  \n",
            " 0   CRIM     506 non-null    float64\n",
            " 1   ZN       506 non-null    float64\n",
            " 2   INDUS    506 non-null    float64\n",
            " 3   CHAS     506 non-null    float64\n",
            " 4   NOX      506 non-null    float64\n",
            " 5   RM       506 non-null    float64\n",
            " 6   AGE      506 non-null    float64\n",
            " 7   DIS      506 non-null    float64\n",
            " 8   RAD      506 non-null    float64\n",
            " 9   TAX      506 non-null    float64\n",
            " 10  PTRATIO  506 non-null    float64\n",
            " 11  B        506 non-null    float64\n",
            " 12  LSTAT    506 non-null    float64\n",
            " 13  PRICE    506 non-null    float64\n",
            "dtypes: float64(14)\n",
            "memory usage: 55.5 KB\n"
          ]
        }
      ]
    },
    {
      "cell_type": "markdown",
      "metadata": {
        "id": "NTde-dUKhYKk"
      },
      "source": [
        "\n",
        "\n",
        "Aşağıdaki kod bloğunda, veri setinde kayıp hücre miktarını öğrenmek için missing_cell_count() metodu kullanıldığında bize veri setinde genel olarak ne kadar kayıp hücre olduğu hakkında fikir veriyor. Veri setinde kayıp hücre olmadığından veri temizleme kısmında kayıp hücre işlemeleri yapmamıza gerk yoktur.\n"
      ]
    },
    {
      "cell_type": "code",
      "metadata": {
        "colab": {
          "base_uri": "https://localhost:8080/",
          "height": 247
        },
        "id": "z-0R0bw1hWjQ",
        "outputId": "b7532d6e-a087-4f9f-f702-24411a3dfe93"
      },
      "source": [
        "pr.missing_cell_count()"
      ],
      "execution_count": 8,
      "outputs": [
        {
          "output_type": "display_data",
          "data": {
            "image/png": "[encoded data removed]",
            "text/plain": [
              "<Figure size 432x288 with 1 Axes>"
            ]
          },
          "metadata": {}
        }
      ]
    },
    {
      "cell_type": "markdown",
      "metadata": {
        "id": "BcokcqLuhpIz"
      },
      "source": [
        "Ve veri setimizde tekarlı bir şekilde yer alan örnekleri(satırlar) duplicate_row_count() metodu ile tespit ettiğimizde %0'lik bir değer elde ediyoruz. Bu sayede veri işleme bölümünde bu tekarlı verileri kaldırma işlemi ile uğraşmayacağız. Eğer yinelenen gözlemler olsaydı onları atmamız gerekirdi. Çünkü makine öğrenmesi modeli eğitiminde model negatif yönde etkilenebilir.\n",
        "\n"
      ]
    },
    {
      "cell_type": "code",
      "metadata": {
        "colab": {
          "base_uri": "https://localhost:8080/",
          "height": 247
        },
        "id": "2LlGNT15hoc1",
        "outputId": "bf3e3064-c96b-4e07-8924-2e7861aab073"
      },
      "source": [
        "pr.duplicate_row_count()"
      ],
      "execution_count": 9,
      "outputs": [
        {
          "output_type": "display_data",
          "data": {
            "image/png": "[encoded data removed]",
            "text/plain": [
              "<Figure size 432x288 with 1 Axes>"
            ]
          },
          "metadata": {}
        }
      ]
    },
    {
      "cell_type": "markdown",
      "metadata": {
        "id": "8qXz65zphrdi"
      },
      "source": [
        "Veri setinde bulunan özniteliklerin dağılımları aşağıda detaylı olarak inceleyebiliriz. Evlerin genel olarak fiyat dağılımı nasıl? Suç oranları nasıl ? Nitrik oksit konsantrasyonu genel olarak nasıl bir dağılım içinde ? Emlak vergileri oranları dağılımı nasıl? Bölgedeki  öğrenci-öğretmen oranı dağılımı nasıl? gibi sorulara cevap verebilir.Buraya bakarak veri setinin hikayesini bi özet geçmiş gibi olursunuz. (Bu kısmı size bırakıyorum. Çünkü kitabımızda nasıl yorum yapacağımız hakkında sizinle fikirler paylaşmıştım.)"
      ]
    },
    {
      "cell_type": "code",
      "metadata": {
        "colab": {
          "base_uri": "https://localhost:8080/",
          "height": 1000
        },
        "id": "4dgoO5zThwD0",
        "outputId": "2187b0fc-7d73-432d-c06c-4de0007305ef"
      },
      "source": [
        "pr.visualize_distribution()"
      ],
      "execution_count": 10,
      "outputs": [
        {
          "output_type": "display_data",
          "data": {
            "image/png": "[encoded data removed]",
            "text/plain": [
              "<Figure size 432x288 with 1 Axes>"
            ]
          },
          "metadata": {
            "needs_background": "light"
          }
        },
        {
          "output_type": "display_data",
          "data": {
            "image/png": "[encoded data removed]",
            "text/plain": [
              "<Figure size 432x288 with 1 Axes>"
            ]
          },
          "metadata": {
            "needs_background": "light"
          }
        },
        {
          "output_type": "display_data",
          "data": {
            "image/png": "[encoded data removed]",
            "text/plain": [
              "<Figure size 432x288 with 1 Axes>"
            ]
          },
          "metadata": {
            "needs_background": "light"
          }
        },
        {
          "output_type": "display_data",
          "data": {
            "image/png": "[encoded data removed]",
            "text/plain": [
              "<Figure size 432x288 with 1 Axes>"
            ]
          },
          "metadata": {
            "needs_background": "light"
          }
        },
        {
          "output_type": "display_data",
          "data": {
            "image/png": "[encoded data removed]",
            "text/plain": [
              "<Figure size 432x288 with 1 Axes>"
            ]
          },
          "metadata": {
            "needs_background": "light"
          }
        },
        {
          "output_type": "display_data",
          "data": {
            "image/png": "[encoded data removed]",
            "text/plain": [
              "<Figure size 432x288 with 1 Axes>"
            ]
          },
          "metadata": {
            "needs_background": "light"
          }
        },
        {
          "output_type": "display_data",
          "data": {
            "image/png": "[encoded data removed]",
            "text/plain": [
              "<Figure size 432x288 with 1 Axes>"
            ]
          },
          "metadata": {
            "needs_background": "light"
          }
        },
        {
          "output_type": "display_data",
          "data": {
            "image/png": "[encoded data removed]",
            "text/plain": [
              "<Figure size 432x288 with 1 Axes>"
            ]
          },
          "metadata": {
            "needs_background": "light"
          }
        },
        {
          "output_type": "display_data",
          "data": {
            "image/png": "[encoded data removed]",
            "text/plain": [
              "<Figure size 432x288 with 1 Axes>"
            ]
          },
          "metadata": {
            "needs_background": "light"
          }
        },
        {
          "output_type": "display_data",
          "data": {
            "image/png": "[encoded data removed]",
            "text/plain": [
              "<Figure size 432x288 with 1 Axes>"
            ]
          },
          "metadata": {
            "needs_background": "light"
          }
        },
        {
          "output_type": "display_data",
          "data": {
            "image/png": "[encoded data removed]",
            "text/plain": [
              "<Figure size 432x288 with 1 Axes>"
            ]
          },
          "metadata": {
            "needs_background": "light"
          }
        },
        {
          "output_type": "display_data",
          "data": {
            "image/png": "[encoded data removed]",
            "text/plain": [
              "<Figure size 432x288 with 1 Axes>"
            ]
          },
          "metadata": {
            "needs_background": "light"
          }
        },
        {
          "output_type": "display_data",
          "data": {
            "image/png": "[encoded data removed]",
            "text/plain": [
              "<Figure size 432x288 with 1 Axes>"
            ]
          },
          "metadata": {
            "needs_background": "light"
          }
        },
        {
          "output_type": "display_data",
          "data": {
            "image/png": "[encoded data removed]",
            "text/plain": [
              "<Figure size 432x288 with 1 Axes>"
            ]
          },
          "metadata": {
            "needs_background": "light"
          }
        }
      ]
    },
    {
      "cell_type": "markdown",
      "metadata": {
        "id": "Mp8mJE9_Oahn"
      },
      "source": [
        "Aşağıda,veri setindeki sürekli değişkenlerden CRIM özniteliğini detaylı incelersek. Aşağıdaki notları çıkarabiliriz.\n"
      ]
    },
    {
      "cell_type": "markdown",
      "metadata": {
        "id": "z79VrnwBhwrM"
      },
      "source": [
        "Veri setindeki bir özelliğin merkezi eğilim ölçülerini ve dağılım ölçülerini incelemek için sırasıyla central_tendency_measures_of_a_feature() ve dispersion_measures_of_a_feature()  metodları kullanıyor. Aşağıdaki hücrenin çıktısı incelendiğinde veri setinde CRIM değişkenin merkezi eğilim ölçülerini ve dağılım ölçüleri bulunuyor. Merkezi eğilim ölçülerinden mode(mod) değerine bakıldığında 0.1501 değeri görülüyor. Mod bize,  0.1501 değerinin veri kümesinde en sık gözlenen değeri olduğunu söyler. Diğer merkezi eğilim ölçülerinden median(medyan) ve mean (ortalama) değerlerine bakıldığında aradaki büyük farktan dolayı verinin normal dağılmadığını direkt görüyoruz. Bunu detaylı görmek için dağılım grafiğine bakabiliriz. Grafikte de görüldüğü üzere CRIM değişkeninde normal bir dağılım yerine sola bir çarpıklık gösteriyor. Bunu ayrıca Skewness(çarpıklık) değerini incelediğimizde  de görüyoruz. \n",
        "Diğer değerlere sırasıyla bakacak olursak, \n",
        "\n",
        "* count, 506 değeri ile bu değişkenin sahip olduğu 506 tane gözlem olduğunu söyler.\n",
        "* std (standart sapma), 8.6 olması ortalamın etrafındaki 8.6 değerinde bir dağılım sonucu çıkar.\n",
        "* min (minimum), 0.00632 olması veri setindeki en küçük değerin 0.00632 olduğunu belirtir. \n",
        "* 25% , değişkenin birinci çeyrekteki değerin yaklaşık 0.082 olduğunu belirti.\n",
        "* 50% , ikinci çeyrekteki değerin 0.25651 olduğunu belirtir.\n",
        "* 75% , üçüncü çeyrekteki değerin 3.6770825 olduğunu belirtir.\n",
        "* max (maksimum),  88.9762 olması veri setindeki en büyük değerin 88.9762 olduğunu belirtir. \n",
        "* Kurtosis (basıklık), yaklaşık 37.13 olması dağılımın doruğa çıktığını söyler.\n",
        "\n",
        "Uyarı : Bu değer yorumlamasını unuttuysanız, lütfen “Veri setindeki bir özelliğin dağılım ölçülerinin grafiğinin metodunu ekleme “ kısmına bakınız.\n",
        "\n",
        "Ve son olarak aşağıda yer alan box-plot(kutu grafiği) incelendiğinde aykırı gözlemlerin olduğunu ve bunların yaklıkş 8.5 değerinden sonra olanlar olduğu gözüküyor.\n",
        "\n",
        "Bu iki metodu kullanarak diğer sürekli değişkenleri inceleyebilirsiniz.\n"
      ]
    },
    {
      "cell_type": "code",
      "metadata": {
        "colab": {
          "base_uri": "https://localhost:8080/",
          "height": 557
        },
        "id": "UwUKiqANh4lu",
        "outputId": "b28eff0c-0c37-46aa-ec0a-882afb3de2c0"
      },
      "source": [
        "pr.central_tendency_measures_of_a_feature(\"CRIM\")\n",
        "pr.dispersion_measures_of_a_feature(\"CRIM\")\n"
      ],
      "execution_count": 11,
      "outputs": [
        {
          "output_type": "display_data",
          "data": {
            "image/png": "[encoded data removed]",
            "text/plain": [
              "<Figure size 432x288 with 1 Axes>"
            ]
          },
          "metadata": {
            "needs_background": "light"
          }
        },
        {
          "output_type": "display_data",
          "data": {
            "image/png": "[encoded data removed]",
            "text/plain": [
              "<Figure size 432x288 with 2 Axes>"
            ]
          },
          "metadata": {
            "needs_background": "light"
          }
        }
      ]
    },
    {
      "cell_type": "markdown",
      "metadata": {
        "id": "TtFM2w-1h3C2"
      },
      "source": [
        "Veri setindeki sürekli değişkenlerin kovaryans değerlerini incelemek için covariance_matrix() metodu kullanılıyor. Kovaryans grafiğinin çıktısını PRICE değişkeni yani ev fiyatı değişkeni üzerinde incelersek, LSTAT (nüfustaki statüsü düşük olanların yüzdesi) değişkeni ile incelendiğinde -48 değeri karşılar. Bunun anlamı negatif işaretinden dolayı ters yön eğilimindedir. Başka bir deyişle nüfustaki düşük statüde olanların yüzdesi arttıkça ev fiyatlarının düştüğü çıkarımı yapılır. Bunu grafiksel olarak görmek için aşağıdaki ilk kod hücresinin çıktısına baktığımızda da görebiliriz. Ve PRICE ile RM (konut başına ortalama oda sayısı) değişkenleri arasındaki kovaryans değerine baktığımızda ise 4.5 değeri karşılar. Bunun anlamı pozitif işaretinden dolayı aynı yön eğilimindedir. Başka bir deyişle konut başına ortalama oda sayısı  arttıkça ev fiyatlarının arttığı çıkarımı yapılır. Bunu grafiksel olarak görmek için aşağıdaki ikinci kod hücresinin çıktısına baktığımızda da görebiliriz.\n"
      ]
    },
    {
      "cell_type": "code",
      "metadata": {
        "colab": {
          "base_uri": "https://localhost:8080/",
          "height": 645
        },
        "id": "VzhcXJF76bk6",
        "outputId": "23e1552d-ed22-45c5-c74b-78daf24a146d"
      },
      "source": [
        "pr.covariance_matrix()\n"
      ],
      "execution_count": 12,
      "outputs": [
        {
          "output_type": "display_data",
          "data": {
            "image/png": "[encoded data removed]",
            "text/plain": [
              "<Figure size 792x792 with 2 Axes>"
            ]
          },
          "metadata": {
            "needs_background": "light"
          }
        }
      ]
    },
    {
      "cell_type": "code",
      "metadata": {
        "colab": {
          "base_uri": "https://localhost:8080/",
          "height": 441
        },
        "id": "Wo3eERdd6hvI",
        "outputId": "31e30789-e12a-4294-ea67-35a47c3e9330"
      },
      "source": [
        "pr.jointplot(\"PRICE\",\"LSTAT\")\n"
      ],
      "execution_count": 13,
      "outputs": [
        {
          "output_type": "display_data",
          "data": {
            "image/png": "[encoded data removed]",
            "text/plain": [
              "<Figure size 432x432 with 3 Axes>"
            ]
          },
          "metadata": {
            "needs_background": "light"
          }
        }
      ]
    },
    {
      "cell_type": "code",
      "metadata": {
        "colab": {
          "base_uri": "https://localhost:8080/",
          "height": 441
        },
        "id": "zinmkzPF6kNR",
        "outputId": "03cebd3c-f462-4ea4-cc9c-e9a54745c6c8"
      },
      "source": [
        "pr.jointplot(\"PRICE\",\"RM\")\n"
      ],
      "execution_count": 14,
      "outputs": [
        {
          "output_type": "display_data",
          "data": {
            "image/png": "[encoded data removed]",
            "text/plain": [
              "<Figure size 432x432 with 3 Axes>"
            ]
          },
          "metadata": {
            "needs_background": "light"
          }
        }
      ]
    },
    {
      "cell_type": "markdown",
      "metadata": {
        "id": "6Mvj6rpE67TI"
      },
      "source": [
        "\n",
        "Veri setindeki sürekli değişkenlerin doğrusal ilişkisini (korelasyon katsayısı) incelemek için correlation_analysis() metodu kullanılıyor. Korelasyon katsayısı, iki değişkenin kovaryansını, bu iki değişkenin standart sapmalarının çarpımına bölünmesiyle hesaplanıyor. Kovaryans değerlerinde yönelime bakarken burada ek olarak lineer olarak aradaki ilişkiyi oransal olarak çıktısını alıyoruz. Çıktıya bakıldığında yukarıdaki PRICE-LSTAT ve PRICE-RM  arasındaki ilişkileri sırasıyla -73.77% ve 69.54% oranda lineer ilişki olduğunu söylenebilinir. İşaret negatif ise zıt, pozitif ise aynı yönlü olarak yorumlanır. \n"
      ]
    },
    {
      "cell_type": "code",
      "metadata": {
        "colab": {
          "base_uri": "https://localhost:8080/",
          "height": 645
        },
        "id": "V7IBSEZg66jB",
        "outputId": "ed4a4a32-7975-48f4-fd3b-7f9f021185c3"
      },
      "source": [
        "pr.correlation_analysis()\n"
      ],
      "execution_count": 15,
      "outputs": [
        {
          "output_type": "display_data",
          "data": {
            "image/png": "[encoded data removed]",
            "text/plain": [
              "<Figure size 792x792 with 2 Axes>"
            ]
          },
          "metadata": {
            "needs_background": "light"
          }
        }
      ]
    },
    {
      "cell_type": "markdown",
      "metadata": {
        "id": "BMkFerod7F02"
      },
      "source": [
        "# 2. Veri Temizleme"
      ]
    },
    {
      "cell_type": "markdown",
      "metadata": {
        "id": "XXXj6g157iB0"
      },
      "source": [
        "Veriyi temizlemeye geçmeden önce makine öğrenmesi için hedef değişken(tahmin edilmek istenen) (y) ile tahmin edici değişkenleri (X)(bağımsız değişkenler) veriyi doğru bölmek için ayırmamız gerekiyor.\n"
      ]
    },
    {
      "cell_type": "code",
      "metadata": {
        "id": "TbfLTqCO7kHT"
      },
      "source": [
        "y=df.loc[:,'PRICE']\n",
        "X=df.loc[:,[ 'CRIM', 'ZN', 'INDUS', 'CHAS', 'NOX', 'RM', 'AGE', 'DIS', 'RAD', 'TAX',\n",
        "       'PTRATIO', 'B', 'LSTAT']]"
      ],
      "execution_count": 16,
      "outputs": []
    },
    {
      "cell_type": "markdown",
      "metadata": {
        "id": "9G5FZSIVL69d"
      },
      "source": [
        "Bağımlı değişkenlere göz atalım.\n"
      ]
    },
    {
      "cell_type": "code",
      "metadata": {
        "colab": {
          "base_uri": "https://localhost:8080/",
          "height": 406
        },
        "id": "xelvcR0X7zNu",
        "outputId": "7b99f3f8-7dc1-4c87-a3d6-1839bf0f4665"
      },
      "source": [
        "X"
      ],
      "execution_count": 17,
      "outputs": [
        {
          "output_type": "execute_result",
          "data": {
            "text/html": [
              "<div>\n",
              "<style scoped>\n",
              "    .dataframe tbody tr th:only-of-type {\n",
              "        vertical-align: middle;\n",
              "    }\n",
              "\n",
              "    .dataframe tbody tr th {\n",
              "        vertical-align: top;\n",
              "    }\n",
              "\n",
              "    .dataframe thead th {\n",
              "        text-align: right;\n",
              "    }\n",
              "</style>\n",
              "<table border=\"1\" class=\"dataframe\">\n",
              "  <thead>\n",
              "    <tr style=\"text-align: right;\">\n",
              "      <th></th>\n",
              "      <th>CRIM</th>\n",
              "      <th>ZN</th>\n",
              "      <th>INDUS</th>\n",
              "      <th>CHAS</th>\n",
              "      <th>NOX</th>\n",
              "      <th>RM</th>\n",
              "      <th>AGE</th>\n",
              "      <th>DIS</th>\n",
              "      <th>RAD</th>\n",
              "      <th>TAX</th>\n",
              "      <th>PTRATIO</th>\n",
              "      <th>B</th>\n",
              "      <th>LSTAT</th>\n",
              "    </tr>\n",
              "  </thead>\n",
              "  <tbody>\n",
              "    <tr>\n",
              "      <th>0</th>\n",
              "      <td>0.00632</td>\n",
              "      <td>18.0</td>\n",
              "      <td>2.31</td>\n",
              "      <td>0.0</td>\n",
              "      <td>0.538</td>\n",
              "      <td>6.575</td>\n",
              "      <td>65.2</td>\n",
              "      <td>4.0900</td>\n",
              "      <td>1.0</td>\n",
              "      <td>296.0</td>\n",
              "      <td>15.3</td>\n",
              "      <td>396.90</td>\n",
              "      <td>4.98</td>\n",
              "    </tr>\n",
              "    <tr>\n",
              "      <th>1</th>\n",
              "      <td>0.02731</td>\n",
              "      <td>0.0</td>\n",
              "      <td>7.07</td>\n",
              "      <td>0.0</td>\n",
              "      <td>0.469</td>\n",
              "      <td>6.421</td>\n",
              "      <td>78.9</td>\n",
              "      <td>4.9671</td>\n",
              "      <td>2.0</td>\n",
              "      <td>242.0</td>\n",
              "      <td>17.8</td>\n",
              "      <td>396.90</td>\n",
              "      <td>9.14</td>\n",
              "    </tr>\n",
              "    <tr>\n",
              "      <th>2</th>\n",
              "      <td>0.02729</td>\n",
              "      <td>0.0</td>\n",
              "      <td>7.07</td>\n",
              "      <td>0.0</td>\n",
              "      <td>0.469</td>\n",
              "      <td>7.185</td>\n",
              "      <td>61.1</td>\n",
              "      <td>4.9671</td>\n",
              "      <td>2.0</td>\n",
              "      <td>242.0</td>\n",
              "      <td>17.8</td>\n",
              "      <td>392.83</td>\n",
              "      <td>4.03</td>\n",
              "    </tr>\n",
              "    <tr>\n",
              "      <th>3</th>\n",
              "      <td>0.03237</td>\n",
              "      <td>0.0</td>\n",
              "      <td>2.18</td>\n",
              "      <td>0.0</td>\n",
              "      <td>0.458</td>\n",
              "      <td>6.998</td>\n",
              "      <td>45.8</td>\n",
              "      <td>6.0622</td>\n",
              "      <td>3.0</td>\n",
              "      <td>222.0</td>\n",
              "      <td>18.7</td>\n",
              "      <td>394.63</td>\n",
              "      <td>2.94</td>\n",
              "    </tr>\n",
              "    <tr>\n",
              "      <th>4</th>\n",
              "      <td>0.06905</td>\n",
              "      <td>0.0</td>\n",
              "      <td>2.18</td>\n",
              "      <td>0.0</td>\n",
              "      <td>0.458</td>\n",
              "      <td>7.147</td>\n",
              "      <td>54.2</td>\n",
              "      <td>6.0622</td>\n",
              "      <td>3.0</td>\n",
              "      <td>222.0</td>\n",
              "      <td>18.7</td>\n",
              "      <td>396.90</td>\n",
              "      <td>5.33</td>\n",
              "    </tr>\n",
              "    <tr>\n",
              "      <th>...</th>\n",
              "      <td>...</td>\n",
              "      <td>...</td>\n",
              "      <td>...</td>\n",
              "      <td>...</td>\n",
              "      <td>...</td>\n",
              "      <td>...</td>\n",
              "      <td>...</td>\n",
              "      <td>...</td>\n",
              "      <td>...</td>\n",
              "      <td>...</td>\n",
              "      <td>...</td>\n",
              "      <td>...</td>\n",
              "      <td>...</td>\n",
              "    </tr>\n",
              "    <tr>\n",
              "      <th>501</th>\n",
              "      <td>0.06263</td>\n",
              "      <td>0.0</td>\n",
              "      <td>11.93</td>\n",
              "      <td>0.0</td>\n",
              "      <td>0.573</td>\n",
              "      <td>6.593</td>\n",
              "      <td>69.1</td>\n",
              "      <td>2.4786</td>\n",
              "      <td>1.0</td>\n",
              "      <td>273.0</td>\n",
              "      <td>21.0</td>\n",
              "      <td>391.99</td>\n",
              "      <td>9.67</td>\n",
              "    </tr>\n",
              "    <tr>\n",
              "      <th>502</th>\n",
              "      <td>0.04527</td>\n",
              "      <td>0.0</td>\n",
              "      <td>11.93</td>\n",
              "      <td>0.0</td>\n",
              "      <td>0.573</td>\n",
              "      <td>6.120</td>\n",
              "      <td>76.7</td>\n",
              "      <td>2.2875</td>\n",
              "      <td>1.0</td>\n",
              "      <td>273.0</td>\n",
              "      <td>21.0</td>\n",
              "      <td>396.90</td>\n",
              "      <td>9.08</td>\n",
              "    </tr>\n",
              "    <tr>\n",
              "      <th>503</th>\n",
              "      <td>0.06076</td>\n",
              "      <td>0.0</td>\n",
              "      <td>11.93</td>\n",
              "      <td>0.0</td>\n",
              "      <td>0.573</td>\n",
              "      <td>6.976</td>\n",
              "      <td>91.0</td>\n",
              "      <td>2.1675</td>\n",
              "      <td>1.0</td>\n",
              "      <td>273.0</td>\n",
              "      <td>21.0</td>\n",
              "      <td>396.90</td>\n",
              "      <td>5.64</td>\n",
              "    </tr>\n",
              "    <tr>\n",
              "      <th>504</th>\n",
              "      <td>0.10959</td>\n",
              "      <td>0.0</td>\n",
              "      <td>11.93</td>\n",
              "      <td>0.0</td>\n",
              "      <td>0.573</td>\n",
              "      <td>6.794</td>\n",
              "      <td>89.3</td>\n",
              "      <td>2.3889</td>\n",
              "      <td>1.0</td>\n",
              "      <td>273.0</td>\n",
              "      <td>21.0</td>\n",
              "      <td>393.45</td>\n",
              "      <td>6.48</td>\n",
              "    </tr>\n",
              "    <tr>\n",
              "      <th>505</th>\n",
              "      <td>0.04741</td>\n",
              "      <td>0.0</td>\n",
              "      <td>11.93</td>\n",
              "      <td>0.0</td>\n",
              "      <td>0.573</td>\n",
              "      <td>6.030</td>\n",
              "      <td>80.8</td>\n",
              "      <td>2.5050</td>\n",
              "      <td>1.0</td>\n",
              "      <td>273.0</td>\n",
              "      <td>21.0</td>\n",
              "      <td>396.90</td>\n",
              "      <td>7.88</td>\n",
              "    </tr>\n",
              "  </tbody>\n",
              "</table>\n",
              "<p>506 rows × 13 columns</p>\n",
              "</div>"
            ],
            "text/plain": [
              "        CRIM    ZN  INDUS  CHAS    NOX  ...  RAD    TAX  PTRATIO       B  LSTAT\n",
              "0    0.00632  18.0   2.31   0.0  0.538  ...  1.0  296.0     15.3  396.90   4.98\n",
              "1    0.02731   0.0   7.07   0.0  0.469  ...  2.0  242.0     17.8  396.90   9.14\n",
              "2    0.02729   0.0   7.07   0.0  0.469  ...  2.0  242.0     17.8  392.83   4.03\n",
              "3    0.03237   0.0   2.18   0.0  0.458  ...  3.0  222.0     18.7  394.63   2.94\n",
              "4    0.06905   0.0   2.18   0.0  0.458  ...  3.0  222.0     18.7  396.90   5.33\n",
              "..       ...   ...    ...   ...    ...  ...  ...    ...      ...     ...    ...\n",
              "501  0.06263   0.0  11.93   0.0  0.573  ...  1.0  273.0     21.0  391.99   9.67\n",
              "502  0.04527   0.0  11.93   0.0  0.573  ...  1.0  273.0     21.0  396.90   9.08\n",
              "503  0.06076   0.0  11.93   0.0  0.573  ...  1.0  273.0     21.0  396.90   5.64\n",
              "504  0.10959   0.0  11.93   0.0  0.573  ...  1.0  273.0     21.0  393.45   6.48\n",
              "505  0.04741   0.0  11.93   0.0  0.573  ...  1.0  273.0     21.0  396.90   7.88\n",
              "\n",
              "[506 rows x 13 columns]"
            ]
          },
          "metadata": {},
          "execution_count": 17
        }
      ]
    },
    {
      "cell_type": "markdown",
      "metadata": {
        "id": "LZ_bwZBIL9V3"
      },
      "source": [
        "Bağımsız değişkene göz atalım.\n"
      ]
    },
    {
      "cell_type": "code",
      "metadata": {
        "colab": {
          "base_uri": "https://localhost:8080/"
        },
        "id": "Iq1uIHXb70C0",
        "outputId": "a26495ab-896f-4107-aaa1-5d62ac895220"
      },
      "source": [
        "y"
      ],
      "execution_count": 18,
      "outputs": [
        {
          "output_type": "execute_result",
          "data": {
            "text/plain": [
              "0      24.0\n",
              "1      21.6\n",
              "2      34.7\n",
              "3      33.4\n",
              "4      36.2\n",
              "       ... \n",
              "501    22.4\n",
              "502    20.6\n",
              "503    23.9\n",
              "504    22.0\n",
              "505    11.9\n",
              "Name: PRICE, Length: 506, dtype: float64"
            ]
          },
          "metadata": {},
          "execution_count": 18
        }
      ]
    },
    {
      "cell_type": "markdown",
      "metadata": {
        "id": "M7gRhBxC73BH"
      },
      "source": [
        "Şimdi veriyi işlemek için veriyi bölmemiz gerekiyor. Veri bölme işlemini Eğitim(Train)-Test(Test) diye ayrım yapıyoruz. Bunun için yukarıdaki kodlarda çağırdığımız train_test_split fonksiyonunu kullanacağız. Aşağıdaki blokta, verinin %67'si eğitim %33'ü test veri seti olarak ayrılıyor. Ve random_state diye adlandırılan parametre ise verinin aynı rastgelelik ile bölünmesini sağlıyor. Yani bu komut çalıştığın eğitim ve test kümesi aynı şekil ayrılacaktır. Kodun çıktısına baktığımızda ise X_train ve y_train eğitim için oluşturulurken, X_test ve y_test ise performansı ölçmek için oluşturuldu.\n"
      ]
    },
    {
      "cell_type": "code",
      "metadata": {
        "id": "V9M2CoK6T5km"
      },
      "source": [
        "X_train, X_test, y_train, y_test = train_test_split(X, y, test_size=0.33, random_state=42)\n"
      ],
      "execution_count": 19,
      "outputs": []
    },
    {
      "cell_type": "markdown",
      "metadata": {
        "id": "omQtEZoXT7q0"
      },
      "source": [
        "Artık veriler ayrıldığına göre bunları bizim veri temizleme sınıfımız olan DataCleaning sınıfına gönderilmek için ayarlayalım . Aşağıdaki kod bloğunda eğitim için oluşturulan X_train ve y_train veri setleri birleştirilip df_train değişkenine atanıyor. Ardında da test için oluşturulan X_test ve y_test veri setleri de birleştirilip df_test değişkenine atanıyor.\n"
      ]
    },
    {
      "cell_type": "code",
      "metadata": {
        "id": "wPYICrZ875VK"
      },
      "source": [
        "#--------------------------------------------#\n",
        "\n",
        "df_train_X = pd.DataFrame(data=X_train.values,columns=X.columns)\n",
        "df_train_y = pd.DataFrame(data=y_train.values,columns=[y.name])\n",
        "\n",
        "\n",
        "df_train = pd.concat([df_train_X, df_train_y],axis=1)\n",
        "\n",
        "#--------------------------------------------#\n",
        "df_test_X = pd.DataFrame(data=X_test.values,columns=X.columns)\n",
        "df_test_y = pd.DataFrame(data=y_test.values,columns=[y.name])\n",
        "\n",
        "df_test = pd.concat([df_test_X, df_test_y],axis=1)"
      ],
      "execution_count": 20,
      "outputs": []
    },
    {
      "cell_type": "markdown",
      "metadata": {
        "id": "ZpJXGWmU78_8"
      },
      "source": [
        "Veri temizlemek için aşağıda DataCleaning sınıfından bir nesne üreterek işlemlere devam edebiliriz.\n"
      ]
    },
    {
      "cell_type": "code",
      "metadata": {
        "id": "fc_dt7QO7_o_"
      },
      "source": [
        "dc=DataCleaning(df_train,df_test)\n"
      ],
      "execution_count": 21,
      "outputs": []
    },
    {
      "cell_type": "markdown",
      "metadata": {
        "id": "FDYS5zRtUEK8"
      },
      "source": [
        "Veri temizleme sınıfında yer alan eğitim veri setine bakmak için aşağıdaki komutu çalıştıralım. Ve göreceğiz ki en başta okuduğumuz veri setinin %67'si eğitim veri setinde olduğunu.\n"
      ]
    },
    {
      "cell_type": "code",
      "metadata": {
        "colab": {
          "base_uri": "https://localhost:8080/",
          "height": 406
        },
        "id": "QzmO7UP18BPW",
        "outputId": "b15718e7-ecf5-40f2-97d9-3840d2ed9d46"
      },
      "source": [
        "dc.df_train\n"
      ],
      "execution_count": 22,
      "outputs": [
        {
          "output_type": "execute_result",
          "data": {
            "text/html": [
              "<div>\n",
              "<style scoped>\n",
              "    .dataframe tbody tr th:only-of-type {\n",
              "        vertical-align: middle;\n",
              "    }\n",
              "\n",
              "    .dataframe tbody tr th {\n",
              "        vertical-align: top;\n",
              "    }\n",
              "\n",
              "    .dataframe thead th {\n",
              "        text-align: right;\n",
              "    }\n",
              "</style>\n",
              "<table border=\"1\" class=\"dataframe\">\n",
              "  <thead>\n",
              "    <tr style=\"text-align: right;\">\n",
              "      <th></th>\n",
              "      <th>CRIM</th>\n",
              "      <th>ZN</th>\n",
              "      <th>INDUS</th>\n",
              "      <th>CHAS</th>\n",
              "      <th>NOX</th>\n",
              "      <th>RM</th>\n",
              "      <th>AGE</th>\n",
              "      <th>DIS</th>\n",
              "      <th>RAD</th>\n",
              "      <th>TAX</th>\n",
              "      <th>PTRATIO</th>\n",
              "      <th>B</th>\n",
              "      <th>LSTAT</th>\n",
              "      <th>PRICE</th>\n",
              "    </tr>\n",
              "  </thead>\n",
              "  <tbody>\n",
              "    <tr>\n",
              "      <th>0</th>\n",
              "      <td>10.23300</td>\n",
              "      <td>0.0</td>\n",
              "      <td>18.10</td>\n",
              "      <td>0.0</td>\n",
              "      <td>0.614</td>\n",
              "      <td>6.185</td>\n",
              "      <td>96.7</td>\n",
              "      <td>2.1705</td>\n",
              "      <td>24.0</td>\n",
              "      <td>666.0</td>\n",
              "      <td>20.2</td>\n",
              "      <td>379.70</td>\n",
              "      <td>18.03</td>\n",
              "      <td>14.6</td>\n",
              "    </tr>\n",
              "    <tr>\n",
              "      <th>1</th>\n",
              "      <td>0.67191</td>\n",
              "      <td>0.0</td>\n",
              "      <td>8.14</td>\n",
              "      <td>0.0</td>\n",
              "      <td>0.538</td>\n",
              "      <td>5.813</td>\n",
              "      <td>90.3</td>\n",
              "      <td>4.6820</td>\n",
              "      <td>4.0</td>\n",
              "      <td>307.0</td>\n",
              "      <td>21.0</td>\n",
              "      <td>376.88</td>\n",
              "      <td>14.81</td>\n",
              "      <td>16.6</td>\n",
              "    </tr>\n",
              "    <tr>\n",
              "      <th>2</th>\n",
              "      <td>0.14455</td>\n",
              "      <td>12.5</td>\n",
              "      <td>7.87</td>\n",
              "      <td>0.0</td>\n",
              "      <td>0.524</td>\n",
              "      <td>6.172</td>\n",
              "      <td>96.1</td>\n",
              "      <td>5.9505</td>\n",
              "      <td>5.0</td>\n",
              "      <td>311.0</td>\n",
              "      <td>15.2</td>\n",
              "      <td>396.90</td>\n",
              "      <td>19.15</td>\n",
              "      <td>27.1</td>\n",
              "    </tr>\n",
              "    <tr>\n",
              "      <th>3</th>\n",
              "      <td>0.11132</td>\n",
              "      <td>0.0</td>\n",
              "      <td>27.74</td>\n",
              "      <td>0.0</td>\n",
              "      <td>0.609</td>\n",
              "      <td>5.983</td>\n",
              "      <td>83.5</td>\n",
              "      <td>2.1099</td>\n",
              "      <td>4.0</td>\n",
              "      <td>711.0</td>\n",
              "      <td>20.1</td>\n",
              "      <td>396.90</td>\n",
              "      <td>13.35</td>\n",
              "      <td>20.1</td>\n",
              "    </tr>\n",
              "    <tr>\n",
              "      <th>4</th>\n",
              "      <td>0.12802</td>\n",
              "      <td>0.0</td>\n",
              "      <td>8.56</td>\n",
              "      <td>0.0</td>\n",
              "      <td>0.520</td>\n",
              "      <td>6.474</td>\n",
              "      <td>97.1</td>\n",
              "      <td>2.4329</td>\n",
              "      <td>5.0</td>\n",
              "      <td>384.0</td>\n",
              "      <td>20.9</td>\n",
              "      <td>395.24</td>\n",
              "      <td>12.27</td>\n",
              "      <td>19.8</td>\n",
              "    </tr>\n",
              "    <tr>\n",
              "      <th>...</th>\n",
              "      <td>...</td>\n",
              "      <td>...</td>\n",
              "      <td>...</td>\n",
              "      <td>...</td>\n",
              "      <td>...</td>\n",
              "      <td>...</td>\n",
              "      <td>...</td>\n",
              "      <td>...</td>\n",
              "      <td>...</td>\n",
              "      <td>...</td>\n",
              "      <td>...</td>\n",
              "      <td>...</td>\n",
              "      <td>...</td>\n",
              "      <td>...</td>\n",
              "    </tr>\n",
              "    <tr>\n",
              "      <th>334</th>\n",
              "      <td>0.17120</td>\n",
              "      <td>0.0</td>\n",
              "      <td>8.56</td>\n",
              "      <td>0.0</td>\n",
              "      <td>0.520</td>\n",
              "      <td>5.836</td>\n",
              "      <td>91.9</td>\n",
              "      <td>2.2110</td>\n",
              "      <td>5.0</td>\n",
              "      <td>384.0</td>\n",
              "      <td>20.9</td>\n",
              "      <td>395.67</td>\n",
              "      <td>18.66</td>\n",
              "      <td>19.5</td>\n",
              "    </tr>\n",
              "    <tr>\n",
              "      <th>335</th>\n",
              "      <td>0.29916</td>\n",
              "      <td>20.0</td>\n",
              "      <td>6.96</td>\n",
              "      <td>0.0</td>\n",
              "      <td>0.464</td>\n",
              "      <td>5.856</td>\n",
              "      <td>42.1</td>\n",
              "      <td>4.4290</td>\n",
              "      <td>3.0</td>\n",
              "      <td>223.0</td>\n",
              "      <td>18.6</td>\n",
              "      <td>388.65</td>\n",
              "      <td>13.00</td>\n",
              "      <td>21.1</td>\n",
              "    </tr>\n",
              "    <tr>\n",
              "      <th>336</th>\n",
              "      <td>0.01501</td>\n",
              "      <td>80.0</td>\n",
              "      <td>2.01</td>\n",
              "      <td>0.0</td>\n",
              "      <td>0.435</td>\n",
              "      <td>6.635</td>\n",
              "      <td>29.7</td>\n",
              "      <td>8.3440</td>\n",
              "      <td>4.0</td>\n",
              "      <td>280.0</td>\n",
              "      <td>17.0</td>\n",
              "      <td>390.94</td>\n",
              "      <td>5.99</td>\n",
              "      <td>24.5</td>\n",
              "    </tr>\n",
              "    <tr>\n",
              "      <th>337</th>\n",
              "      <td>11.16040</td>\n",
              "      <td>0.0</td>\n",
              "      <td>18.10</td>\n",
              "      <td>0.0</td>\n",
              "      <td>0.740</td>\n",
              "      <td>6.629</td>\n",
              "      <td>94.6</td>\n",
              "      <td>2.1247</td>\n",
              "      <td>24.0</td>\n",
              "      <td>666.0</td>\n",
              "      <td>20.2</td>\n",
              "      <td>109.85</td>\n",
              "      <td>23.27</td>\n",
              "      <td>13.4</td>\n",
              "    </tr>\n",
              "    <tr>\n",
              "      <th>338</th>\n",
              "      <td>0.22876</td>\n",
              "      <td>0.0</td>\n",
              "      <td>8.56</td>\n",
              "      <td>0.0</td>\n",
              "      <td>0.520</td>\n",
              "      <td>6.405</td>\n",
              "      <td>85.4</td>\n",
              "      <td>2.7147</td>\n",
              "      <td>5.0</td>\n",
              "      <td>384.0</td>\n",
              "      <td>20.9</td>\n",
              "      <td>70.80</td>\n",
              "      <td>10.63</td>\n",
              "      <td>18.6</td>\n",
              "    </tr>\n",
              "  </tbody>\n",
              "</table>\n",
              "<p>339 rows × 14 columns</p>\n",
              "</div>"
            ],
            "text/plain": [
              "         CRIM    ZN  INDUS  CHAS    NOX  ...    TAX  PTRATIO       B  LSTAT  PRICE\n",
              "0    10.23300   0.0  18.10   0.0  0.614  ...  666.0     20.2  379.70  18.03   14.6\n",
              "1     0.67191   0.0   8.14   0.0  0.538  ...  307.0     21.0  376.88  14.81   16.6\n",
              "2     0.14455  12.5   7.87   0.0  0.524  ...  311.0     15.2  396.90  19.15   27.1\n",
              "3     0.11132   0.0  27.74   0.0  0.609  ...  711.0     20.1  396.90  13.35   20.1\n",
              "4     0.12802   0.0   8.56   0.0  0.520  ...  384.0     20.9  395.24  12.27   19.8\n",
              "..        ...   ...    ...   ...    ...  ...    ...      ...     ...    ...    ...\n",
              "334   0.17120   0.0   8.56   0.0  0.520  ...  384.0     20.9  395.67  18.66   19.5\n",
              "335   0.29916  20.0   6.96   0.0  0.464  ...  223.0     18.6  388.65  13.00   21.1\n",
              "336   0.01501  80.0   2.01   0.0  0.435  ...  280.0     17.0  390.94   5.99   24.5\n",
              "337  11.16040   0.0  18.10   0.0  0.740  ...  666.0     20.2  109.85  23.27   13.4\n",
              "338   0.22876   0.0   8.56   0.0  0.520  ...  384.0     20.9   70.80  10.63   18.6\n",
              "\n",
              "[339 rows x 14 columns]"
            ]
          },
          "metadata": {},
          "execution_count": 22
        }
      ]
    },
    {
      "cell_type": "markdown",
      "metadata": {
        "id": "C0ggvfV_ULhh"
      },
      "source": [
        "Veri temizleme sınıfında yer alan test veri setine bakmak için aşağıdaki komutu çalıştıralım. Ve göreceğiz ki en başta okuduğumuz veri setinin %37'si eğitim veri setinde olduğunu.\n"
      ]
    },
    {
      "cell_type": "code",
      "metadata": {
        "colab": {
          "base_uri": "https://localhost:8080/",
          "height": 406
        },
        "id": "a76sam_38CRo",
        "outputId": "4ee6bc73-5451-4ded-a2ee-65336032d117"
      },
      "source": [
        "dc.df_test\n"
      ],
      "execution_count": 23,
      "outputs": [
        {
          "output_type": "execute_result",
          "data": {
            "text/html": [
              "<div>\n",
              "<style scoped>\n",
              "    .dataframe tbody tr th:only-of-type {\n",
              "        vertical-align: middle;\n",
              "    }\n",
              "\n",
              "    .dataframe tbody tr th {\n",
              "        vertical-align: top;\n",
              "    }\n",
              "\n",
              "    .dataframe thead th {\n",
              "        text-align: right;\n",
              "    }\n",
              "</style>\n",
              "<table border=\"1\" class=\"dataframe\">\n",
              "  <thead>\n",
              "    <tr style=\"text-align: right;\">\n",
              "      <th></th>\n",
              "      <th>CRIM</th>\n",
              "      <th>ZN</th>\n",
              "      <th>INDUS</th>\n",
              "      <th>CHAS</th>\n",
              "      <th>NOX</th>\n",
              "      <th>RM</th>\n",
              "      <th>AGE</th>\n",
              "      <th>DIS</th>\n",
              "      <th>RAD</th>\n",
              "      <th>TAX</th>\n",
              "      <th>PTRATIO</th>\n",
              "      <th>B</th>\n",
              "      <th>LSTAT</th>\n",
              "      <th>PRICE</th>\n",
              "    </tr>\n",
              "  </thead>\n",
              "  <tbody>\n",
              "    <tr>\n",
              "      <th>0</th>\n",
              "      <td>0.09178</td>\n",
              "      <td>0.0</td>\n",
              "      <td>4.05</td>\n",
              "      <td>0.0</td>\n",
              "      <td>0.510</td>\n",
              "      <td>6.416</td>\n",
              "      <td>84.1</td>\n",
              "      <td>2.6463</td>\n",
              "      <td>5.0</td>\n",
              "      <td>296.0</td>\n",
              "      <td>16.6</td>\n",
              "      <td>395.50</td>\n",
              "      <td>9.04</td>\n",
              "      <td>23.6</td>\n",
              "    </tr>\n",
              "    <tr>\n",
              "      <th>1</th>\n",
              "      <td>0.05644</td>\n",
              "      <td>40.0</td>\n",
              "      <td>6.41</td>\n",
              "      <td>1.0</td>\n",
              "      <td>0.447</td>\n",
              "      <td>6.758</td>\n",
              "      <td>32.9</td>\n",
              "      <td>4.0776</td>\n",
              "      <td>4.0</td>\n",
              "      <td>254.0</td>\n",
              "      <td>17.6</td>\n",
              "      <td>396.90</td>\n",
              "      <td>3.53</td>\n",
              "      <td>32.4</td>\n",
              "    </tr>\n",
              "    <tr>\n",
              "      <th>2</th>\n",
              "      <td>0.10574</td>\n",
              "      <td>0.0</td>\n",
              "      <td>27.74</td>\n",
              "      <td>0.0</td>\n",
              "      <td>0.609</td>\n",
              "      <td>5.983</td>\n",
              "      <td>98.8</td>\n",
              "      <td>1.8681</td>\n",
              "      <td>4.0</td>\n",
              "      <td>711.0</td>\n",
              "      <td>20.1</td>\n",
              "      <td>390.11</td>\n",
              "      <td>18.07</td>\n",
              "      <td>13.6</td>\n",
              "    </tr>\n",
              "    <tr>\n",
              "      <th>3</th>\n",
              "      <td>0.09164</td>\n",
              "      <td>0.0</td>\n",
              "      <td>10.81</td>\n",
              "      <td>0.0</td>\n",
              "      <td>0.413</td>\n",
              "      <td>6.065</td>\n",
              "      <td>7.8</td>\n",
              "      <td>5.2873</td>\n",
              "      <td>4.0</td>\n",
              "      <td>305.0</td>\n",
              "      <td>19.2</td>\n",
              "      <td>390.91</td>\n",
              "      <td>5.52</td>\n",
              "      <td>22.8</td>\n",
              "    </tr>\n",
              "    <tr>\n",
              "      <th>4</th>\n",
              "      <td>5.09017</td>\n",
              "      <td>0.0</td>\n",
              "      <td>18.10</td>\n",
              "      <td>0.0</td>\n",
              "      <td>0.713</td>\n",
              "      <td>6.297</td>\n",
              "      <td>91.8</td>\n",
              "      <td>2.3682</td>\n",
              "      <td>24.0</td>\n",
              "      <td>666.0</td>\n",
              "      <td>20.2</td>\n",
              "      <td>385.09</td>\n",
              "      <td>17.27</td>\n",
              "      <td>16.1</td>\n",
              "    </tr>\n",
              "    <tr>\n",
              "      <th>...</th>\n",
              "      <td>...</td>\n",
              "      <td>...</td>\n",
              "      <td>...</td>\n",
              "      <td>...</td>\n",
              "      <td>...</td>\n",
              "      <td>...</td>\n",
              "      <td>...</td>\n",
              "      <td>...</td>\n",
              "      <td>...</td>\n",
              "      <td>...</td>\n",
              "      <td>...</td>\n",
              "      <td>...</td>\n",
              "      <td>...</td>\n",
              "      <td>...</td>\n",
              "    </tr>\n",
              "    <tr>\n",
              "      <th>162</th>\n",
              "      <td>0.10793</td>\n",
              "      <td>0.0</td>\n",
              "      <td>8.56</td>\n",
              "      <td>0.0</td>\n",
              "      <td>0.520</td>\n",
              "      <td>6.195</td>\n",
              "      <td>54.4</td>\n",
              "      <td>2.7778</td>\n",
              "      <td>5.0</td>\n",
              "      <td>384.0</td>\n",
              "      <td>20.9</td>\n",
              "      <td>393.49</td>\n",
              "      <td>13.00</td>\n",
              "      <td>21.7</td>\n",
              "    </tr>\n",
              "    <tr>\n",
              "      <th>163</th>\n",
              "      <td>0.18159</td>\n",
              "      <td>0.0</td>\n",
              "      <td>7.38</td>\n",
              "      <td>0.0</td>\n",
              "      <td>0.493</td>\n",
              "      <td>6.376</td>\n",
              "      <td>54.3</td>\n",
              "      <td>4.5404</td>\n",
              "      <td>5.0</td>\n",
              "      <td>287.0</td>\n",
              "      <td>19.6</td>\n",
              "      <td>396.90</td>\n",
              "      <td>6.87</td>\n",
              "      <td>23.1</td>\n",
              "    </tr>\n",
              "    <tr>\n",
              "      <th>164</th>\n",
              "      <td>0.76162</td>\n",
              "      <td>20.0</td>\n",
              "      <td>3.97</td>\n",
              "      <td>0.0</td>\n",
              "      <td>0.647</td>\n",
              "      <td>5.560</td>\n",
              "      <td>62.8</td>\n",
              "      <td>1.9865</td>\n",
              "      <td>5.0</td>\n",
              "      <td>264.0</td>\n",
              "      <td>13.0</td>\n",
              "      <td>392.40</td>\n",
              "      <td>10.45</td>\n",
              "      <td>22.8</td>\n",
              "    </tr>\n",
              "    <tr>\n",
              "      <th>165</th>\n",
              "      <td>1.00245</td>\n",
              "      <td>0.0</td>\n",
              "      <td>8.14</td>\n",
              "      <td>0.0</td>\n",
              "      <td>0.538</td>\n",
              "      <td>6.674</td>\n",
              "      <td>87.3</td>\n",
              "      <td>4.2390</td>\n",
              "      <td>4.0</td>\n",
              "      <td>307.0</td>\n",
              "      <td>21.0</td>\n",
              "      <td>380.23</td>\n",
              "      <td>11.98</td>\n",
              "      <td>21.0</td>\n",
              "    </tr>\n",
              "    <tr>\n",
              "      <th>166</th>\n",
              "      <td>0.52014</td>\n",
              "      <td>20.0</td>\n",
              "      <td>3.97</td>\n",
              "      <td>0.0</td>\n",
              "      <td>0.647</td>\n",
              "      <td>8.398</td>\n",
              "      <td>91.5</td>\n",
              "      <td>2.2885</td>\n",
              "      <td>5.0</td>\n",
              "      <td>264.0</td>\n",
              "      <td>13.0</td>\n",
              "      <td>386.86</td>\n",
              "      <td>5.91</td>\n",
              "      <td>48.8</td>\n",
              "    </tr>\n",
              "  </tbody>\n",
              "</table>\n",
              "<p>167 rows × 14 columns</p>\n",
              "</div>"
            ],
            "text/plain": [
              "        CRIM    ZN  INDUS  CHAS    NOX  ...    TAX  PTRATIO       B  LSTAT  PRICE\n",
              "0    0.09178   0.0   4.05   0.0  0.510  ...  296.0     16.6  395.50   9.04   23.6\n",
              "1    0.05644  40.0   6.41   1.0  0.447  ...  254.0     17.6  396.90   3.53   32.4\n",
              "2    0.10574   0.0  27.74   0.0  0.609  ...  711.0     20.1  390.11  18.07   13.6\n",
              "3    0.09164   0.0  10.81   0.0  0.413  ...  305.0     19.2  390.91   5.52   22.8\n",
              "4    5.09017   0.0  18.10   0.0  0.713  ...  666.0     20.2  385.09  17.27   16.1\n",
              "..       ...   ...    ...   ...    ...  ...    ...      ...     ...    ...    ...\n",
              "162  0.10793   0.0   8.56   0.0  0.520  ...  384.0     20.9  393.49  13.00   21.7\n",
              "163  0.18159   0.0   7.38   0.0  0.493  ...  287.0     19.6  396.90   6.87   23.1\n",
              "164  0.76162  20.0   3.97   0.0  0.647  ...  264.0     13.0  392.40  10.45   22.8\n",
              "165  1.00245   0.0   8.14   0.0  0.538  ...  307.0     21.0  380.23  11.98   21.0\n",
              "166  0.52014  20.0   3.97   0.0  0.647  ...  264.0     13.0  386.86   5.91   48.8\n",
              "\n",
              "[167 rows x 14 columns]"
            ]
          },
          "metadata": {},
          "execution_count": 23
        }
      ]
    },
    {
      "cell_type": "markdown",
      "metadata": {
        "id": "kGhBkn6T8ILu"
      },
      "source": [
        "Keşifçi Veri Analizinde incelediğimizde yinenlenen gözlemler olmadığını tespit etmiştik fakat yine de veri temizleme bölümünde tekrar bakalım.  Ve show_duplicate_observations() metodu da bizi doğruluyor. Yinenlenen gözlem olmadığından silme operasyonu yapamıyoruz. (Titanic projesinde yapılmıştı.) "
      ]
    },
    {
      "cell_type": "code",
      "metadata": {
        "colab": {
          "base_uri": "https://localhost:8080/"
        },
        "id": "Ln-8per1K41e",
        "outputId": "cda5a643-40d4-4299-8638-d19c4011ceb7"
      },
      "source": [
        "dc.show_duplicate_observations()"
      ],
      "execution_count": 24,
      "outputs": [
        {
          "output_type": "execute_result",
          "data": {
            "text/plain": [
              "{'df_test': Empty DataFrame\n",
              " Columns: [CRIM, ZN, INDUS, CHAS, NOX, RM, AGE, DIS, RAD, TAX, PTRATIO, B, LSTAT, PRICE]\n",
              " Index: [], 'df_train': Empty DataFrame\n",
              " Columns: [CRIM, ZN, INDUS, CHAS, NOX, RM, AGE, DIS, RAD, TAX, PTRATIO, B, LSTAT, PRICE]\n",
              " Index: []}"
            ]
          },
          "metadata": {},
          "execution_count": 24
        }
      ]
    },
    {
      "cell_type": "markdown",
      "metadata": {
        "id": "CclaMxffK4N4"
      },
      "source": [
        "Ve yine Keşifçi Veri Analizinde incelediğimizde eksik hücrelerin  olmadığını tespit etmiştik fakat tekrar olarak veri temizleme bölümünde bi daha bakalım.  Ve show_missing_values() metodu da bizi doğruluyor. Eksik hücre  olmadığından tedavi yöntemlerini uygulayamıyoruz. (Titanic projesinde yapılmıştı.) "
      ]
    },
    {
      "cell_type": "code",
      "metadata": {
        "colab": {
          "base_uri": "https://localhost:8080/"
        },
        "id": "OIv4o681Lsnb",
        "outputId": "6d51bb96-2f31-40e1-f85a-05cb50a116ce"
      },
      "source": [
        "dc.show_missing_values()"
      ],
      "execution_count": 25,
      "outputs": [
        {
          "output_type": "execute_result",
          "data": {
            "text/plain": [
              "{'df_test': CRIM       0\n",
              " ZN         0\n",
              " INDUS      0\n",
              " CHAS       0\n",
              " NOX        0\n",
              " RM         0\n",
              " AGE        0\n",
              " DIS        0\n",
              " RAD        0\n",
              " TAX        0\n",
              " PTRATIO    0\n",
              " B          0\n",
              " LSTAT      0\n",
              " PRICE      0\n",
              " dtype: int64, 'df_train': CRIM       0\n",
              " ZN         0\n",
              " INDUS      0\n",
              " CHAS       0\n",
              " NOX        0\n",
              " RM         0\n",
              " AGE        0\n",
              " DIS        0\n",
              " RAD        0\n",
              " TAX        0\n",
              " PTRATIO    0\n",
              " B          0\n",
              " LSTAT      0\n",
              " PRICE      0\n",
              " dtype: int64}"
            ]
          },
          "metadata": {},
          "execution_count": 25
        }
      ]
    },
    {
      "cell_type": "markdown",
      "metadata": {
        "id": "xWt_BGrw8IQz"
      },
      "source": [
        "\n",
        "Size yukarıda ödev/görev olarak verilen grafik incelemeyi yaptıysanız. Oradaki kutu grafiğinde hangi sürekli değişkenlerin aykırı (outlier) değer içerdiğini fark etmiş olmalısınız. \n",
        "\n",
        "(Sürekli değişkenlerdeki kutu grafiklerini incelediğinizi var sayıyorum.)Şimdi kutu grafiğinden en göze çarpan CRIM özniteliğinde oldukça aykırı (outlier) değer olduğunu farketik.  Çeyrekler arası Aralık yöntemi ile tespit ediyoruz. Görüldüğü üzere aralığımız -30.125 ile 71.675 arası seçildi. result değişkeni eğitim ve test veri seti için aykırı değerleri tutuyor."
      ]
    },
    {
      "cell_type": "code",
      "metadata": {
        "colab": {
          "base_uri": "https://localhost:8080/"
        },
        "id": "G77Iz-9JPIYs",
        "outputId": "47470d6d-cd8b-4b26-b81e-419969d14d75"
      },
      "source": [
        "result=dc.outlier_detection(feature=\"CRIM\",strategy=\"inter_quartile_range\")"
      ],
      "execution_count": 26,
      "outputs": [
        {
          "output_type": "stream",
          "name": "stdout",
          "text": [
            "Alt sınır :  -4.8912475 \n",
            "Üst sınır :  8.371012499999999\n"
          ]
        }
      ]
    },
    {
      "cell_type": "markdown",
      "metadata": {
        "id": "P9JeU9jIMeTn"
      },
      "source": [
        "Eğitim veri setindeki aykırı değerlerin indeksleri aşağıda tespit ediliyor.\n"
      ]
    },
    {
      "cell_type": "code",
      "metadata": {
        "colab": {
          "base_uri": "https://localhost:8080/"
        },
        "id": "hM3fpRoWPLbx",
        "outputId": "e6c3a96f-263c-4b17-9529-19cc8768238b"
      },
      "source": [
        "train_outlier_index=result[\"df_train\"].index\n",
        "train_outlier_index"
      ],
      "execution_count": 27,
      "outputs": [
        {
          "output_type": "execute_result",
          "data": {
            "text/plain": [
              "Int64Index([  0,  14,  16,  26,  27,  31,  52,  56,  64,  80,  90, 111, 112,\n",
              "            117, 120, 123, 129, 148, 152, 154, 157, 165, 172, 178, 179, 182,\n",
              "            187, 193, 195, 208, 213, 221, 227, 229, 232, 250, 261, 265, 267,\n",
              "            271, 279, 294, 310, 312, 314, 337],\n",
              "           dtype='int64')"
            ]
          },
          "metadata": {},
          "execution_count": 27
        }
      ]
    },
    {
      "cell_type": "markdown",
      "metadata": {
        "id": "LNzpxd54Mgnm"
      },
      "source": [
        "Test veri setindeki aykırı değerlerin indeksleri aşağıda tespit ediliyor.\n"
      ]
    },
    {
      "cell_type": "code",
      "metadata": {
        "colab": {
          "base_uri": "https://localhost:8080/"
        },
        "id": "S2sIiNntPNsG",
        "outputId": "b57ae5e6-9f2f-4b83-be5d-256b5cbc0e86"
      },
      "source": [
        "test_outlier_index=result[\"df_test\"].index\n",
        "test_outlier_index"
      ],
      "execution_count": 28,
      "outputs": [
        {
          "output_type": "execute_result",
          "data": {
            "text/plain": [
              "Int64Index([ 12,  17,  19,  27,  32,  66,  72,  75,  78,  83,  91,  96,  97,\n",
              "             98,  99, 102, 110, 111, 115, 122, 144, 147, 151, 156, 159],\n",
              "           dtype='int64')"
            ]
          },
          "metadata": {},
          "execution_count": 28
        }
      ]
    },
    {
      "cell_type": "markdown",
      "metadata": {
        "id": "1rKGxxR6P2Y9"
      },
      "source": [
        " Elde edilen indeksler yardımıyla bunları veri setlerinden aşağıdaki blok yardımıyla atalım.\n"
      ]
    },
    {
      "cell_type": "code",
      "metadata": {
        "id": "U3NR2jvqPRDT"
      },
      "source": [
        "dc.df_train=dc.df_train.drop(train_outlier_index)\n",
        "dc.df_test=dc.df_test.drop(test_outlier_index)"
      ],
      "execution_count": 29,
      "outputs": []
    },
    {
      "cell_type": "markdown",
      "metadata": {
        "id": "Yl0tybbDWRBu"
      },
      "source": [
        "Şimdi ise temizlenen bu veri setlerini kayıt altına alalım. Kayıt almak için DataCleaning sınıfındaki df_train ile df_test veri setlerini , global df_train ve df_test değişkenlerine eşleyelim.\n"
      ]
    },
    {
      "cell_type": "code",
      "metadata": {
        "id": "Ee8xdSFGWPIR"
      },
      "source": [
        "df_train = dc.df_train\n",
        "df_test=dc.df_test"
      ],
      "execution_count": 30,
      "outputs": []
    },
    {
      "cell_type": "markdown",
      "metadata": {
        "id": "Uaz0sSrtRDj2"
      },
      "source": [
        "# 3. Öznitelik Seçme"
      ]
    },
    {
      "cell_type": "markdown",
      "metadata": {
        "id": "uIVRjSHtRJof"
      },
      "source": [
        "Öznitelik seçimi için yine kitabımızda beraber geliştirdiğimiz FeatureSelection sınıfını kullanarak gerçekleştireceğiz.  Aşağıda standart bir şekilde FeatureSelection sınıfımızdan nesne oluşturuyoruz.\n"
      ]
    },
    {
      "cell_type": "code",
      "metadata": {
        "id": "sKsPFrxKRItr"
      },
      "source": [
        "target = \"PRICE\"\n",
        "fc=FeatureSelection(df_train, continuous_variables,\n",
        "               categorical_variables,\n",
        "               target)\n"
      ],
      "execution_count": 31,
      "outputs": []
    },
    {
      "cell_type": "markdown",
      "metadata": {
        "id": "4pzBWk_yRSrA"
      },
      "source": [
        "\n",
        "Hedef değişken sürekli olduğundan bağımsız değişkenlerden sürekli olanlar ile Korelasyon Katsayısı değerlerine bakılırken bağımsız değişkenlerden kategorik olanlar ile de ANOVA testi yaparak ilgili öznitelikleri seçebiliriz.\n",
        "\n",
        "\n"
      ]
    },
    {
      "cell_type": "markdown",
      "metadata": {
        "id": "bI-CHaCJKH4f"
      },
      "source": [
        "Hedef değişken ile 0.4 değerinden yüksek korelasyonu olan sürekli değişkenler, RM, PTRATIO ve LSTAT'dır. Burada ek olarak  korelasyonu yüksek olan özniteliklerin bir birleri arasındaki korelasyonunada bakıldığında, RM ve LSTAT değişkenlerinin birbirleriyle oldukça ilişkili olduğu görülmektedir (-0.650837). Dolayısıyla sadece bir değişkeni tutup diğerini bırakacağız. PRICE ile korelasyonu LSTAT'dan daha yüksek olduğu için RM'i tutacağız. LSTAT'yi bıraktıktan sonra geriye iki özellik kalıyor, RM ve PTRATIO.\n"
      ]
    },
    {
      "cell_type": "code",
      "metadata": {
        "colab": {
          "base_uri": "https://localhost:8080/"
        },
        "id": "AvsV9tZJRR8g",
        "outputId": "de40a363-60df-413b-ebfc-8741e8f8ca90"
      },
      "source": [
        "fc.correlation(threshold_for_target=0.4)"
      ],
      "execution_count": 32,
      "outputs": [
        {
          "output_type": "stream",
          "name": "stdout",
          "text": [
            "Hedef değişken ile korelasyonu yüksek olan değişkenler :\n",
            " RM         0.756801\n",
            "PTRATIO   -0.411452\n",
            "LSTAT     -0.699553\n",
            "Name: PRICE, dtype: float64 \n",
            "\n",
            "\n",
            "Diğer değişkenlerin kendi aralarındaki korelasyon : \n",
            "                RM   PTRATIO     LSTAT\n",
            "RM       1.000000 -0.310059 -0.650837\n",
            "PTRATIO -0.310059  1.000000  0.259240\n",
            "LSTAT   -0.650837  0.259240  1.000000\n"
          ]
        }
      ]
    },
    {
      "cell_type": "markdown",
      "metadata": {
        "id": "i2gO4oQ0KD9n"
      },
      "source": [
        "Hedef değişken ile kategorik değişkenlerin ANOVA test sonucu aşağıda görüldüğü üzere hedef değişken bütün öznitelikler ile ilişkili çıkmıştır. \n"
      ]
    },
    {
      "cell_type": "code",
      "metadata": {
        "colab": {
          "base_uri": "https://localhost:8080/"
        },
        "id": "ug-5Minnc6cs",
        "outputId": "037e1e44-e566-4d2a-8e13-de8858250f86"
      },
      "source": [
        "for cat_var in categorical_variables:\n",
        "  fc.ANOVA_test(variable=cat_var)"
      ],
      "execution_count": 33,
      "outputs": [
        {
          "output_type": "stream",
          "name": "stdout",
          "text": [
            "##### ANOVA Sonucu ##### \n",
            "\n",
            "CHAS ,  PRICE ile ilişkilidir. | P-Value: 0.00012538771788016525\n",
            "##### ANOVA Sonucu ##### \n",
            "\n",
            "RAD ,  PRICE ile ilişkilidir. | P-Value: 3.5667988636653157e-06\n"
          ]
        }
      ]
    },
    {
      "cell_type": "markdown",
      "metadata": {
        "id": "JRuN1bPDSqSe"
      },
      "source": [
        "Yukarıdaki analizler sonucunda RM, PTRATIO, CHAS ve RAD öznitelikleri ile makine öğrenmesi modelleri kurulacaktır. Ondan dolayı df_train ve df_test veri setlerini aşağıdaki gibi güncelleyelim.\n"
      ]
    },
    {
      "cell_type": "code",
      "metadata": {
        "id": "VWtrOAJpTHvE"
      },
      "source": [
        "df_train = df_train[[\"RM\", \"PTRATIO\", \"CHAS\" , \"RAD\",\"PRICE\"]]\n",
        "df_test = df_test[[\"RM\", \"PTRATIO\", \"CHAS\" , \"RAD\",\"PRICE\"]]"
      ],
      "execution_count": 34,
      "outputs": []
    },
    {
      "cell_type": "code",
      "metadata": {
        "colab": {
          "base_uri": "https://localhost:8080/",
          "height": 406
        },
        "id": "bs_cHIP3Tj-4",
        "outputId": "19c03d2a-3ece-4ac3-a9f9-a4b0f98e0a2e"
      },
      "source": [
        "df_train"
      ],
      "execution_count": 35,
      "outputs": [
        {
          "output_type": "execute_result",
          "data": {
            "text/html": [
              "<div>\n",
              "<style scoped>\n",
              "    .dataframe tbody tr th:only-of-type {\n",
              "        vertical-align: middle;\n",
              "    }\n",
              "\n",
              "    .dataframe tbody tr th {\n",
              "        vertical-align: top;\n",
              "    }\n",
              "\n",
              "    .dataframe thead th {\n",
              "        text-align: right;\n",
              "    }\n",
              "</style>\n",
              "<table border=\"1\" class=\"dataframe\">\n",
              "  <thead>\n",
              "    <tr style=\"text-align: right;\">\n",
              "      <th></th>\n",
              "      <th>RM</th>\n",
              "      <th>PTRATIO</th>\n",
              "      <th>CHAS</th>\n",
              "      <th>RAD</th>\n",
              "      <th>PRICE</th>\n",
              "    </tr>\n",
              "  </thead>\n",
              "  <tbody>\n",
              "    <tr>\n",
              "      <th>1</th>\n",
              "      <td>5.813</td>\n",
              "      <td>21.0</td>\n",
              "      <td>0.0</td>\n",
              "      <td>4.0</td>\n",
              "      <td>16.6</td>\n",
              "    </tr>\n",
              "    <tr>\n",
              "      <th>2</th>\n",
              "      <td>6.172</td>\n",
              "      <td>15.2</td>\n",
              "      <td>0.0</td>\n",
              "      <td>5.0</td>\n",
              "      <td>27.1</td>\n",
              "    </tr>\n",
              "    <tr>\n",
              "      <th>3</th>\n",
              "      <td>5.983</td>\n",
              "      <td>20.1</td>\n",
              "      <td>0.0</td>\n",
              "      <td>4.0</td>\n",
              "      <td>20.1</td>\n",
              "    </tr>\n",
              "    <tr>\n",
              "      <th>4</th>\n",
              "      <td>6.474</td>\n",
              "      <td>20.9</td>\n",
              "      <td>0.0</td>\n",
              "      <td>5.0</td>\n",
              "      <td>19.8</td>\n",
              "    </tr>\n",
              "    <tr>\n",
              "      <th>5</th>\n",
              "      <td>5.850</td>\n",
              "      <td>19.2</td>\n",
              "      <td>0.0</td>\n",
              "      <td>5.0</td>\n",
              "      <td>21.0</td>\n",
              "    </tr>\n",
              "    <tr>\n",
              "      <th>...</th>\n",
              "      <td>...</td>\n",
              "      <td>...</td>\n",
              "      <td>...</td>\n",
              "      <td>...</td>\n",
              "      <td>...</td>\n",
              "    </tr>\n",
              "    <tr>\n",
              "      <th>333</th>\n",
              "      <td>5.961</td>\n",
              "      <td>19.2</td>\n",
              "      <td>0.0</td>\n",
              "      <td>4.0</td>\n",
              "      <td>21.7</td>\n",
              "    </tr>\n",
              "    <tr>\n",
              "      <th>334</th>\n",
              "      <td>5.836</td>\n",
              "      <td>20.9</td>\n",
              "      <td>0.0</td>\n",
              "      <td>5.0</td>\n",
              "      <td>19.5</td>\n",
              "    </tr>\n",
              "    <tr>\n",
              "      <th>335</th>\n",
              "      <td>5.856</td>\n",
              "      <td>18.6</td>\n",
              "      <td>0.0</td>\n",
              "      <td>3.0</td>\n",
              "      <td>21.1</td>\n",
              "    </tr>\n",
              "    <tr>\n",
              "      <th>336</th>\n",
              "      <td>6.635</td>\n",
              "      <td>17.0</td>\n",
              "      <td>0.0</td>\n",
              "      <td>4.0</td>\n",
              "      <td>24.5</td>\n",
              "    </tr>\n",
              "    <tr>\n",
              "      <th>338</th>\n",
              "      <td>6.405</td>\n",
              "      <td>20.9</td>\n",
              "      <td>0.0</td>\n",
              "      <td>5.0</td>\n",
              "      <td>18.6</td>\n",
              "    </tr>\n",
              "  </tbody>\n",
              "</table>\n",
              "<p>293 rows × 5 columns</p>\n",
              "</div>"
            ],
            "text/plain": [
              "        RM  PTRATIO  CHAS  RAD  PRICE\n",
              "1    5.813     21.0   0.0  4.0   16.6\n",
              "2    6.172     15.2   0.0  5.0   27.1\n",
              "3    5.983     20.1   0.0  4.0   20.1\n",
              "4    6.474     20.9   0.0  5.0   19.8\n",
              "5    5.850     19.2   0.0  5.0   21.0\n",
              "..     ...      ...   ...  ...    ...\n",
              "333  5.961     19.2   0.0  4.0   21.7\n",
              "334  5.836     20.9   0.0  5.0   19.5\n",
              "335  5.856     18.6   0.0  3.0   21.1\n",
              "336  6.635     17.0   0.0  4.0   24.5\n",
              "338  6.405     20.9   0.0  5.0   18.6\n",
              "\n",
              "[293 rows x 5 columns]"
            ]
          },
          "metadata": {},
          "execution_count": 35
        }
      ]
    },
    {
      "cell_type": "code",
      "metadata": {
        "colab": {
          "base_uri": "https://localhost:8080/",
          "height": 406
        },
        "id": "rjaQjxNYTsTR",
        "outputId": "e6acd15b-9b42-4b8b-d0c3-efdebc461d1b"
      },
      "source": [
        "df_test"
      ],
      "execution_count": 36,
      "outputs": [
        {
          "output_type": "execute_result",
          "data": {
            "text/html": [
              "<div>\n",
              "<style scoped>\n",
              "    .dataframe tbody tr th:only-of-type {\n",
              "        vertical-align: middle;\n",
              "    }\n",
              "\n",
              "    .dataframe tbody tr th {\n",
              "        vertical-align: top;\n",
              "    }\n",
              "\n",
              "    .dataframe thead th {\n",
              "        text-align: right;\n",
              "    }\n",
              "</style>\n",
              "<table border=\"1\" class=\"dataframe\">\n",
              "  <thead>\n",
              "    <tr style=\"text-align: right;\">\n",
              "      <th></th>\n",
              "      <th>RM</th>\n",
              "      <th>PTRATIO</th>\n",
              "      <th>CHAS</th>\n",
              "      <th>RAD</th>\n",
              "      <th>PRICE</th>\n",
              "    </tr>\n",
              "  </thead>\n",
              "  <tbody>\n",
              "    <tr>\n",
              "      <th>0</th>\n",
              "      <td>6.416</td>\n",
              "      <td>16.6</td>\n",
              "      <td>0.0</td>\n",
              "      <td>5.0</td>\n",
              "      <td>23.6</td>\n",
              "    </tr>\n",
              "    <tr>\n",
              "      <th>1</th>\n",
              "      <td>6.758</td>\n",
              "      <td>17.6</td>\n",
              "      <td>1.0</td>\n",
              "      <td>4.0</td>\n",
              "      <td>32.4</td>\n",
              "    </tr>\n",
              "    <tr>\n",
              "      <th>2</th>\n",
              "      <td>5.983</td>\n",
              "      <td>20.1</td>\n",
              "      <td>0.0</td>\n",
              "      <td>4.0</td>\n",
              "      <td>13.6</td>\n",
              "    </tr>\n",
              "    <tr>\n",
              "      <th>3</th>\n",
              "      <td>6.065</td>\n",
              "      <td>19.2</td>\n",
              "      <td>0.0</td>\n",
              "      <td>4.0</td>\n",
              "      <td>22.8</td>\n",
              "    </tr>\n",
              "    <tr>\n",
              "      <th>4</th>\n",
              "      <td>6.297</td>\n",
              "      <td>20.2</td>\n",
              "      <td>0.0</td>\n",
              "      <td>24.0</td>\n",
              "      <td>16.1</td>\n",
              "    </tr>\n",
              "    <tr>\n",
              "      <th>...</th>\n",
              "      <td>...</td>\n",
              "      <td>...</td>\n",
              "      <td>...</td>\n",
              "      <td>...</td>\n",
              "      <td>...</td>\n",
              "    </tr>\n",
              "    <tr>\n",
              "      <th>162</th>\n",
              "      <td>6.195</td>\n",
              "      <td>20.9</td>\n",
              "      <td>0.0</td>\n",
              "      <td>5.0</td>\n",
              "      <td>21.7</td>\n",
              "    </tr>\n",
              "    <tr>\n",
              "      <th>163</th>\n",
              "      <td>6.376</td>\n",
              "      <td>19.6</td>\n",
              "      <td>0.0</td>\n",
              "      <td>5.0</td>\n",
              "      <td>23.1</td>\n",
              "    </tr>\n",
              "    <tr>\n",
              "      <th>164</th>\n",
              "      <td>5.560</td>\n",
              "      <td>13.0</td>\n",
              "      <td>0.0</td>\n",
              "      <td>5.0</td>\n",
              "      <td>22.8</td>\n",
              "    </tr>\n",
              "    <tr>\n",
              "      <th>165</th>\n",
              "      <td>6.674</td>\n",
              "      <td>21.0</td>\n",
              "      <td>0.0</td>\n",
              "      <td>4.0</td>\n",
              "      <td>21.0</td>\n",
              "    </tr>\n",
              "    <tr>\n",
              "      <th>166</th>\n",
              "      <td>8.398</td>\n",
              "      <td>13.0</td>\n",
              "      <td>0.0</td>\n",
              "      <td>5.0</td>\n",
              "      <td>48.8</td>\n",
              "    </tr>\n",
              "  </tbody>\n",
              "</table>\n",
              "<p>142 rows × 5 columns</p>\n",
              "</div>"
            ],
            "text/plain": [
              "        RM  PTRATIO  CHAS   RAD  PRICE\n",
              "0    6.416     16.6   0.0   5.0   23.6\n",
              "1    6.758     17.6   1.0   4.0   32.4\n",
              "2    5.983     20.1   0.0   4.0   13.6\n",
              "3    6.065     19.2   0.0   4.0   22.8\n",
              "4    6.297     20.2   0.0  24.0   16.1\n",
              "..     ...      ...   ...   ...    ...\n",
              "162  6.195     20.9   0.0   5.0   21.7\n",
              "163  6.376     19.6   0.0   5.0   23.1\n",
              "164  5.560     13.0   0.0   5.0   22.8\n",
              "165  6.674     21.0   0.0   4.0   21.0\n",
              "166  8.398     13.0   0.0   5.0   48.8\n",
              "\n",
              "[142 rows x 5 columns]"
            ]
          },
          "metadata": {},
          "execution_count": 36
        }
      ]
    },
    {
      "cell_type": "markdown",
      "metadata": {
        "id": "KyoqvBlwT0hn"
      },
      "source": [
        "# 4. Model Kurma"
      ]
    },
    {
      "cell_type": "markdown",
      "metadata": {
        "id": "pmPt3cYhT6tL"
      },
      "source": [
        "Yukardıda görüldüğü üzere kategorik değişkenler sayısal halde görünüyor. O yüzden Titanic projesinde yapılan Label Encoding veya One-Hot Encoding yapmaya gerek yoktur.\n",
        "\n",
        "Şimdi ise makine öğrenmesi için hedef değişken ile tahmin edici değişkenleri (bağımsız değişkenler) tekrardan belirme zamanıdır.\n"
      ]
    },
    {
      "cell_type": "code",
      "metadata": {
        "colab": {
          "base_uri": "https://localhost:8080/"
        },
        "id": "O_u9ziZ6UmVa",
        "outputId": "89bfdaf4-e50a-489c-af0f-1984fc94f221"
      },
      "source": [
        "all_features = df_test.columns.to_list()\n",
        "#####################################################################\n",
        "y_feature = ['PRICE']\n",
        "print(\"Hedef değişken (y_feature) : \",y_feature)\n",
        "all_features.remove('PRICE') # hedef değişken listeden kaldırılıyor.\n",
        "X_features = all_features\n",
        "print(\"Bağımsız değişkenler (X_feature) : \",X_features)"
      ],
      "execution_count": 37,
      "outputs": [
        {
          "output_type": "stream",
          "name": "stdout",
          "text": [
            "Hedef değişken (y_feature) :  ['PRICE']\n",
            "Bağımsız değişkenler (X_feature) :  ['RM', 'PTRATIO', 'CHAS', 'RAD']\n"
          ]
        }
      ]
    },
    {
      "cell_type": "markdown",
      "metadata": {
        "id": "qf1rnZ5OUwB5"
      },
      "source": [
        "X_train üzerinde makine öğrenmesi belli başlı yapıları öğrenerek y_train değişkeninde bulunan değerleri tespit etmeye çalışacaktır. Ve makine öğrenmesi modelinin performanısını ölçmek için de test verisi gerekecektir. Performansı görmek için, modelin görmediği X_test test veri seti üzerinde modele tahmin yaptırarak bir tahmin sonucu elde ettikten sonra bu sonuçları  y_test ile karşılaştırdığımızda performansı göreceğiz. "
      ]
    },
    {
      "cell_type": "code",
      "metadata": {
        "id": "byTYUUhDT3Zl"
      },
      "source": [
        "X_train = df_train.loc[:,X_features].values\n",
        "X_test = df_test.loc[:,X_features].values\n",
        "\n",
        "y_train = df_train.loc[:,y_feature].values\n",
        "y_test = df_test.loc[:,y_feature].values"
      ],
      "execution_count": 38,
      "outputs": []
    },
    {
      "cell_type": "markdown",
      "metadata": {
        "id": "Gs7W1z5tU5q0"
      },
      "source": [
        "Makine öğrenmesi modelini kurma aşamasına geldik. Şimdi ilk olarak Destek Vektör Regresyonu ile regresyon modelini kuralım. Bu algoritmayı kullanmak için kullan SVR sınıfı kullanmalıyız. Aşağıda da görüldüğü üzere SVR sınıfına çeşitli hiper parametreler (kernel ve gamma) girilmiştir. Bu parametreler sayesinde herhangi bir algoritma veriyi daha iyi analiz edebilir. Bu hiper parametreler algoritmalara göre değişir. Aşağıda görüldüğü üzere biz sadece kernel ve gamma hiper parametrelerine özel bir değer atadık.Bu hiper parametreleri ayarlamaya ince ayar yapma (hyperparameter tuning) denir. Eğer bir algoritmanın verinize iyi oturmasını istiyorsanız mutlaka o algoritmanın hiper parametrelerini keşfet edin. (Aşağıdaki parametreleri size araştırma ödevi olarak veriyorum :) )\n",
        "\n",
        "Aşağıdaki kod incelendiğinde, SVR() sınıfından üretilen nesnenin fit() adındaki metoduna X_train ve y_train değişkenleri gönderiliyor. Bunun amacı SVR algoritmasını eğitmek içindir. Ardında da görüldüğü üzere predict() metodu çağrılıyor. Bu metodun amacı da verilen bağımsız değişkenlerden hareketle bağımlı değişkeni tahmin etmektir. Biz predict() metoduna X_test ile test veri setinin bağımsız verilerini gönderdik. Ardında y_pred adında modelin bize tahmin ettiği bağımsız değişken değerleri elde edildi. Sonra ise modelin performansını ölçmek için de hata metriği görevini yapan mean_squared_error() fonksiyonu ile de tahmin edilen (y_pred) ile gerçek-doğru (y_test) değerlerini karşılaştırarak modelin performansı veriyor. Aşağıda görüldüğü üzere bu modelin hata skoru 24.73 . \n"
      ]
    },
    {
      "cell_type": "code",
      "metadata": {
        "id": "reuqxq0yTuhd",
        "colab": {
          "base_uri": "https://localhost:8080/"
        },
        "outputId": "ac66fb77-eac2-4aec-87f1-b99f64400c75"
      },
      "source": [
        "reg = SVR(kernel=\"rbf\",gamma=0.1)\n",
        "reg.fit(X_train, y_train)\n",
        "y_pred=reg.predict(X_test)\n",
        "print(mean_squared_error(y_test,y_pred))"
      ],
      "execution_count": 39,
      "outputs": [
        {
          "output_type": "stream",
          "name": "stdout",
          "text": [
            "24.737443055944187\n"
          ]
        }
      ]
    },
    {
      "cell_type": "markdown",
      "metadata": {
        "id": "4QeRNtqVCGv2"
      },
      "source": [
        "Genel olarak bir algoritmanın nasıl eğitilip nasıl test edildiğini gördük. Yukarıda görüldüğü üzere 24.73’lik bir hata skoru elde edilmiş. Bu skor kötü olduğundan  iyisini yapabilir miyiz acaba ? sorusu hemen kıllara geliyor değil mi? Evet ,bu modelin ince ayarlarını (kernel,gamma gibi parametreleri) farklı değerler ile tek tek deneyip en iyi sonucu almamız gerekir. En iyi sonucu deneyerek bulabiliriz. Fakat belki biz en iyi ince ayarları yapsak bile seçtiğim algoritma bizim veri setine uygun olmadığından istediğimiz sonucu alamayabiliriz. O zamanda yeni bir algoritma kurup onun ince ayarlarını yapıp istediğimiz skoru almaya çalışabiliriz. O algoritmada olmazsa başka bir algoritma denenmelidir.\n",
        "\n",
        "Gördüğünüz üzere durmadan farklı algoritmaları farklı parametreler ile deneme süreci var. Bu görev için GridSearchCV adında çok güzel bir araç vardır. GridSearchCV bu hiper parametreleri (ince ayar parametreleri) bizim için dener. Ve bize en iyi skora sahip modelin hiper parametrelerini de verir. GridSearchCV aracının bir diğer özelliği ise tek bir algoritma için değilde birden fazla algoritmayı da aynı anda çalıştırabilir. Bu aracın en göze çarpan dezavantajı çok zaman almasıdır.\n",
        "\n",
        "GridSearchCV ile makine öğrenmesi modeli eğitimi için en uygun ince ayar değerlerini bulma Cross Validation (CV - Çapraz Doğrulama) diye adlandırılan yöntem üzerinden gerçekleşir. Çeşitli çapraz doğrulama yöntemleri vardır.\n",
        "\n",
        "* Çapraz Doğrulama yöntemlerinden en bilineni **K-fold Cross Validation ( K-kat Çapraz Doğrulama)**.K-kat Çapraz Doğrulama, train-test veri seti bölmenin benzer bir yoludur. Ama burada bölünen veri ham veri seti değilde en başta bölünen eğitim ve test diye bölünen eğitim veri seti üzerinden işler yürür. Veri seti (en başta bölünen eğitim veri setinden bahsediliyor) k alt kümeye bölünür ve k kez makine öğrenmesi modeli eğitilir. Eğitimin her seferinde, k alt kümelerinden biri test kümesi olarak kullanılır ve diğer k-1 alt kümeleri bir eğitim kümesi oluşturmak için bir araya getirilir. Daha sonra tüm k tane deneme sonucunda k tane doğruluk skoru elde edilir. Ve GridSearchCV ise en iyi skora sahip olan modeli bize seçer.\n",
        "\n",
        "* Diğer çokça kullanılan çaprazlama yöntemi ise, **Stratified K Fold Cross Validation** adlandırılan yöntemdir.Bu yöntem sınıflandırma problemleri için kullanılır. Biz de bu yöntemi aşağıda kullanacağız. Bu yöntemin bir önceki çapraz doğrulama yönteminden farkı k tane kümenin içerisindeki sınıfları eşit dağıtmasıdır.Bunu yaparak herhangi bir sınıfı herhangi bir kümede rastgele toplanması yerine kümelere eşit dağıtıp işlerim öyle yapmasıdır.\n",
        "\n",
        "Ve sonuçta, en iyi tahmin edicinin çapraz doğrulanmış ortalama skorundan hareketle en iyi sonucu veren ince ayar parametreleri o algoritma için seçiliyor. Haydi şimdi GridSearchCV kullanarak Karar Ağaçları Regresyonu (DecisionTreeRegressor), Destek Vektör Regresyonu (SVR),Rassal Orman Regresyonu (RandomForestRegressor), Lineer Regresyon (LinearRegression) ve K En Yakın Komşular Regresyonu(KNeighborsRegressor) algoritmaları için bu eğitim veri seti için parametre değerlerini bulalım.\n",
        "\n",
        "\n",
        "GridSearchCV aracına ilk başta hangi algoritmaları kullanacağımızı bir liste içinde aşağıdaki gibi belirtelim. Ve algoritmaların her seferde aynı sonucu vermesi için random_state  adında bir değişken kullanıyoruz. Bu değişkene bir sabit değişken olarak 49 değeri atıyoruz. Bazı algoritmalar yapısı gereği rastgelelik ile değer atamalarından dolayı biz bu değer atamayı böylece sabitliyoruz. Böylece biz bu kodu her seferinde çalıştırdığımızda aynı hata skorunu elde edeceğiz. \n",
        "\n",
        "\n"
      ]
    },
    {
      "cell_type": "code",
      "metadata": {
        "id": "MdAG24aHCwV5"
      },
      "source": [
        "random_state=49\n",
        "regressor = [\n",
        "             DecisionTreeRegressor(random_state = random_state),\n",
        "             SVR(),\n",
        "             RandomForestRegressor(random_state = random_state),\n",
        "             LinearRegression(),\n",
        "             KNeighborsRegressor()]"
      ],
      "execution_count": 40,
      "outputs": []
    },
    {
      "cell_type": "markdown",
      "metadata": {
        "id": "AWIgSl14GHGB"
      },
      "source": [
        "Şimdi ise hangi parametrelerin hangi aralıktaki değerler ile deneme yapılıp algoritmanın eğitimi yapılması aşamasına geldik. Eğitim denemesi yapılması için her bir algoritmaya özel bir python sözlük yapısında algoritmanın hiper parametre seti oluşturmalıyız. Bu seti açıklamak için aşağıdan K En Yakın Komşular Regresyonu için oluşturulan knn_hyperparameters sözlük yapısın bakabiliriz. Görüldüğü üzere n_neighbors parametresi için [1,3,5,7] değerini içeren bir liste verilmiştir. Bu listenin anlamı, K En Yakın Komşular Regresyonu algoritması eğitimi denemeleri yapılırken ilk başta en yakın 1 komşuya bak , ardından 3, sonra 5 ve en sonki denemende en yakın 7 komşuya bak ona göre bir eğitim yap. Bunları yaparkende \"metric\":[\"manhattan\"] ile mesafe ölçümünü de manhattan ile yap anlamı çıkar. En son nihayetinde en yüksek skor hangi kombinasyonda çıkarsa o değerler o algoritma için en iyi parametreler olarak seçilecektir. Diğer parametreleri de size ödev olarak veriyorum. Lütfen bu parametreleri detaylı olarak araştırın . Çünkü sizin gelişiminizde çok büyük bir etken olacaktır.\n",
        "\n",
        "Bütün algoritmalarının hiper parametre sözlükleri regressor listesindeki algoritma sırası ile bir bir python listesinde biriktiriliyor."
      ]
    },
    {
      "cell_type": "code",
      "metadata": {
        "id": "IBL0VsqQCK75"
      },
      "source": [
        "\n",
        "dt_hyperparameters= {\"min_samples_split\" : range(10,500,20),\n",
        "                \"max_depth\": range(1,20,2)}\n",
        "\n",
        "svr_hyperparameters= {\"kernel\" : [\"rbf\"],\n",
        "                 \"gamma\": [0.001, 0.01, 0.1],\n",
        "                 \"C\": [1,10,50,100,250,500]}\n",
        "\n",
        "rf_hyperparameters= {'n_estimators':[20,30,40,60,100],\n",
        "                     'max_depth':  \n",
        "             [5,10,15,20]}\n",
        "\n",
        "rf_hyperparameters= {'n_estimators':[20,30,40,60,100], 'max_depth': \n",
        "             [5,10,15,20],'max_features':[2,5,8]}\n",
        "\n",
        "\n",
        "linreg_hyperparameters= {} \n",
        "\n",
        "knn_hyperparameters= {\"n_neighbors\": [1,3,5,7],\n",
        "                 \"metric\":[\"manhattan\"]} \n",
        "             \n",
        "regressor_param = [dt_hyperparameters,\n",
        "                   svr_hyperparameters,\n",
        "                   rf_hyperparameters,\n",
        "                   linreg_hyperparameters,\n",
        "                   knn_hyperparameters]\n"
      ],
      "execution_count": 41,
      "outputs": []
    },
    {
      "cell_type": "markdown",
      "metadata": {
        "id": "yFxwUAq_9rBC"
      },
      "source": [
        "Her şey hazırsa GridSearchCV aracını çalıştıralım. cv_result listesi Çapraz Doğrulama Ortalama skor değerlerini tutacaktır. test_mea_error listesi test verilerimizin sonuçlarını tutacaktır. best_estimators ise de her bir algoritmanın hangi parametrelerde en iyi performans verdiğini tutacaktır. GridSearchCV sınıfından nesne oluşturulurken ilk parametre algoritmanın sınıfı gönderiliyor. **param_grid** paramametresine ise ilgili algoritmanın hiper parametre python sözlüğü gönderiliyor. **cv** parametresine ise önceki sayfalarda bahsedilen  K Fold Cross Validation işlemi için cv=5 (K değeri 5 olarak belirtilmiştir.) değeri gönderiliyor. **scoring** parametresine de algoritmaların performans metriği olarak neg_mean_squared_error yani Negatif Ortalama Kare Hatası kullanılması belirtilmiştir. Burada Negatif Ortalama Kare Hatası metriği  Ortalama Kare Hatası metriğinin negatif versiyonun elde edilmesi ile ifade ediliyor.Scikit-learn skorlama için, greater_is_better denilen yaklaşıma sahip ve şöyle ifade eder: Daha yüksek hata dönüş değerleri, düşük hata dönüş değerlerinden daha iyidir. **n_jobs** parametresine -1 değeri verilerek denemelerin paralel olarak hızlı yapılması için kullanıldı. Aşağıdaki kod bloğunu çalıştırdığınızda biraz zaman alabilir. Çünkü bir çok deneme yapılacaktır.\n",
        "\n"
      ]
    },
    {
      "cell_type": "code",
      "metadata": {
        "id": "sgs29NjkCOvT"
      },
      "source": [
        "test_mea_error = []\n",
        "cv_result=[]\n",
        "best_estimators = []\n",
        "\n",
        "for i in range(len(regressor)):\n",
        "    reg = GridSearchCV(regressor[i], param_grid=regressor_param[i], cv = 5, scoring = \"neg_mean_squared_error\", n_jobs = -1)\n",
        "\n",
        "    reg.fit(X_train,y_train)\n",
        "\n",
        "    best_estimators.append(reg.best_estimator_)\n",
        "    cv_result.append(reg.best_score_*-1) \n",
        "    test_mea_error.append(reg.score(X_test,y_test)*-1)\n",
        "\n"
      ],
      "execution_count": 42,
      "outputs": []
    },
    {
      "cell_type": "markdown",
      "metadata": {
        "id": "-u5-hZlw9ojn"
      },
      "source": [
        "Yukarıdaki kod çalıştıktan sonra hangi algoritmanın belirttiğimiz hangi değerler ile daha başarılı bir sonuç veridğini görmek için aşağıdaki kod bloğunu çalıştırmalıyız. Ve aşağıdaki çıktıyı detaylı olarak inceleyebilirsiniz.\n",
        "\n"
      ]
    },
    {
      "cell_type": "code",
      "metadata": {
        "colab": {
          "base_uri": "https://localhost:8080/"
        },
        "id": "AVVNUwj69l7K",
        "outputId": "91560a4d-324e-4feb-c272-07b557f2351e"
      },
      "source": [
        "best_estimators\n"
      ],
      "execution_count": 43,
      "outputs": [
        {
          "output_type": "execute_result",
          "data": {
            "text/plain": [
              "[DecisionTreeRegressor(ccp_alpha=0.0, criterion='mse', max_depth=5,\n",
              "                       max_features=None, max_leaf_nodes=None,\n",
              "                       min_impurity_decrease=0.0, min_impurity_split=None,\n",
              "                       min_samples_leaf=1, min_samples_split=50,\n",
              "                       min_weight_fraction_leaf=0.0, presort='deprecated',\n",
              "                       random_state=49, splitter='best'),\n",
              " SVR(C=50, cache_size=200, coef0=0.0, degree=3, epsilon=0.1, gamma=0.1,\n",
              "     kernel='rbf', max_iter=-1, shrinking=True, tol=0.001, verbose=False),\n",
              " RandomForestRegressor(bootstrap=True, ccp_alpha=0.0, criterion='mse',\n",
              "                       max_depth=5, max_features=2, max_leaf_nodes=None,\n",
              "                       max_samples=None, min_impurity_decrease=0.0,\n",
              "                       min_impurity_split=None, min_samples_leaf=1,\n",
              "                       min_samples_split=2, min_weight_fraction_leaf=0.0,\n",
              "                       n_estimators=100, n_jobs=None, oob_score=False,\n",
              "                       random_state=49, verbose=0, warm_start=False),\n",
              " LinearRegression(copy_X=True, fit_intercept=True, n_jobs=None, normalize=False),\n",
              " KNeighborsRegressor(algorithm='auto', leaf_size=30, metric='manhattan',\n",
              "                     metric_params=None, n_jobs=None, n_neighbors=3, p=2,\n",
              "                     weights='uniform')]"
            ]
          },
          "metadata": {},
          "execution_count": 43
        }
      ]
    },
    {
      "cell_type": "code",
      "metadata": {
        "colab": {
          "base_uri": "https://localhost:8080/",
          "height": 197
        },
        "id": "KnNp7vEO8oG4",
        "outputId": "af7e0452-e297-43d0-81b6-ac74bdc8d774"
      },
      "source": [
        "cv_results = pd.DataFrame({ \"Makine Öğrenmesi Modelleri\":[\"Karar Ağaçları Regresyonu\", \"Destek Vektör Regresyonu\",\"Rassal Orman Regresyonu\",\n",
        "             \"Lineer Regresyon\",\"K En Yakın Komşular Regresyonu\"],\"Çapraz Doğrulama Hatası\":cv_result,\"Test Hatası \":test_mea_error})\n",
        "cv_results"
      ],
      "execution_count": 44,
      "outputs": [
        {
          "output_type": "execute_result",
          "data": {
            "text/html": [
              "<div>\n",
              "<style scoped>\n",
              "    .dataframe tbody tr th:only-of-type {\n",
              "        vertical-align: middle;\n",
              "    }\n",
              "\n",
              "    .dataframe tbody tr th {\n",
              "        vertical-align: top;\n",
              "    }\n",
              "\n",
              "    .dataframe thead th {\n",
              "        text-align: right;\n",
              "    }\n",
              "</style>\n",
              "<table border=\"1\" class=\"dataframe\">\n",
              "  <thead>\n",
              "    <tr style=\"text-align: right;\">\n",
              "      <th></th>\n",
              "      <th>Makine Öğrenmesi Modelleri</th>\n",
              "      <th>Çapraz Doğrulama Hatası</th>\n",
              "      <th>Test Hatası</th>\n",
              "    </tr>\n",
              "  </thead>\n",
              "  <tbody>\n",
              "    <tr>\n",
              "      <th>0</th>\n",
              "      <td>Karar Ağaçları Regresyonu</td>\n",
              "      <td>28.368775</td>\n",
              "      <td>13.070083</td>\n",
              "    </tr>\n",
              "    <tr>\n",
              "      <th>1</th>\n",
              "      <td>Destek Vektör Regresyonu</td>\n",
              "      <td>23.350713</td>\n",
              "      <td>12.469778</td>\n",
              "    </tr>\n",
              "    <tr>\n",
              "      <th>2</th>\n",
              "      <td>Rassal Orman Regresyonu</td>\n",
              "      <td>24.470412</td>\n",
              "      <td>10.381187</td>\n",
              "    </tr>\n",
              "    <tr>\n",
              "      <th>3</th>\n",
              "      <td>Lineer Regresyon</td>\n",
              "      <td>31.594899</td>\n",
              "      <td>21.744229</td>\n",
              "    </tr>\n",
              "    <tr>\n",
              "      <th>4</th>\n",
              "      <td>K En Yakın Komşular Regresyonu</td>\n",
              "      <td>29.464655</td>\n",
              "      <td>14.926315</td>\n",
              "    </tr>\n",
              "  </tbody>\n",
              "</table>\n",
              "</div>"
            ],
            "text/plain": [
              "       Makine Öğrenmesi Modelleri  Çapraz Doğrulama Hatası  Test Hatası \n",
              "0       Karar Ağaçları Regresyonu                28.368775     13.070083\n",
              "1        Destek Vektör Regresyonu                23.350713     12.469778\n",
              "2         Rassal Orman Regresyonu                24.470412     10.381187\n",
              "3                Lineer Regresyon                31.594899     21.744229\n",
              "4  K En Yakın Komşular Regresyonu                29.464655     14.926315"
            ]
          },
          "metadata": {},
          "execution_count": 44
        }
      ]
    },
    {
      "cell_type": "markdown",
      "metadata": {
        "id": "abwhFFAS9AMs"
      },
      "source": [
        "\n",
        "Yukarıda görüldüğü üzere, en başarılı model Rassal Orman Regresyonu modeli test veri seti üzerinde 10.38 skoru elde etmiş. Diğer modellere bakıldığında en yakın başarılı model iseDestek Vektör Regresyonu çıkmıştır. En kötü skoru ise gördüğünüz üzere Lineer Regresyon elde etmiştir.\n",
        "\n",
        "Projenin sonuna kadar geldiğiniz için ,tebrik ederim arkadaşlar . Şimdi buradan sonra bu veri seti üzerine daha farklı bir makine öğrenmesi modeli deneyin veya şuan var olan algoritmaların parametreleri daha iyi hale getirmenizi rica ediyorum.\n",
        "\n",
        "Bunun için yine sizlere anahtar kelimeler vermek istiyorum.\n",
        "\n",
        "* Eğer var olan algoritmaları daha başarılı yapmak istiyorsanız, hem algoritmanın matematiksel denklemine hem de sklearn kütüphanesinde o algoritmalar ile ilgili hangi parametreler var onları incelemeniz olacaktır.\n",
        "\n",
        "* Eğer bu modelleri birleştirip ortak güçlü bir model kurmak istiyorsanız , sklearn.ensemble.VotingClassifier sınıfını incelemenizi tavisiye ederim.\n",
        "\n",
        "* Eğer yeni bir algoritma denemek istiyorsanız, şuan için sizlere önerim XGBoost ve LightGBM algoritmalarıdır."
      ]
    }
  ]
}