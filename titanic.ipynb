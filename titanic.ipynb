{
  "nbformat": 4,
  "nbformat_minor": 0,
  "metadata": {
    "colab": {
      "name": "titanic.ipynb",
      "provenance": [],
      "collapsed_sections": [],
      "mount_file_id": "1AgymCCUXKhPoMpQ3tO3gvKviIkMdQSyJ",
      "authorship_tag": "ABX9TyMCU/2e5pt4UnrpjzzZjFGt",
      "include_colab_link": true
    },
    "kernelspec": {
      "name": "python3",
      "display_name": "Python 3"
    },
    "language_info": {
      "name": "python"
    }
  },
  "cells": [
    {
      "cell_type": "markdown",
      "metadata": {
        "id": "view-in-github",
        "colab_type": "text"
      },
      "source": [
        "<a href=\"https://colab.research.google.com/github/muhendis/dev-pykasif/blob/master/titanic.ipynb\" target=\"_parent\"><img src=\"https://colab.research.google.com/assets/colab-badge.svg\" alt=\"Open In Colab\"/></a>"
      ]
    },
    {
      "cell_type": "code",
      "metadata": {
        "colab": {
          "base_uri": "https://localhost:8080/"
        },
        "id": "H5PBOQpKsQ4z",
        "outputId": "4aa0b19c-9c89-4e44-8ac1-9efbb51a1781"
      },
      "source": [
        "cd /content/drive/MyDrive/dikey eksen/code"
      ],
      "execution_count": 1,
      "outputs": [
        {
          "output_type": "stream",
          "name": "stdout",
          "text": [
            "/content/drive/MyDrive/dikey eksen/code\n"
          ]
        }
      ]
    },
    {
      "cell_type": "code",
      "metadata": {
        "id": "LS7dWuL6sjEt"
      },
      "source": [
        "# kendi yazdığımız yardımcı kütüphanemiz\n",
        "from assistant.eda import ProfillingReport\n",
        "from assistant.datacleaning import DataCleaning\n",
        "from assistant.featureselection import FeatureSelection\n",
        "\n",
        "# temel kütüphaneler\n",
        "import numpy as np\n",
        "import pandas as pd\n",
        "import matplotlib.pyplot as plt\n",
        "import seaborn as sns\n",
        "\n",
        "# eğitim için\n",
        "from sklearn.linear_model import LogisticRegression\n",
        "from sklearn.svm import SVC\n",
        "from sklearn.ensemble import RandomForestClassifier\n",
        "from sklearn.neighbors import KNeighborsClassifier\n",
        "from sklearn.tree import DecisionTreeClassifier\n",
        "from sklearn.model_selection import train_test_split\n",
        "from sklearn.model_selection import StratifiedKFold\n",
        "from sklearn.model_selection import GridSearchCV\n",
        "\n",
        "# performans ölçümü\n",
        "from sklearn.metrics import accuracy_score\n",
        "\n",
        "# proje dosyasındaki uyarılar için\n",
        "import warnings\n",
        "warnings.simplefilter(action='ignore')\n"
      ],
      "execution_count": 2,
      "outputs": []
    },
    {
      "cell_type": "markdown",
      "metadata": {
        "id": "ffqPQ7zoiwp2"
      },
      "source": [
        "# 1. Veriyi yükleme ve anlama"
      ]
    },
    {
      "cell_type": "markdown",
      "metadata": {
        "id": "gxfNI-N2ynD0"
      },
      "source": [
        "Titanic gemisi, tarihin en kötü kazalarından biridir. 15 Nisan 1912'de Titanic ilk seferi sırasında bir buzdağıyla çarpıştıktan sonra battı ve 2224 yolcu ve mürettebattan 1502'sini öldü. Bu sansasyonel trajedi uluslararası toplumu şok etti ve gemiler için daha iyi güvenlik düzenlemelerine yol açtı. Hayatta kalmak için bir miktar şans unsuru olsa da, bazı insan gruplarının hayatta kalma olasılığı diğerlerinden daha yüksekmiş gibi görünüyor.\n",
        "\n",
        "\n",
        "Biz ise bu gemide yera alanlar kişilerin bilgilerini içeren veri setini kullanarak kimlerin hayatta kaldığını tahmin etmeye çalışan bir makine öğrenmesi modeli kuracağız.\n",
        "\n",
        "Veri setini seaborn kütüphanesinden load_dataset() fonksiyonu ile yapabiliyoruz.\n",
        "\n"
      ]
    },
    {
      "cell_type": "code",
      "metadata": {
        "id": "6zmjZlB6sy2K"
      },
      "source": [
        "df = sns.load_dataset(\"titanic\")"
      ],
      "execution_count": 3,
      "outputs": []
    },
    {
      "cell_type": "markdown",
      "metadata": {
        "id": "Lxs0Mo1DVKGs"
      },
      "source": [
        "Veri çerçevesine genel olarak bakmak istediğimizde df değişkenini çağırarak görüntüleyebiliriz."
      ]
    },
    {
      "cell_type": "code",
      "metadata": {
        "colab": {
          "base_uri": "https://localhost:8080/",
          "height": 406
        },
        "id": "jFLX503OtUTT",
        "outputId": "fd900dd2-4e35-43f2-82a5-d58646388d45"
      },
      "source": [
        "df"
      ],
      "execution_count": 4,
      "outputs": [
        {
          "output_type": "execute_result",
          "data": {
            "text/html": [
              "<div>\n",
              "<style scoped>\n",
              "    .dataframe tbody tr th:only-of-type {\n",
              "        vertical-align: middle;\n",
              "    }\n",
              "\n",
              "    .dataframe tbody tr th {\n",
              "        vertical-align: top;\n",
              "    }\n",
              "\n",
              "    .dataframe thead th {\n",
              "        text-align: right;\n",
              "    }\n",
              "</style>\n",
              "<table border=\"1\" class=\"dataframe\">\n",
              "  <thead>\n",
              "    <tr style=\"text-align: right;\">\n",
              "      <th></th>\n",
              "      <th>survived</th>\n",
              "      <th>pclass</th>\n",
              "      <th>sex</th>\n",
              "      <th>age</th>\n",
              "      <th>sibsp</th>\n",
              "      <th>parch</th>\n",
              "      <th>fare</th>\n",
              "      <th>embarked</th>\n",
              "      <th>class</th>\n",
              "      <th>who</th>\n",
              "      <th>adult_male</th>\n",
              "      <th>deck</th>\n",
              "      <th>embark_town</th>\n",
              "      <th>alive</th>\n",
              "      <th>alone</th>\n",
              "    </tr>\n",
              "  </thead>\n",
              "  <tbody>\n",
              "    <tr>\n",
              "      <th>0</th>\n",
              "      <td>0</td>\n",
              "      <td>3</td>\n",
              "      <td>male</td>\n",
              "      <td>22.0</td>\n",
              "      <td>1</td>\n",
              "      <td>0</td>\n",
              "      <td>7.2500</td>\n",
              "      <td>S</td>\n",
              "      <td>Third</td>\n",
              "      <td>man</td>\n",
              "      <td>True</td>\n",
              "      <td>NaN</td>\n",
              "      <td>Southampton</td>\n",
              "      <td>no</td>\n",
              "      <td>False</td>\n",
              "    </tr>\n",
              "    <tr>\n",
              "      <th>1</th>\n",
              "      <td>1</td>\n",
              "      <td>1</td>\n",
              "      <td>female</td>\n",
              "      <td>38.0</td>\n",
              "      <td>1</td>\n",
              "      <td>0</td>\n",
              "      <td>71.2833</td>\n",
              "      <td>C</td>\n",
              "      <td>First</td>\n",
              "      <td>woman</td>\n",
              "      <td>False</td>\n",
              "      <td>C</td>\n",
              "      <td>Cherbourg</td>\n",
              "      <td>yes</td>\n",
              "      <td>False</td>\n",
              "    </tr>\n",
              "    <tr>\n",
              "      <th>2</th>\n",
              "      <td>1</td>\n",
              "      <td>3</td>\n",
              "      <td>female</td>\n",
              "      <td>26.0</td>\n",
              "      <td>0</td>\n",
              "      <td>0</td>\n",
              "      <td>7.9250</td>\n",
              "      <td>S</td>\n",
              "      <td>Third</td>\n",
              "      <td>woman</td>\n",
              "      <td>False</td>\n",
              "      <td>NaN</td>\n",
              "      <td>Southampton</td>\n",
              "      <td>yes</td>\n",
              "      <td>True</td>\n",
              "    </tr>\n",
              "    <tr>\n",
              "      <th>3</th>\n",
              "      <td>1</td>\n",
              "      <td>1</td>\n",
              "      <td>female</td>\n",
              "      <td>35.0</td>\n",
              "      <td>1</td>\n",
              "      <td>0</td>\n",
              "      <td>53.1000</td>\n",
              "      <td>S</td>\n",
              "      <td>First</td>\n",
              "      <td>woman</td>\n",
              "      <td>False</td>\n",
              "      <td>C</td>\n",
              "      <td>Southampton</td>\n",
              "      <td>yes</td>\n",
              "      <td>False</td>\n",
              "    </tr>\n",
              "    <tr>\n",
              "      <th>4</th>\n",
              "      <td>0</td>\n",
              "      <td>3</td>\n",
              "      <td>male</td>\n",
              "      <td>35.0</td>\n",
              "      <td>0</td>\n",
              "      <td>0</td>\n",
              "      <td>8.0500</td>\n",
              "      <td>S</td>\n",
              "      <td>Third</td>\n",
              "      <td>man</td>\n",
              "      <td>True</td>\n",
              "      <td>NaN</td>\n",
              "      <td>Southampton</td>\n",
              "      <td>no</td>\n",
              "      <td>True</td>\n",
              "    </tr>\n",
              "    <tr>\n",
              "      <th>...</th>\n",
              "      <td>...</td>\n",
              "      <td>...</td>\n",
              "      <td>...</td>\n",
              "      <td>...</td>\n",
              "      <td>...</td>\n",
              "      <td>...</td>\n",
              "      <td>...</td>\n",
              "      <td>...</td>\n",
              "      <td>...</td>\n",
              "      <td>...</td>\n",
              "      <td>...</td>\n",
              "      <td>...</td>\n",
              "      <td>...</td>\n",
              "      <td>...</td>\n",
              "      <td>...</td>\n",
              "    </tr>\n",
              "    <tr>\n",
              "      <th>886</th>\n",
              "      <td>0</td>\n",
              "      <td>2</td>\n",
              "      <td>male</td>\n",
              "      <td>27.0</td>\n",
              "      <td>0</td>\n",
              "      <td>0</td>\n",
              "      <td>13.0000</td>\n",
              "      <td>S</td>\n",
              "      <td>Second</td>\n",
              "      <td>man</td>\n",
              "      <td>True</td>\n",
              "      <td>NaN</td>\n",
              "      <td>Southampton</td>\n",
              "      <td>no</td>\n",
              "      <td>True</td>\n",
              "    </tr>\n",
              "    <tr>\n",
              "      <th>887</th>\n",
              "      <td>1</td>\n",
              "      <td>1</td>\n",
              "      <td>female</td>\n",
              "      <td>19.0</td>\n",
              "      <td>0</td>\n",
              "      <td>0</td>\n",
              "      <td>30.0000</td>\n",
              "      <td>S</td>\n",
              "      <td>First</td>\n",
              "      <td>woman</td>\n",
              "      <td>False</td>\n",
              "      <td>B</td>\n",
              "      <td>Southampton</td>\n",
              "      <td>yes</td>\n",
              "      <td>True</td>\n",
              "    </tr>\n",
              "    <tr>\n",
              "      <th>888</th>\n",
              "      <td>0</td>\n",
              "      <td>3</td>\n",
              "      <td>female</td>\n",
              "      <td>NaN</td>\n",
              "      <td>1</td>\n",
              "      <td>2</td>\n",
              "      <td>23.4500</td>\n",
              "      <td>S</td>\n",
              "      <td>Third</td>\n",
              "      <td>woman</td>\n",
              "      <td>False</td>\n",
              "      <td>NaN</td>\n",
              "      <td>Southampton</td>\n",
              "      <td>no</td>\n",
              "      <td>False</td>\n",
              "    </tr>\n",
              "    <tr>\n",
              "      <th>889</th>\n",
              "      <td>1</td>\n",
              "      <td>1</td>\n",
              "      <td>male</td>\n",
              "      <td>26.0</td>\n",
              "      <td>0</td>\n",
              "      <td>0</td>\n",
              "      <td>30.0000</td>\n",
              "      <td>C</td>\n",
              "      <td>First</td>\n",
              "      <td>man</td>\n",
              "      <td>True</td>\n",
              "      <td>C</td>\n",
              "      <td>Cherbourg</td>\n",
              "      <td>yes</td>\n",
              "      <td>True</td>\n",
              "    </tr>\n",
              "    <tr>\n",
              "      <th>890</th>\n",
              "      <td>0</td>\n",
              "      <td>3</td>\n",
              "      <td>male</td>\n",
              "      <td>32.0</td>\n",
              "      <td>0</td>\n",
              "      <td>0</td>\n",
              "      <td>7.7500</td>\n",
              "      <td>Q</td>\n",
              "      <td>Third</td>\n",
              "      <td>man</td>\n",
              "      <td>True</td>\n",
              "      <td>NaN</td>\n",
              "      <td>Queenstown</td>\n",
              "      <td>no</td>\n",
              "      <td>True</td>\n",
              "    </tr>\n",
              "  </tbody>\n",
              "</table>\n",
              "<p>891 rows × 15 columns</p>\n",
              "</div>"
            ],
            "text/plain": [
              "     survived  pclass     sex   age  ...  deck  embark_town  alive  alone\n",
              "0           0       3    male  22.0  ...   NaN  Southampton     no  False\n",
              "1           1       1  female  38.0  ...     C    Cherbourg    yes  False\n",
              "2           1       3  female  26.0  ...   NaN  Southampton    yes   True\n",
              "3           1       1  female  35.0  ...     C  Southampton    yes  False\n",
              "4           0       3    male  35.0  ...   NaN  Southampton     no   True\n",
              "..        ...     ...     ...   ...  ...   ...          ...    ...    ...\n",
              "886         0       2    male  27.0  ...   NaN  Southampton     no   True\n",
              "887         1       1  female  19.0  ...     B  Southampton    yes   True\n",
              "888         0       3  female   NaN  ...   NaN  Southampton     no  False\n",
              "889         1       1    male  26.0  ...     C    Cherbourg    yes   True\n",
              "890         0       3    male  32.0  ...   NaN   Queenstown     no   True\n",
              "\n",
              "[891 rows x 15 columns]"
            ]
          },
          "metadata": {},
          "execution_count": 4
        }
      ]
    },
    {
      "cell_type": "markdown",
      "metadata": {
        "id": "YOyxSRIK9_f1"
      },
      "source": [
        "\n",
        "Yukarıdaki veri setinde her bir satır bir yolcuya ait bilgileri içeriyor. Bu bilgiler kişinin ekonomik statüsden cinsiyetine kadar bilgileri içeriyor. Veri setinde yer alan özniteliklerin ne anlam içeriklerine bakalım.\n",
        "\n",
        "* Survived : Titanic gemisinde hayatta kalanlar 1 , hayatta kalmayanlar 0\n",
        "* Pclass :  Ekonomi statüsüdür\n",
        "  * 1 = Üst\n",
        "  * 2 = Orta\n",
        "  * 3 = Düşük\n",
        "* Sex : Male/Female\n",
        "* Age : Yolcuların Yaşları\n",
        "* SibSp : Gemideki kardeş ve eş sayısını verir \n",
        "* Parch : Gemideki ebeveyn ve çocuk sayısını söyler\n",
        "* Fare : Bilet fiyatı\n",
        "* embark\t : Liman isimleri (C, Q, S)\n",
        "  * C = Cherbourg, \n",
        "  * Q = Queenstown,\n",
        "  * S = Southampton\n",
        "* class :  Ekonomi statüsüdür\n",
        "  * First = Üst\n",
        "  * Second = Orta\n",
        "  * Third = Düşük\n",
        "* who: Yaşa göre sınıflama\n",
        " * man (18+)\n",
        " * woman (18+)\n",
        " * child (18 küçük)\n",
        "* adult_male: 18 yaşında veya daha büyük bir erkek (0 = Hayır, 1=Evet)\n",
        "* deck : geminin güvertesi\n",
        "* embark_town\t : Liman isimleri (C, Q, S)\n",
        "  * C = Cherbourg, \n",
        "  * Q = Queenstown,\n",
        "  * S = Southampton\n",
        "* alive: Yes, no\n",
        "* alone: 1= yalnız, 0= yalnız değil (gemide en az 1 kardeşiniz, eşiniz, ebeveyniniz veya çocuğunuz var)\n",
        "\n"
      ]
    },
    {
      "cell_type": "markdown",
      "metadata": {
        "id": "9jYGhm9p-weg"
      },
      "source": [
        "\n",
        "\n",
        "> **Aynı anlamı veren yinelenen sütunları silme**\n",
        "\n",
        "\n",
        "\n",
        "Yukarıdaki açıklamalara bakıldığında, pclass ve class sütunları aynı değerleri temsil ediyor. Aynı şekil embarked ve embark_town sütunları da aynı değerleri ifade ediyor. Bu yüzden pclass ve embarked sütunları siliyoruz. Eğer silmezsek makine öğrenmesi modeline faydasından ziyade zarar verir. Ve ek olarak  bazı değişkenler bazı bilgileri bünyesinde taşıyorken ek olarak başka bir sütunda da farklı şekilde  belirtilmiş. \n",
        "\n",
        "* Bunlar bir tanesi adult_male'dir. adult_male değişkenini de silmeliyiz çünkü aynı bilgilerin daha fazlasını who değişkeni man(erkek), woman (kadın) ve child (çocuk) olarak içeriyor\n",
        "\n",
        "* Başka bir tanesi ise alone'dir. alone değişkenini de silmeliyiz çünkü aynı bilgilerin daha fazlasını sibsp\tve parch\tdeğişkenleri içeriyor\n",
        "\n",
        "* Sonuncu ise alive'dir. alive değişkenini de silmeliyiz çünkü aynı bilgileri survived\tdeğişkenleri içeriyor\n",
        "------------\n"
      ]
    },
    {
      "cell_type": "code",
      "metadata": {
        "colab": {
          "base_uri": "https://localhost:8080/",
          "height": 406
        },
        "id": "ECSaZhh9-RMT",
        "outputId": "e6767a83-f745-40b9-d0cd-246b40dbff4f"
      },
      "source": [
        "df=df.drop(['pclass', 'embarked','adult_male','alone','alive'], axis=1)\n",
        "df"
      ],
      "execution_count": 5,
      "outputs": [
        {
          "output_type": "execute_result",
          "data": {
            "text/html": [
              "<div>\n",
              "<style scoped>\n",
              "    .dataframe tbody tr th:only-of-type {\n",
              "        vertical-align: middle;\n",
              "    }\n",
              "\n",
              "    .dataframe tbody tr th {\n",
              "        vertical-align: top;\n",
              "    }\n",
              "\n",
              "    .dataframe thead th {\n",
              "        text-align: right;\n",
              "    }\n",
              "</style>\n",
              "<table border=\"1\" class=\"dataframe\">\n",
              "  <thead>\n",
              "    <tr style=\"text-align: right;\">\n",
              "      <th></th>\n",
              "      <th>survived</th>\n",
              "      <th>sex</th>\n",
              "      <th>age</th>\n",
              "      <th>sibsp</th>\n",
              "      <th>parch</th>\n",
              "      <th>fare</th>\n",
              "      <th>class</th>\n",
              "      <th>who</th>\n",
              "      <th>deck</th>\n",
              "      <th>embark_town</th>\n",
              "    </tr>\n",
              "  </thead>\n",
              "  <tbody>\n",
              "    <tr>\n",
              "      <th>0</th>\n",
              "      <td>0</td>\n",
              "      <td>male</td>\n",
              "      <td>22.0</td>\n",
              "      <td>1</td>\n",
              "      <td>0</td>\n",
              "      <td>7.2500</td>\n",
              "      <td>Third</td>\n",
              "      <td>man</td>\n",
              "      <td>NaN</td>\n",
              "      <td>Southampton</td>\n",
              "    </tr>\n",
              "    <tr>\n",
              "      <th>1</th>\n",
              "      <td>1</td>\n",
              "      <td>female</td>\n",
              "      <td>38.0</td>\n",
              "      <td>1</td>\n",
              "      <td>0</td>\n",
              "      <td>71.2833</td>\n",
              "      <td>First</td>\n",
              "      <td>woman</td>\n",
              "      <td>C</td>\n",
              "      <td>Cherbourg</td>\n",
              "    </tr>\n",
              "    <tr>\n",
              "      <th>2</th>\n",
              "      <td>1</td>\n",
              "      <td>female</td>\n",
              "      <td>26.0</td>\n",
              "      <td>0</td>\n",
              "      <td>0</td>\n",
              "      <td>7.9250</td>\n",
              "      <td>Third</td>\n",
              "      <td>woman</td>\n",
              "      <td>NaN</td>\n",
              "      <td>Southampton</td>\n",
              "    </tr>\n",
              "    <tr>\n",
              "      <th>3</th>\n",
              "      <td>1</td>\n",
              "      <td>female</td>\n",
              "      <td>35.0</td>\n",
              "      <td>1</td>\n",
              "      <td>0</td>\n",
              "      <td>53.1000</td>\n",
              "      <td>First</td>\n",
              "      <td>woman</td>\n",
              "      <td>C</td>\n",
              "      <td>Southampton</td>\n",
              "    </tr>\n",
              "    <tr>\n",
              "      <th>4</th>\n",
              "      <td>0</td>\n",
              "      <td>male</td>\n",
              "      <td>35.0</td>\n",
              "      <td>0</td>\n",
              "      <td>0</td>\n",
              "      <td>8.0500</td>\n",
              "      <td>Third</td>\n",
              "      <td>man</td>\n",
              "      <td>NaN</td>\n",
              "      <td>Southampton</td>\n",
              "    </tr>\n",
              "    <tr>\n",
              "      <th>...</th>\n",
              "      <td>...</td>\n",
              "      <td>...</td>\n",
              "      <td>...</td>\n",
              "      <td>...</td>\n",
              "      <td>...</td>\n",
              "      <td>...</td>\n",
              "      <td>...</td>\n",
              "      <td>...</td>\n",
              "      <td>...</td>\n",
              "      <td>...</td>\n",
              "    </tr>\n",
              "    <tr>\n",
              "      <th>886</th>\n",
              "      <td>0</td>\n",
              "      <td>male</td>\n",
              "      <td>27.0</td>\n",
              "      <td>0</td>\n",
              "      <td>0</td>\n",
              "      <td>13.0000</td>\n",
              "      <td>Second</td>\n",
              "      <td>man</td>\n",
              "      <td>NaN</td>\n",
              "      <td>Southampton</td>\n",
              "    </tr>\n",
              "    <tr>\n",
              "      <th>887</th>\n",
              "      <td>1</td>\n",
              "      <td>female</td>\n",
              "      <td>19.0</td>\n",
              "      <td>0</td>\n",
              "      <td>0</td>\n",
              "      <td>30.0000</td>\n",
              "      <td>First</td>\n",
              "      <td>woman</td>\n",
              "      <td>B</td>\n",
              "      <td>Southampton</td>\n",
              "    </tr>\n",
              "    <tr>\n",
              "      <th>888</th>\n",
              "      <td>0</td>\n",
              "      <td>female</td>\n",
              "      <td>NaN</td>\n",
              "      <td>1</td>\n",
              "      <td>2</td>\n",
              "      <td>23.4500</td>\n",
              "      <td>Third</td>\n",
              "      <td>woman</td>\n",
              "      <td>NaN</td>\n",
              "      <td>Southampton</td>\n",
              "    </tr>\n",
              "    <tr>\n",
              "      <th>889</th>\n",
              "      <td>1</td>\n",
              "      <td>male</td>\n",
              "      <td>26.0</td>\n",
              "      <td>0</td>\n",
              "      <td>0</td>\n",
              "      <td>30.0000</td>\n",
              "      <td>First</td>\n",
              "      <td>man</td>\n",
              "      <td>C</td>\n",
              "      <td>Cherbourg</td>\n",
              "    </tr>\n",
              "    <tr>\n",
              "      <th>890</th>\n",
              "      <td>0</td>\n",
              "      <td>male</td>\n",
              "      <td>32.0</td>\n",
              "      <td>0</td>\n",
              "      <td>0</td>\n",
              "      <td>7.7500</td>\n",
              "      <td>Third</td>\n",
              "      <td>man</td>\n",
              "      <td>NaN</td>\n",
              "      <td>Queenstown</td>\n",
              "    </tr>\n",
              "  </tbody>\n",
              "</table>\n",
              "<p>891 rows × 10 columns</p>\n",
              "</div>"
            ],
            "text/plain": [
              "     survived     sex   age  sibsp  ...   class    who deck  embark_town\n",
              "0           0    male  22.0      1  ...   Third    man  NaN  Southampton\n",
              "1           1  female  38.0      1  ...   First  woman    C    Cherbourg\n",
              "2           1  female  26.0      0  ...   Third  woman  NaN  Southampton\n",
              "3           1  female  35.0      1  ...   First  woman    C  Southampton\n",
              "4           0    male  35.0      0  ...   Third    man  NaN  Southampton\n",
              "..        ...     ...   ...    ...  ...     ...    ...  ...          ...\n",
              "886         0    male  27.0      0  ...  Second    man  NaN  Southampton\n",
              "887         1  female  19.0      0  ...   First  woman    B  Southampton\n",
              "888         0  female   NaN      1  ...   Third  woman  NaN  Southampton\n",
              "889         1    male  26.0      0  ...   First    man    C    Cherbourg\n",
              "890         0    male  32.0      0  ...   Third    man  NaN   Queenstown\n",
              "\n",
              "[891 rows x 10 columns]"
            ]
          },
          "metadata": {},
          "execution_count": 5
        }
      ]
    },
    {
      "cell_type": "markdown",
      "metadata": {
        "id": "jIQAcLEiCLiy"
      },
      "source": [
        "> **Değişkenleri belirleme**\n",
        "\n",
        "* **Kategorik değişkenler** :sex,sibsp,parch,class,who,deck,embark_town,\n",
        "\n",
        "* **Sürekli değişkenler**: fare, age\n",
        "\n",
        "* **Hedef değişken** :survived\n"
      ]
    },
    {
      "cell_type": "code",
      "metadata": {
        "id": "Hhm6yh5Btr95"
      },
      "source": [
        "categorical_variables = ['sex',\n",
        " 'sibsp',\n",
        " 'parch',\n",
        " 'class',\n",
        " 'who',\n",
        " 'deck',\n",
        " 'embark_town']\n",
        "continuous_variables = ['age', 'fare']\n",
        "target = [\"survived\"]"
      ],
      "execution_count": 6,
      "outputs": []
    },
    {
      "cell_type": "markdown",
      "metadata": {
        "id": "iOpIYUsOWi_u"
      },
      "source": [
        "Gerekli değişkenler tespit edildiğine göre Keşifçi Veri Analizi için yazdığımız ProfillingReport sınıfından nesne oluşturma zamanıdır.\n"
      ]
    },
    {
      "cell_type": "code",
      "metadata": {
        "id": "qFXEUorcHSh6"
      },
      "source": [
        "pr=ProfillingReport(df, continuous_variables,\n",
        "               categorical_variables,\n",
        "               target)"
      ],
      "execution_count": 7,
      "outputs": []
    },
    {
      "cell_type": "markdown",
      "metadata": {
        "id": "KN4WAadyW1Jy"
      },
      "source": [
        "Veri setinde bulunan veri tiplerine bakmak istediğimizde pr.data_types() ve pr.df.info() araçları bize fikir verecektir. Aşağıda görüldüğü üzere çok farklı tipte verilere sahibiz."
      ]
    },
    {
      "cell_type": "code",
      "metadata": {
        "colab": {
          "base_uri": "https://localhost:8080/",
          "height": 247
        },
        "id": "mxr46CCIHTjQ",
        "outputId": "cb024946-c5bf-456d-9c62-90de2bcfcebb"
      },
      "source": [
        "pr.data_types()"
      ],
      "execution_count": 8,
      "outputs": [
        {
          "output_type": "display_data",
          "data": {
            "image/png": "[encoded data removed]",
            "text/plain": [
              "<Figure size 432x288 with 1 Axes>"
            ]
          },
          "metadata": {}
        }
      ]
    },
    {
      "cell_type": "code",
      "metadata": {
        "colab": {
          "base_uri": "https://localhost:8080/"
        },
        "id": "kaK-By7vMhEo",
        "outputId": "35b7b8c3-17ba-4ad5-9dc5-edebd8cb63e7"
      },
      "source": [
        "pr.df.info()"
      ],
      "execution_count": 9,
      "outputs": [
        {
          "output_type": "stream",
          "name": "stdout",
          "text": [
            "<class 'pandas.core.frame.DataFrame'>\n",
            "RangeIndex: 891 entries, 0 to 890\n",
            "Data columns (total 10 columns):\n",
            " #   Column       Non-Null Count  Dtype   \n",
            "---  ------       --------------  -----   \n",
            " 0   survived     891 non-null    int64   \n",
            " 1   sex          891 non-null    object  \n",
            " 2   age          714 non-null    float64 \n",
            " 3   sibsp        891 non-null    int64   \n",
            " 4   parch        891 non-null    int64   \n",
            " 5   fare         891 non-null    float64 \n",
            " 6   class        891 non-null    category\n",
            " 7   who          891 non-null    object  \n",
            " 8   deck         203 non-null    category\n",
            " 9   embark_town  889 non-null    object  \n",
            "dtypes: category(2), float64(2), int64(3), object(3)\n",
            "memory usage: 58.0+ KB\n"
          ]
        }
      ]
    },
    {
      "cell_type": "markdown",
      "metadata": {
        "id": "yRZcs2QaXMXe"
      },
      "source": [
        "Veri setinde kayıp hücre miktarını öğrenmek için missing_cell_count() metodu kullanıldığında bize veri setinde genel olarak ne kadar kayıp hücre olduğu hakkında fikir veriyor. Veri setinin %9.7'si kayıp diyebiliriz."
      ]
    },
    {
      "cell_type": "code",
      "metadata": {
        "colab": {
          "base_uri": "https://localhost:8080/",
          "height": 247
        },
        "id": "UAJdxIFgHayZ",
        "outputId": "874ae5a6-d224-41f0-b4d8-25d4b4093be6"
      },
      "source": [
        "pr.missing_cell_count()"
      ],
      "execution_count": 10,
      "outputs": [
        {
          "output_type": "display_data",
          "data": {
            "image/png": "[encoded data removed]",
            "text/plain": [
              "<Figure size 432x288 with 1 Axes>"
            ]
          },
          "metadata": {}
        }
      ]
    },
    {
      "cell_type": "markdown",
      "metadata": {
        "id": "ti4vJU6_YC6M"
      },
      "source": [
        "Kayıpları detaylı olarak incelemek için aşağıdaki hücre bize yardımcı olacaktır. Hem sayısal hem de yüzdesel bir oran elde ediyoruz. Hücrenin çıktısı incelendiğinde age, deck ve embark_down özniteliklerinde kayıp hücrelere sahip olduğumuz rahatça anlaşılıyor. Ve en çok kayıp hücreye deck özniteliği sahipmiş. Ver işleme bölümünde bu özniteliği veri setinde çıkarmalıyız. Çünkü kayıp oranı çok yüksek olduğundan tedavi etmemiz çok kolay bir iş değildir. age ve embark_town özniteliklerinde kayıplar az olduğundan tedavi edebiliriz."
      ]
    },
    {
      "cell_type": "code",
      "metadata": {
        "colab": {
          "base_uri": "https://localhost:8080/"
        },
        "id": "jsSuNllzOqec",
        "outputId": "e7f2abd8-af56-4490-f4bd-a050efd64b76"
      },
      "source": [
        "print(\"Sayısal olarak : \\n\",pr.df.isnull().sum() )\n",
        "print(\"\\n----------------\\n\")\n",
        "print(\"Yüzdelik olarak :\\n\" ,pr.df.isnull().sum() / (pr.df.index.stop+1))\n"
      ],
      "execution_count": 11,
      "outputs": [
        {
          "output_type": "stream",
          "name": "stdout",
          "text": [
            "Sayısal olarak : \n",
            " survived         0\n",
            "sex              0\n",
            "age            177\n",
            "sibsp            0\n",
            "parch            0\n",
            "fare             0\n",
            "class            0\n",
            "who              0\n",
            "deck           688\n",
            "embark_town      2\n",
            "dtype: int64\n",
            "\n",
            "----------------\n",
            "\n",
            "Yüzdelik olarak :\n",
            " survived       0.000000\n",
            "sex            0.000000\n",
            "age            0.198430\n",
            "sibsp          0.000000\n",
            "parch          0.000000\n",
            "fare           0.000000\n",
            "class          0.000000\n",
            "who            0.000000\n",
            "deck           0.771300\n",
            "embark_town    0.002242\n",
            "dtype: float64\n"
          ]
        }
      ]
    },
    {
      "cell_type": "markdown",
      "metadata": {
        "id": "ifOlOdh-ZS2N"
      },
      "source": [
        "Ve veri setinde tekrarlı bir şekilde yer alan örnekleri(satırlar) duplicate_row_count() metodu ile tespit ettiğimizde %12'lik bir değer elde ediyoruz. Veri işleme bölümünde bu tekrarlı veriler atılacaktır. Çünkü makine öğrenmesi modeli eğitiminde model negatif yönde etkilenebilir."
      ]
    },
    {
      "cell_type": "code",
      "metadata": {
        "colab": {
          "base_uri": "https://localhost:8080/",
          "height": 247
        },
        "id": "RwczSTM7HdB3",
        "outputId": "28ea93b0-cf81-47bb-e6f4-30bffaa3a3fe"
      },
      "source": [
        "pr.duplicate_row_count()"
      ],
      "execution_count": 12,
      "outputs": [
        {
          "output_type": "display_data",
          "data": {
            "image/png": "[encoded data removed]",
            "text/plain": [
              "<Figure size 432x288 with 1 Axes>"
            ]
          },
          "metadata": {}
        }
      ]
    },
    {
      "cell_type": "markdown",
      "metadata": {
        "id": "rU4feT8GZzEp"
      },
      "source": [
        "Veri setinde bulunan özniteliklerin dağılımları aşağıda detaylı olarak inceleyebiliriz. Veri setinde ne kadar kadın ve erkek ? Hangi limanlardan ne kadar yolcu var ? gibi sorulara cevap verebilir.  (Bu kısmı size bırakıyorum. Çünkü kitabımızda nasıl yorum yapacağımız hakkında sizinle fikirler paylaşmıştım.)"
      ]
    },
    {
      "cell_type": "code",
      "metadata": {
        "colab": {
          "base_uri": "https://localhost:8080/",
          "height": 1000
        },
        "id": "OhjIiPNZHgJo",
        "outputId": "28fd22b4-37a9-443e-dee5-c2062443f864"
      },
      "source": [
        "pr.visualize_distribution()"
      ],
      "execution_count": 13,
      "outputs": [
        {
          "output_type": "display_data",
          "data": {
            "image/png": "[encoded data removed]",
            "text/plain": [
              "<Figure size 432x288 with 1 Axes>"
            ]
          },
          "metadata": {
            "needs_background": "light"
          }
        },
        {
          "output_type": "display_data",
          "data": {
            "image/png": "[encoded data removed]",
            "text/plain": [
              "<Figure size 432x288 with 1 Axes>"
            ]
          },
          "metadata": {
            "needs_background": "light"
          }
        },
        {
          "output_type": "display_data",
          "data": {
            "image/png": "[encoded data removed]",
            "text/plain": [
              "<Figure size 432x288 with 1 Axes>"
            ]
          },
          "metadata": {
            "needs_background": "light"
          }
        },
        {
          "output_type": "display_data",
          "data": {
            "image/png": "[encoded data removed]",
            "text/plain": [
              "<Figure size 432x288 with 1 Axes>"
            ]
          },
          "metadata": {
            "needs_background": "light"
          }
        },
        {
          "output_type": "display_data",
          "data": {
            "image/png": "[encoded data removed]",
            "text/plain": [
              "<Figure size 432x288 with 1 Axes>"
            ]
          },
          "metadata": {
            "needs_background": "light"
          }
        },
        {
          "output_type": "display_data",
          "data": {
            "image/png": "[encoded data removed]",
            "text/plain": [
              "<Figure size 432x288 with 1 Axes>"
            ]
          },
          "metadata": {
            "needs_background": "light"
          }
        },
        {
          "output_type": "display_data",
          "data": {
            "image/png": "[encoded data removed]",
            "text/plain": [
              "<Figure size 432x288 with 1 Axes>"
            ]
          },
          "metadata": {
            "needs_background": "light"
          }
        },
        {
          "output_type": "display_data",
          "data": {
            "image/png": "[encoded data removed]",
            "text/plain": [
              "<Figure size 432x288 with 1 Axes>"
            ]
          },
          "metadata": {
            "needs_background": "light"
          }
        },
        {
          "output_type": "display_data",
          "data": {
            "image/png": "[encoded data removed]",
            "text/plain": [
              "<Figure size 432x288 with 1 Axes>"
            ]
          },
          "metadata": {
            "needs_background": "light"
          }
        },
        {
          "output_type": "display_data",
          "data": {
            "image/png": "[encoded data removed]",
            "text/plain": [
              "<Figure size 432x288 with 1 Axes>"
            ]
          },
          "metadata": {
            "needs_background": "light"
          }
        }
      ]
    },
    {
      "cell_type": "markdown",
      "metadata": {
        "id": "0uKSQhkRag6O"
      },
      "source": [
        "Veri setindeki sürekli değişkenlerden fare ve age özniteliklerini detaylı incelersek. Aşağıdaki notları çıkarabiliriz.\n",
        "\n",
        "fare özniteliğinin mod değeri 8.05, medyan değeri 14.4542 ve ortalama değeri ise de 32.20 olduğu elde ediliyor. Sırf bu üç değere baktığımızda bile bu özniteliğin dağılımının çarpık olduğunu ve bazı aykırı değerlere sahip olduğu gibi bir izlenim yakalıyabilirim. (Fakat kesinlikle dağılımı çizdirin bu düşüncenizle kalmayınız.) Özniteliğin kutu grafiğine ve histogramına bakıldığında ise düşüncemiz de haklı olduğumuzu görüyoruz. Kutu grafiğinde oldukça aykırı değerler olduğu nokta ile temsil edilen yapılardan anlıyoruz. Tabloda kutu grafiği için önemli olan min-25%-50%-75%-max değerleri de detaylı olarak yer alıyor. Skewness değerine bakıldığında ikinci grafikte görüldüğü gibi bir çarpıklık göze çarpıyor. Yine ikinci grafiğe bakıldığında basıklık değerini temsil eden kurtosis değerinin ne kadar yüksek olduğu ortadadır. \n",
        "\n",
        "Uyarı : Tablodaki değerleri yorumlamada zorluk yaşıyorsanız lütfen kitaptan ilgi bölüme tekrar bakınız.\n"
      ]
    },
    {
      "cell_type": "code",
      "metadata": {
        "colab": {
          "base_uri": "https://localhost:8080/",
          "height": 557
        },
        "id": "Hu6OKbRtHqhM",
        "outputId": "115e471c-b4a9-4c56-ae80-87a02aca9f7c"
      },
      "source": [
        "pr.central_tendency_measures_of_a_feature(\"fare\")\n",
        "pr.dispersion_measures_of_a_feature(\"fare\")"
      ],
      "execution_count": 14,
      "outputs": [
        {
          "output_type": "display_data",
          "data": {
            "image/png": "[encoded data removed]",
            "text/plain": [
              "<Figure size 432x288 with 1 Axes>"
            ]
          },
          "metadata": {
            "needs_background": "light"
          }
        },
        {
          "output_type": "display_data",
          "data": {
            "image/png": "[encoded data removed]",
            "text/plain": [
              "<Figure size 432x288 with 2 Axes>"
            ]
          },
          "metadata": {
            "needs_background": "light"
          }
        }
      ]
    },
    {
      "cell_type": "markdown",
      "metadata": {
        "id": "E115ww1ihWFD"
      },
      "source": [
        "* age özniteliğinin mod değeri 24, medyan değeri 28 ve ortalama değeri ise de 29.69 olduğu elde ediliyor.Bu üç değere baktığımızda fare özniteliğine oranla daha bir normal yapı sergilediğini söyleyebiliriz.Özniteliğin kutu grafiğine ve histogramına bakıldığında ise düşüncemiz de haklı olduğumuzu yine görüyoruz. Kutu grafiğinde aykırı değerleri ifade edenlerin daha az olduğu görülüyor. Tabloda kutu grafiği için önemli olan min-25%-50%-75%-max değerleri de detaylı olarak yer alıyor. Skewness değerine bakıldığında ikinci grafikte görüldüğü gibi bir normal dağılıma yakın bir gözlem elde ediliyor.  Yine ikinci grafiğe bakıldığında kurtosis basıklık değerinin düşük olduğu ortadadır. \n",
        "\n",
        "Uyarı : Tablodaki değerleri yorumlamada zorluk yaşıyorsanız lütfen kitaptan ilgi bölüme tekrar bakınız.\n"
      ]
    },
    {
      "cell_type": "code",
      "metadata": {
        "colab": {
          "base_uri": "https://localhost:8080/",
          "height": 557
        },
        "id": "3IX9-Lx0Hvpj",
        "outputId": "9c413d1f-e00c-43d5-d66e-6c3ff754c604"
      },
      "source": [
        "pr.central_tendency_measures_of_a_feature(\"age\")\n",
        "pr.dispersion_measures_of_a_feature(\"age\")"
      ],
      "execution_count": 15,
      "outputs": [
        {
          "output_type": "display_data",
          "data": {
            "image/png": "[encoded data removed]",
            "text/plain": [
              "<Figure size 432x288 with 1 Axes>"
            ]
          },
          "metadata": {
            "needs_background": "light"
          }
        },
        {
          "output_type": "display_data",
          "data": {
            "image/png": "[encoded data removed]",
            "text/plain": [
              "<Figure size 432x288 with 2 Axes>"
            ]
          },
          "metadata": {
            "needs_background": "light"
          }
        }
      ]
    },
    {
      "cell_type": "markdown",
      "metadata": {
        "id": "qrkz99q-iMN2"
      },
      "source": [
        "Kovaryans matrisinde yer alan sürekli değişkenlerin birbirleri ile pozitif yönde olduğu görülüyor. "
      ]
    },
    {
      "cell_type": "code",
      "metadata": {
        "colab": {
          "base_uri": "https://localhost:8080/",
          "height": 156
        },
        "id": "Xf7R7Cz4IUCv",
        "outputId": "8e5bcacb-eb11-436b-b70a-766e568b9a52"
      },
      "source": [
        "pr.covariance_matrix()"
      ],
      "execution_count": 16,
      "outputs": [
        {
          "output_type": "display_data",
          "data": {
            "image/png": "[encoded data removed]",
            "text/plain": [
              "<Figure size 144x144 with 2 Axes>"
            ]
          },
          "metadata": {
            "needs_background": "light"
          }
        }
      ]
    },
    {
      "cell_type": "markdown",
      "metadata": {
        "id": "Hmlzq3xssa4Q"
      },
      "source": [
        "Aşağıda görüldüğü üzere iki değişken arasında bir yüksek korelasyon olmadığından bunlardan birini veri setinden çıkarmamıza gerek yoktur. Bu sonuca correlation_analysis() metodunun çıktısındaki %9.61 değer ile jointplot(\"age\",\"fare\") çizimindeki doğrusal dağılmayan noktalardan varıldı.\n"
      ]
    },
    {
      "cell_type": "code",
      "metadata": {
        "colab": {
          "base_uri": "https://localhost:8080/",
          "height": 156
        },
        "id": "bShRg2OFImlf",
        "outputId": "2951be1b-26d8-48cc-ac98-423d19922896"
      },
      "source": [
        "pr.correlation_analysis()"
      ],
      "execution_count": 17,
      "outputs": [
        {
          "output_type": "display_data",
          "data": {
            "image/png": "[encoded data removed]",
            "text/plain": [
              "<Figure size 144x144 with 2 Axes>"
            ]
          },
          "metadata": {
            "needs_background": "light"
          }
        }
      ]
    },
    {
      "cell_type": "code",
      "metadata": {
        "colab": {
          "base_uri": "https://localhost:8080/",
          "height": 441
        },
        "id": "BV3Cwac3IeEC",
        "outputId": "d24e5b41-aba4-4dbf-adb8-258d0fab62f9"
      },
      "source": [
        "pr.jointplot(\"age\",\"fare\")"
      ],
      "execution_count": 18,
      "outputs": [
        {
          "output_type": "display_data",
          "data": {
            "image/png": "[encoded data removed]",
            "text/plain": [
              "<Figure size 432x432 with 3 Axes>"
            ]
          },
          "metadata": {
            "needs_background": "light"
          }
        }
      ]
    },
    {
      "cell_type": "markdown",
      "metadata": {
        "id": "cb-fbIdQX6Mv"
      },
      "source": [
        "# 2. Veriyi temizleme"
      ]
    },
    {
      "cell_type": "markdown",
      "metadata": {
        "id": "DIrrr3SrRD_t"
      },
      "source": [
        "Veriyi temizlemeye geçmeden önce makine öğrenmesi için hedef değişken(tahmin edilmek istenen) (y) ile tahmin edici değişkenleri (X)(bağımsız değişkenler) veriyi doğru bölmek için ayırmamız gerekiyor.\n"
      ]
    },
    {
      "cell_type": "code",
      "metadata": {
        "id": "nS9wyhBNwqFy"
      },
      "source": [
        "y=df.loc[:,\"survived\"]\n",
        "X=df.loc[:,[ 'sex', 'age', 'sibsp', 'parch', 'fare', 'class', 'who',\n",
        "       'deck', 'embark_town']]"
      ],
      "execution_count": 19,
      "outputs": []
    },
    {
      "cell_type": "code",
      "metadata": {
        "colab": {
          "base_uri": "https://localhost:8080/",
          "height": 406
        },
        "id": "U61ECqm3xWV-",
        "outputId": "8ed3ce83-a85a-40a2-f814-519da43fb41d"
      },
      "source": [
        "X"
      ],
      "execution_count": 20,
      "outputs": [
        {
          "output_type": "execute_result",
          "data": {
            "text/html": [
              "<div>\n",
              "<style scoped>\n",
              "    .dataframe tbody tr th:only-of-type {\n",
              "        vertical-align: middle;\n",
              "    }\n",
              "\n",
              "    .dataframe tbody tr th {\n",
              "        vertical-align: top;\n",
              "    }\n",
              "\n",
              "    .dataframe thead th {\n",
              "        text-align: right;\n",
              "    }\n",
              "</style>\n",
              "<table border=\"1\" class=\"dataframe\">\n",
              "  <thead>\n",
              "    <tr style=\"text-align: right;\">\n",
              "      <th></th>\n",
              "      <th>sex</th>\n",
              "      <th>age</th>\n",
              "      <th>sibsp</th>\n",
              "      <th>parch</th>\n",
              "      <th>fare</th>\n",
              "      <th>class</th>\n",
              "      <th>who</th>\n",
              "      <th>deck</th>\n",
              "      <th>embark_town</th>\n",
              "    </tr>\n",
              "  </thead>\n",
              "  <tbody>\n",
              "    <tr>\n",
              "      <th>0</th>\n",
              "      <td>male</td>\n",
              "      <td>22.0</td>\n",
              "      <td>1</td>\n",
              "      <td>0</td>\n",
              "      <td>7.2500</td>\n",
              "      <td>Third</td>\n",
              "      <td>man</td>\n",
              "      <td>NaN</td>\n",
              "      <td>Southampton</td>\n",
              "    </tr>\n",
              "    <tr>\n",
              "      <th>1</th>\n",
              "      <td>female</td>\n",
              "      <td>38.0</td>\n",
              "      <td>1</td>\n",
              "      <td>0</td>\n",
              "      <td>71.2833</td>\n",
              "      <td>First</td>\n",
              "      <td>woman</td>\n",
              "      <td>C</td>\n",
              "      <td>Cherbourg</td>\n",
              "    </tr>\n",
              "    <tr>\n",
              "      <th>2</th>\n",
              "      <td>female</td>\n",
              "      <td>26.0</td>\n",
              "      <td>0</td>\n",
              "      <td>0</td>\n",
              "      <td>7.9250</td>\n",
              "      <td>Third</td>\n",
              "      <td>woman</td>\n",
              "      <td>NaN</td>\n",
              "      <td>Southampton</td>\n",
              "    </tr>\n",
              "    <tr>\n",
              "      <th>3</th>\n",
              "      <td>female</td>\n",
              "      <td>35.0</td>\n",
              "      <td>1</td>\n",
              "      <td>0</td>\n",
              "      <td>53.1000</td>\n",
              "      <td>First</td>\n",
              "      <td>woman</td>\n",
              "      <td>C</td>\n",
              "      <td>Southampton</td>\n",
              "    </tr>\n",
              "    <tr>\n",
              "      <th>4</th>\n",
              "      <td>male</td>\n",
              "      <td>35.0</td>\n",
              "      <td>0</td>\n",
              "      <td>0</td>\n",
              "      <td>8.0500</td>\n",
              "      <td>Third</td>\n",
              "      <td>man</td>\n",
              "      <td>NaN</td>\n",
              "      <td>Southampton</td>\n",
              "    </tr>\n",
              "    <tr>\n",
              "      <th>...</th>\n",
              "      <td>...</td>\n",
              "      <td>...</td>\n",
              "      <td>...</td>\n",
              "      <td>...</td>\n",
              "      <td>...</td>\n",
              "      <td>...</td>\n",
              "      <td>...</td>\n",
              "      <td>...</td>\n",
              "      <td>...</td>\n",
              "    </tr>\n",
              "    <tr>\n",
              "      <th>886</th>\n",
              "      <td>male</td>\n",
              "      <td>27.0</td>\n",
              "      <td>0</td>\n",
              "      <td>0</td>\n",
              "      <td>13.0000</td>\n",
              "      <td>Second</td>\n",
              "      <td>man</td>\n",
              "      <td>NaN</td>\n",
              "      <td>Southampton</td>\n",
              "    </tr>\n",
              "    <tr>\n",
              "      <th>887</th>\n",
              "      <td>female</td>\n",
              "      <td>19.0</td>\n",
              "      <td>0</td>\n",
              "      <td>0</td>\n",
              "      <td>30.0000</td>\n",
              "      <td>First</td>\n",
              "      <td>woman</td>\n",
              "      <td>B</td>\n",
              "      <td>Southampton</td>\n",
              "    </tr>\n",
              "    <tr>\n",
              "      <th>888</th>\n",
              "      <td>female</td>\n",
              "      <td>NaN</td>\n",
              "      <td>1</td>\n",
              "      <td>2</td>\n",
              "      <td>23.4500</td>\n",
              "      <td>Third</td>\n",
              "      <td>woman</td>\n",
              "      <td>NaN</td>\n",
              "      <td>Southampton</td>\n",
              "    </tr>\n",
              "    <tr>\n",
              "      <th>889</th>\n",
              "      <td>male</td>\n",
              "      <td>26.0</td>\n",
              "      <td>0</td>\n",
              "      <td>0</td>\n",
              "      <td>30.0000</td>\n",
              "      <td>First</td>\n",
              "      <td>man</td>\n",
              "      <td>C</td>\n",
              "      <td>Cherbourg</td>\n",
              "    </tr>\n",
              "    <tr>\n",
              "      <th>890</th>\n",
              "      <td>male</td>\n",
              "      <td>32.0</td>\n",
              "      <td>0</td>\n",
              "      <td>0</td>\n",
              "      <td>7.7500</td>\n",
              "      <td>Third</td>\n",
              "      <td>man</td>\n",
              "      <td>NaN</td>\n",
              "      <td>Queenstown</td>\n",
              "    </tr>\n",
              "  </tbody>\n",
              "</table>\n",
              "<p>891 rows × 9 columns</p>\n",
              "</div>"
            ],
            "text/plain": [
              "        sex   age  sibsp  parch     fare   class    who deck  embark_town\n",
              "0      male  22.0      1      0   7.2500   Third    man  NaN  Southampton\n",
              "1    female  38.0      1      0  71.2833   First  woman    C    Cherbourg\n",
              "2    female  26.0      0      0   7.9250   Third  woman  NaN  Southampton\n",
              "3    female  35.0      1      0  53.1000   First  woman    C  Southampton\n",
              "4      male  35.0      0      0   8.0500   Third    man  NaN  Southampton\n",
              "..      ...   ...    ...    ...      ...     ...    ...  ...          ...\n",
              "886    male  27.0      0      0  13.0000  Second    man  NaN  Southampton\n",
              "887  female  19.0      0      0  30.0000   First  woman    B  Southampton\n",
              "888  female   NaN      1      2  23.4500   Third  woman  NaN  Southampton\n",
              "889    male  26.0      0      0  30.0000   First    man    C    Cherbourg\n",
              "890    male  32.0      0      0   7.7500   Third    man  NaN   Queenstown\n",
              "\n",
              "[891 rows x 9 columns]"
            ]
          },
          "metadata": {},
          "execution_count": 20
        }
      ]
    },
    {
      "cell_type": "code",
      "metadata": {
        "colab": {
          "base_uri": "https://localhost:8080/"
        },
        "id": "I1Y9OO6CxAXC",
        "outputId": "91cd5384-f0ff-4637-bc8c-3edc34c38d1c"
      },
      "source": [
        "y"
      ],
      "execution_count": 21,
      "outputs": [
        {
          "output_type": "execute_result",
          "data": {
            "text/plain": [
              "0      0\n",
              "1      1\n",
              "2      1\n",
              "3      1\n",
              "4      0\n",
              "      ..\n",
              "886    0\n",
              "887    1\n",
              "888    0\n",
              "889    1\n",
              "890    0\n",
              "Name: survived, Length: 891, dtype: int64"
            ]
          },
          "metadata": {},
          "execution_count": 21
        }
      ]
    },
    {
      "cell_type": "markdown",
      "metadata": {
        "id": "ZHCt3MaSO-Bc"
      },
      "source": [
        "Şimdi veriyi işlemek için veriyi bölmemiz gerekiyor. Veri bölme işlemini Eğitim(Train)-Test(Test) diye ayrım yapıyoruz. Bunun için yukarıdaki kodlarda çağırdığımız train_test_split fonksiyonunu kullanacağız. Aşağıdaki blokta, verinin %67'si eğitim %33'ü test veri seti olarak ayrılıyor. Ve random_state diye adlandırılan parametre ise verinin aynı rastgelelik ile bölünmesini sağlıyor. Yani bu komut çalıştığın eğitim ve test kümesi aynı şekil ayrılacaktır. Kodun çıktısına baktığımızda ise X_train ve y_train eğitim için oluşturulurken, X_test ve y_test ise performansı ölçmek için oluşturuldu.\n"
      ]
    },
    {
      "cell_type": "code",
      "metadata": {
        "id": "AigwBzn-RgxG"
      },
      "source": [
        "X_train, X_test, y_train, y_test = train_test_split(X, y, test_size=0.33, random_state=42)\n"
      ],
      "execution_count": 22,
      "outputs": []
    },
    {
      "cell_type": "markdown",
      "metadata": {
        "id": "nm_h4sCrTanP"
      },
      "source": [
        "Artık veriler ayrıldığına göre bunları bizim veri temizleme sınıfımız olan DataCleaning sınıfına gönderilmek için ayarlayalım . Aşağıdaki kod bloğunda eğitim için oluşturulan X_train ve y_train veri setleri birleştirilip df_train değişkenine atanıyor. Ardında da test için oluşturulan X_test ve y_test veri setleri de birleştirilip df_test değişkenine atanıyor.\n"
      ]
    },
    {
      "cell_type": "code",
      "metadata": {
        "id": "coBg4XkayRW_"
      },
      "source": [
        "#--------------------------------------------#\n",
        "\n",
        "df_train_X = pd.DataFrame(data=X_train.values,columns=X.columns)\n",
        "df_train_y = pd.DataFrame(data=y_train.values,columns=[y.name])\n",
        "\n",
        "\n",
        "df_train = pd.concat([df_train_X, df_train_y],axis=1)\n",
        "\n",
        "#--------------------------------------------#\n",
        "df_test_X = pd.DataFrame(data=X_test.values,columns=X.columns)\n",
        "df_test_y = pd.DataFrame(data=y_test.values,columns=[y.name])\n",
        "\n",
        "df_test = pd.concat([df_test_X, df_test_y],axis=1)\n",
        "  "
      ],
      "execution_count": 23,
      "outputs": []
    },
    {
      "cell_type": "markdown",
      "metadata": {
        "id": "pseTNzwpP30T"
      },
      "source": [
        "\n",
        "Veri temizlemek için DataCleaning sınıfından bir nesne üreterek işlemlere devam edebiliriz.\n",
        " \n"
      ]
    },
    {
      "cell_type": "code",
      "metadata": {
        "id": "g1IV5UdKP4If"
      },
      "source": [
        "dc=DataCleaning(df_train,df_test)\n"
      ],
      "execution_count": 24,
      "outputs": []
    },
    {
      "cell_type": "markdown",
      "metadata": {
        "id": "97i_UhqsUHPD"
      },
      "source": [
        "Veri temizleme sınıfında yer alan eğitim veri setine bakmak için aşağıdaki komutu çalıştıralım. Ve göreceğiz ki en başta okuduğumuz veri setinin %67'si eğitim veri setinde olduğunu.\n"
      ]
    },
    {
      "cell_type": "code",
      "metadata": {
        "colab": {
          "base_uri": "https://localhost:8080/",
          "height": 406
        },
        "id": "asr8_SFQySdp",
        "outputId": "0f97b340-e2ee-4638-86bc-3e082a92b451"
      },
      "source": [
        "dc.df_train\n"
      ],
      "execution_count": 25,
      "outputs": [
        {
          "output_type": "execute_result",
          "data": {
            "text/html": [
              "<div>\n",
              "<style scoped>\n",
              "    .dataframe tbody tr th:only-of-type {\n",
              "        vertical-align: middle;\n",
              "    }\n",
              "\n",
              "    .dataframe tbody tr th {\n",
              "        vertical-align: top;\n",
              "    }\n",
              "\n",
              "    .dataframe thead th {\n",
              "        text-align: right;\n",
              "    }\n",
              "</style>\n",
              "<table border=\"1\" class=\"dataframe\">\n",
              "  <thead>\n",
              "    <tr style=\"text-align: right;\">\n",
              "      <th></th>\n",
              "      <th>sex</th>\n",
              "      <th>age</th>\n",
              "      <th>sibsp</th>\n",
              "      <th>parch</th>\n",
              "      <th>fare</th>\n",
              "      <th>class</th>\n",
              "      <th>who</th>\n",
              "      <th>deck</th>\n",
              "      <th>embark_town</th>\n",
              "      <th>survived</th>\n",
              "    </tr>\n",
              "  </thead>\n",
              "  <tbody>\n",
              "    <tr>\n",
              "      <th>0</th>\n",
              "      <td>male</td>\n",
              "      <td>54</td>\n",
              "      <td>0</td>\n",
              "      <td>0</td>\n",
              "      <td>51.8625</td>\n",
              "      <td>First</td>\n",
              "      <td>man</td>\n",
              "      <td>E</td>\n",
              "      <td>Southampton</td>\n",
              "      <td>0</td>\n",
              "    </tr>\n",
              "    <tr>\n",
              "      <th>1</th>\n",
              "      <td>male</td>\n",
              "      <td>NaN</td>\n",
              "      <td>0</td>\n",
              "      <td>0</td>\n",
              "      <td>15.5</td>\n",
              "      <td>Third</td>\n",
              "      <td>man</td>\n",
              "      <td>NaN</td>\n",
              "      <td>Queenstown</td>\n",
              "      <td>0</td>\n",
              "    </tr>\n",
              "    <tr>\n",
              "      <th>2</th>\n",
              "      <td>male</td>\n",
              "      <td>25</td>\n",
              "      <td>1</td>\n",
              "      <td>2</td>\n",
              "      <td>41.5792</td>\n",
              "      <td>Second</td>\n",
              "      <td>man</td>\n",
              "      <td>NaN</td>\n",
              "      <td>Cherbourg</td>\n",
              "      <td>0</td>\n",
              "    </tr>\n",
              "    <tr>\n",
              "      <th>3</th>\n",
              "      <td>male</td>\n",
              "      <td>26</td>\n",
              "      <td>1</td>\n",
              "      <td>0</td>\n",
              "      <td>14.4542</td>\n",
              "      <td>Third</td>\n",
              "      <td>man</td>\n",
              "      <td>NaN</td>\n",
              "      <td>Cherbourg</td>\n",
              "      <td>0</td>\n",
              "    </tr>\n",
              "    <tr>\n",
              "      <th>4</th>\n",
              "      <td>female</td>\n",
              "      <td>22</td>\n",
              "      <td>0</td>\n",
              "      <td>0</td>\n",
              "      <td>10.5167</td>\n",
              "      <td>Third</td>\n",
              "      <td>woman</td>\n",
              "      <td>NaN</td>\n",
              "      <td>Southampton</td>\n",
              "      <td>0</td>\n",
              "    </tr>\n",
              "    <tr>\n",
              "      <th>...</th>\n",
              "      <td>...</td>\n",
              "      <td>...</td>\n",
              "      <td>...</td>\n",
              "      <td>...</td>\n",
              "      <td>...</td>\n",
              "      <td>...</td>\n",
              "      <td>...</td>\n",
              "      <td>...</td>\n",
              "      <td>...</td>\n",
              "      <td>...</td>\n",
              "    </tr>\n",
              "    <tr>\n",
              "      <th>591</th>\n",
              "      <td>female</td>\n",
              "      <td>21</td>\n",
              "      <td>0</td>\n",
              "      <td>0</td>\n",
              "      <td>7.65</td>\n",
              "      <td>Third</td>\n",
              "      <td>woman</td>\n",
              "      <td>NaN</td>\n",
              "      <td>Southampton</td>\n",
              "      <td>1</td>\n",
              "    </tr>\n",
              "    <tr>\n",
              "      <th>592</th>\n",
              "      <td>male</td>\n",
              "      <td>NaN</td>\n",
              "      <td>0</td>\n",
              "      <td>0</td>\n",
              "      <td>31</td>\n",
              "      <td>First</td>\n",
              "      <td>man</td>\n",
              "      <td>NaN</td>\n",
              "      <td>Southampton</td>\n",
              "      <td>0</td>\n",
              "    </tr>\n",
              "    <tr>\n",
              "      <th>593</th>\n",
              "      <td>male</td>\n",
              "      <td>41</td>\n",
              "      <td>2</td>\n",
              "      <td>0</td>\n",
              "      <td>14.1083</td>\n",
              "      <td>Third</td>\n",
              "      <td>man</td>\n",
              "      <td>NaN</td>\n",
              "      <td>Southampton</td>\n",
              "      <td>0</td>\n",
              "    </tr>\n",
              "    <tr>\n",
              "      <th>594</th>\n",
              "      <td>female</td>\n",
              "      <td>14</td>\n",
              "      <td>1</td>\n",
              "      <td>2</td>\n",
              "      <td>120</td>\n",
              "      <td>First</td>\n",
              "      <td>child</td>\n",
              "      <td>B</td>\n",
              "      <td>Southampton</td>\n",
              "      <td>1</td>\n",
              "    </tr>\n",
              "    <tr>\n",
              "      <th>595</th>\n",
              "      <td>male</td>\n",
              "      <td>21</td>\n",
              "      <td>0</td>\n",
              "      <td>1</td>\n",
              "      <td>77.2875</td>\n",
              "      <td>First</td>\n",
              "      <td>man</td>\n",
              "      <td>D</td>\n",
              "      <td>Southampton</td>\n",
              "      <td>0</td>\n",
              "    </tr>\n",
              "  </tbody>\n",
              "</table>\n",
              "<p>596 rows × 10 columns</p>\n",
              "</div>"
            ],
            "text/plain": [
              "        sex  age sibsp parch  ...    who deck  embark_town survived\n",
              "0      male   54     0     0  ...    man    E  Southampton        0\n",
              "1      male  NaN     0     0  ...    man  NaN   Queenstown        0\n",
              "2      male   25     1     2  ...    man  NaN    Cherbourg        0\n",
              "3      male   26     1     0  ...    man  NaN    Cherbourg        0\n",
              "4    female   22     0     0  ...  woman  NaN  Southampton        0\n",
              "..      ...  ...   ...   ...  ...    ...  ...          ...      ...\n",
              "591  female   21     0     0  ...  woman  NaN  Southampton        1\n",
              "592    male  NaN     0     0  ...    man  NaN  Southampton        0\n",
              "593    male   41     2     0  ...    man  NaN  Southampton        0\n",
              "594  female   14     1     2  ...  child    B  Southampton        1\n",
              "595    male   21     0     1  ...    man    D  Southampton        0\n",
              "\n",
              "[596 rows x 10 columns]"
            ]
          },
          "metadata": {},
          "execution_count": 25
        }
      ]
    },
    {
      "cell_type": "markdown",
      "metadata": {
        "id": "lxlKdSs4UJ2d"
      },
      "source": [
        "Veri temizleme sınıfında yer alan test veri setine bakmak için aşağıdaki komutu çalıştıralım. Ve göreceğiz ki en başta okuduğumuz veri setinin %37'si eğitim veri setinde olduğunu.\n"
      ]
    },
    {
      "cell_type": "code",
      "metadata": {
        "colab": {
          "base_uri": "https://localhost:8080/",
          "height": 406
        },
        "id": "ibwC6R3ryU94",
        "outputId": "6d073496-7a5d-46ee-931e-0a8bbeccd9df"
      },
      "source": [
        "dc.df_test\n",
        "\n"
      ],
      "execution_count": 26,
      "outputs": [
        {
          "output_type": "execute_result",
          "data": {
            "text/html": [
              "<div>\n",
              "<style scoped>\n",
              "    .dataframe tbody tr th:only-of-type {\n",
              "        vertical-align: middle;\n",
              "    }\n",
              "\n",
              "    .dataframe tbody tr th {\n",
              "        vertical-align: top;\n",
              "    }\n",
              "\n",
              "    .dataframe thead th {\n",
              "        text-align: right;\n",
              "    }\n",
              "</style>\n",
              "<table border=\"1\" class=\"dataframe\">\n",
              "  <thead>\n",
              "    <tr style=\"text-align: right;\">\n",
              "      <th></th>\n",
              "      <th>sex</th>\n",
              "      <th>age</th>\n",
              "      <th>sibsp</th>\n",
              "      <th>parch</th>\n",
              "      <th>fare</th>\n",
              "      <th>class</th>\n",
              "      <th>who</th>\n",
              "      <th>deck</th>\n",
              "      <th>embark_town</th>\n",
              "      <th>survived</th>\n",
              "    </tr>\n",
              "  </thead>\n",
              "  <tbody>\n",
              "    <tr>\n",
              "      <th>0</th>\n",
              "      <td>male</td>\n",
              "      <td>NaN</td>\n",
              "      <td>1</td>\n",
              "      <td>1</td>\n",
              "      <td>15.2458</td>\n",
              "      <td>Third</td>\n",
              "      <td>man</td>\n",
              "      <td>NaN</td>\n",
              "      <td>Cherbourg</td>\n",
              "      <td>1</td>\n",
              "    </tr>\n",
              "    <tr>\n",
              "      <th>1</th>\n",
              "      <td>male</td>\n",
              "      <td>31</td>\n",
              "      <td>0</td>\n",
              "      <td>0</td>\n",
              "      <td>10.5</td>\n",
              "      <td>Second</td>\n",
              "      <td>man</td>\n",
              "      <td>NaN</td>\n",
              "      <td>Southampton</td>\n",
              "      <td>0</td>\n",
              "    </tr>\n",
              "    <tr>\n",
              "      <th>2</th>\n",
              "      <td>male</td>\n",
              "      <td>20</td>\n",
              "      <td>0</td>\n",
              "      <td>0</td>\n",
              "      <td>7.925</td>\n",
              "      <td>Third</td>\n",
              "      <td>man</td>\n",
              "      <td>NaN</td>\n",
              "      <td>Southampton</td>\n",
              "      <td>0</td>\n",
              "    </tr>\n",
              "    <tr>\n",
              "      <th>3</th>\n",
              "      <td>female</td>\n",
              "      <td>6</td>\n",
              "      <td>0</td>\n",
              "      <td>1</td>\n",
              "      <td>33</td>\n",
              "      <td>Second</td>\n",
              "      <td>child</td>\n",
              "      <td>NaN</td>\n",
              "      <td>Southampton</td>\n",
              "      <td>1</td>\n",
              "    </tr>\n",
              "    <tr>\n",
              "      <th>4</th>\n",
              "      <td>female</td>\n",
              "      <td>14</td>\n",
              "      <td>1</td>\n",
              "      <td>0</td>\n",
              "      <td>11.2417</td>\n",
              "      <td>Third</td>\n",
              "      <td>child</td>\n",
              "      <td>NaN</td>\n",
              "      <td>Cherbourg</td>\n",
              "      <td>1</td>\n",
              "    </tr>\n",
              "    <tr>\n",
              "      <th>...</th>\n",
              "      <td>...</td>\n",
              "      <td>...</td>\n",
              "      <td>...</td>\n",
              "      <td>...</td>\n",
              "      <td>...</td>\n",
              "      <td>...</td>\n",
              "      <td>...</td>\n",
              "      <td>...</td>\n",
              "      <td>...</td>\n",
              "      <td>...</td>\n",
              "    </tr>\n",
              "    <tr>\n",
              "      <th>290</th>\n",
              "      <td>male</td>\n",
              "      <td>19</td>\n",
              "      <td>0</td>\n",
              "      <td>0</td>\n",
              "      <td>7.65</td>\n",
              "      <td>Third</td>\n",
              "      <td>man</td>\n",
              "      <td>F</td>\n",
              "      <td>Southampton</td>\n",
              "      <td>0</td>\n",
              "    </tr>\n",
              "    <tr>\n",
              "      <th>291</th>\n",
              "      <td>male</td>\n",
              "      <td>40.5</td>\n",
              "      <td>0</td>\n",
              "      <td>0</td>\n",
              "      <td>7.75</td>\n",
              "      <td>Third</td>\n",
              "      <td>man</td>\n",
              "      <td>NaN</td>\n",
              "      <td>Queenstown</td>\n",
              "      <td>0</td>\n",
              "    </tr>\n",
              "    <tr>\n",
              "      <th>292</th>\n",
              "      <td>female</td>\n",
              "      <td>1</td>\n",
              "      <td>0</td>\n",
              "      <td>2</td>\n",
              "      <td>15.7417</td>\n",
              "      <td>Third</td>\n",
              "      <td>child</td>\n",
              "      <td>NaN</td>\n",
              "      <td>Cherbourg</td>\n",
              "      <td>1</td>\n",
              "    </tr>\n",
              "    <tr>\n",
              "      <th>293</th>\n",
              "      <td>female</td>\n",
              "      <td>NaN</td>\n",
              "      <td>0</td>\n",
              "      <td>2</td>\n",
              "      <td>15.2458</td>\n",
              "      <td>Third</td>\n",
              "      <td>woman</td>\n",
              "      <td>NaN</td>\n",
              "      <td>Cherbourg</td>\n",
              "      <td>0</td>\n",
              "    </tr>\n",
              "    <tr>\n",
              "      <th>294</th>\n",
              "      <td>male</td>\n",
              "      <td>21</td>\n",
              "      <td>0</td>\n",
              "      <td>0</td>\n",
              "      <td>7.925</td>\n",
              "      <td>Third</td>\n",
              "      <td>man</td>\n",
              "      <td>NaN</td>\n",
              "      <td>Southampton</td>\n",
              "      <td>0</td>\n",
              "    </tr>\n",
              "  </tbody>\n",
              "</table>\n",
              "<p>295 rows × 10 columns</p>\n",
              "</div>"
            ],
            "text/plain": [
              "        sex   age sibsp parch  ...    who deck  embark_town survived\n",
              "0      male   NaN     1     1  ...    man  NaN    Cherbourg        1\n",
              "1      male    31     0     0  ...    man  NaN  Southampton        0\n",
              "2      male    20     0     0  ...    man  NaN  Southampton        0\n",
              "3    female     6     0     1  ...  child  NaN  Southampton        1\n",
              "4    female    14     1     0  ...  child  NaN    Cherbourg        1\n",
              "..      ...   ...   ...   ...  ...    ...  ...          ...      ...\n",
              "290    male    19     0     0  ...    man    F  Southampton        0\n",
              "291    male  40.5     0     0  ...    man  NaN   Queenstown        0\n",
              "292  female     1     0     2  ...  child  NaN    Cherbourg        1\n",
              "293  female   NaN     0     2  ...  woman  NaN    Cherbourg        0\n",
              "294    male    21     0     0  ...    man  NaN  Southampton        0\n",
              "\n",
              "[295 rows x 10 columns]"
            ]
          },
          "metadata": {},
          "execution_count": 26
        }
      ]
    },
    {
      "cell_type": "markdown",
      "metadata": {
        "id": "AkXYgMptqhGd"
      },
      "source": [
        "Keşifçi veri analizinde görsel ve genel olarak incelediğimiz yinelenen gözlemleri  var olduğunu tespiti etmiştik aşağıda tekrar bir daha inceliyoruz. Aşağıda görüldüğü üzere eğitim veri setinde 63 tane yinelenen gözlem varken, test veri setinde de 13 tane var.\n"
      ]
    },
    {
      "cell_type": "code",
      "metadata": {
        "colab": {
          "base_uri": "https://localhost:8080/"
        },
        "id": "0KfxB6LJxb9X",
        "outputId": "da936ade-7eb6-4c6c-829d-30afee4059e1"
      },
      "source": [
        "dc.show_duplicate_observations()"
      ],
      "execution_count": 27,
      "outputs": [
        {
          "output_type": "execute_result",
          "data": {
            "text/plain": [
              "{'df_test':         sex  age sibsp parch  ...    who deck  embark_town survived\n",
              " 37   female  NaN     0     0  ...  woman  NaN   Queenstown        1\n",
              " 64     male  NaN     0     0  ...    man  NaN   Queenstown        0\n",
              " 94     male  NaN     0     0  ...    man  NaN  Southampton        0\n",
              " 131    male  NaN     1     1  ...    man  NaN    Cherbourg        1\n",
              " 154    male  NaN     0     0  ...    man  NaN  Southampton        0\n",
              " 187    male  NaN     0     0  ...    man  NaN  Southampton        0\n",
              " 214  female  NaN     3     1  ...  woman  NaN  Southampton        0\n",
              " 219    male  NaN     0     0  ...    man  NaN  Southampton        0\n",
              " 220    male  NaN     0     0  ...    man  NaN  Southampton        0\n",
              " 232    male  NaN     0     0  ...    man  NaN   Queenstown        0\n",
              " 242    male  NaN     0     0  ...    man  NaN    Cherbourg        0\n",
              " 246    male  NaN     0     0  ...    man  NaN  Southampton        0\n",
              " 252    male  NaN     0     0  ...    man  NaN   Queenstown        0\n",
              " 269    male  NaN     0     0  ...    man  NaN  Southampton        0\n",
              " 279    male   39     0     0  ...    man  NaN  Southampton        0\n",
              " 286  female  NaN     0     0  ...  woman  NaN   Queenstown        1\n",
              " \n",
              " [16 rows x 10 columns],\n",
              " 'df_train':         sex  age sibsp parch    fare   class    who deck  embark_town  survived\n",
              " 102    male  NaN     0     0  7.8958   Third    man  NaN  Southampton         0\n",
              " 115    male  NaN     0     0  7.8958   Third    man  NaN    Cherbourg         0\n",
              " 123    male  NaN     0     0  7.8958   Third    man  NaN  Southampton         0\n",
              " 142    male  NaN     0     0  7.8958   Third    man  NaN  Southampton         0\n",
              " 165    male  NaN     0     0    7.75   Third    man  NaN   Queenstown         0\n",
              " ..      ...  ...   ...   ...     ...     ...    ...  ...          ...       ...\n",
              " 581    male  NaN     0     0    8.05   Third    man  NaN  Southampton         0\n",
              " 582  female   50     0     0    10.5  Second  woman  NaN  Southampton         1\n",
              " 585    male  NaN     0     0       0  Second    man  NaN  Southampton         0\n",
              " 586    male  NaN     0     0    8.05   Third    man  NaN  Southampton         0\n",
              " 587    male   35     0     0    8.05   Third    man  NaN  Southampton         0\n",
              " \n",
              " [63 rows x 10 columns]}"
            ]
          },
          "metadata": {},
          "execution_count": 27
        }
      ]
    },
    {
      "cell_type": "markdown",
      "metadata": {
        "id": "6fm7QBV6qrTZ"
      },
      "source": [
        "> **Yinelenen gözlemler siliniyor.**"
      ]
    },
    {
      "cell_type": "code",
      "metadata": {
        "id": "iu1dBAusyc96"
      },
      "source": [
        "dc.remove_duplicate_observations()"
      ],
      "execution_count": 28,
      "outputs": []
    },
    {
      "cell_type": "markdown",
      "metadata": {
        "id": "m_P3nuWxqw-C"
      },
      "source": [
        "Ve tekrar veri setini show_duplicate_observations() ile incelediğimizde herhangi bir yinelenen gözlem olmadığı görülüyor.\n"
      ]
    },
    {
      "cell_type": "code",
      "metadata": {
        "colab": {
          "base_uri": "https://localhost:8080/"
        },
        "id": "ycK_3fTLyfei",
        "outputId": "15c06582-4500-45b6-ef4e-1b765b977023"
      },
      "source": [
        "dc.show_duplicate_observations()"
      ],
      "execution_count": 29,
      "outputs": [
        {
          "output_type": "execute_result",
          "data": {
            "text/plain": [
              "{'df_test': Empty DataFrame\n",
              " Columns: [sex, age, sibsp, parch, fare, class, who, deck, embark_town, survived]\n",
              " Index: [], 'df_train': Empty DataFrame\n",
              " Columns: [sex, age, sibsp, parch, fare, class, who, deck, embark_town, survived]\n",
              " Index: []}"
            ]
          },
          "metadata": {},
          "execution_count": 29
        }
      ]
    },
    {
      "cell_type": "markdown",
      "metadata": {
        "id": "KTGGHFuLyl23"
      },
      "source": [
        " Kayıp değer tespiti ve tedavi etme\n",
        "\n",
        "Keşifçi veri analizinde görsel ve genel olarak incelediğimizde kayıp hücrelerin  var olduğunu tespiti etmiştik aşağıda tekrar bir daha inceliyoruz. Aşağıda görüldüğü üzere age, deck ve embark_town özniteliklerinde kayıplar olduğu gözükmektedir.\n"
      ]
    },
    {
      "cell_type": "code",
      "metadata": {
        "colab": {
          "base_uri": "https://localhost:8080/"
        },
        "id": "F_tZTeMuzZmh",
        "outputId": "7c98ccc5-20c3-475b-ade5-b5dd7d722507"
      },
      "source": [
        "dc.show_missing_values()"
      ],
      "execution_count": 30,
      "outputs": [
        {
          "output_type": "execute_result",
          "data": {
            "text/plain": [
              "{'df_test': sex              0\n",
              " age             44\n",
              " sibsp            0\n",
              " parch            0\n",
              " fare             0\n",
              " class            0\n",
              " who              0\n",
              " deck           209\n",
              " embark_town      1\n",
              " survived         0\n",
              " dtype: int64, 'df_train': sex              0\n",
              " age             73\n",
              " sibsp            0\n",
              " parch            0\n",
              " fare             0\n",
              " class            0\n",
              " who              0\n",
              " deck           401\n",
              " embark_town      1\n",
              " survived         0\n",
              " dtype: int64}"
            ]
          },
          "metadata": {},
          "execution_count": 30
        }
      ]
    },
    {
      "cell_type": "markdown",
      "metadata": {
        "id": "K0qZut2grEG1"
      },
      "source": [
        "> **Kayıp değerlere tedavi uygulama**"
      ]
    },
    {
      "cell_type": "markdown",
      "metadata": {
        "id": "NhzaRUcug8hO"
      },
      "source": [
        "Eğitim ve test veri setindeki kayıp değerleri  hem sayısal hem de yüzdesel olarak bir daha bakalım.\n"
      ]
    },
    {
      "cell_type": "code",
      "metadata": {
        "colab": {
          "base_uri": "https://localhost:8080/"
        },
        "id": "P9JetmxG0G8D",
        "outputId": "6f675607-7a69-4563-b059-3984cf8a373e"
      },
      "source": [
        "\n",
        "print(\"(Train) Yüzdelik olarak :\\n\" ,dc.df_train.isnull().sum() / len(dc.df_train.index))\n",
        "print(\"\\n----------------\\n\")\n",
        "print(\"(Test) Yüzdelik olarak :\\n\" ,dc.df_test.isnull().sum() / len(dc.df_test.index))\n"
      ],
      "execution_count": 31,
      "outputs": [
        {
          "output_type": "stream",
          "name": "stdout",
          "text": [
            "(Train) Yüzdelik olarak :\n",
            " sex            0.000000\n",
            "age            0.136961\n",
            "sibsp          0.000000\n",
            "parch          0.000000\n",
            "fare           0.000000\n",
            "class          0.000000\n",
            "who            0.000000\n",
            "deck           0.752345\n",
            "embark_town    0.001876\n",
            "survived       0.000000\n",
            "dtype: float64\n",
            "\n",
            "----------------\n",
            "\n",
            "(Test) Yüzdelik olarak :\n",
            " sex            0.000000\n",
            "age            0.157706\n",
            "sibsp          0.000000\n",
            "parch          0.000000\n",
            "fare           0.000000\n",
            "class          0.000000\n",
            "who            0.000000\n",
            "deck           0.749104\n",
            "embark_town    0.003584\n",
            "survived       0.000000\n",
            "dtype: float64\n"
          ]
        }
      ]
    },
    {
      "cell_type": "markdown",
      "metadata": {
        "id": "A_W3pqhFzkbI"
      },
      "source": [
        "Yukarıda görüldüğü üzere **deck** , **age**  ve **embark_town** özniteliklerinde kayıp değerler mevcuttur.\n",
        "\n",
        "* **deck** özniteliği için silme tedavisi uygulanacaktır. Çünkü verinin yaklaşık %77'lik bir kısım kayıp.\n",
        "\n",
        "* **age** özniteliği için medyan tedavisi uygulanacaktır. Çünkü verinin sadece yaklaşık %20'lik bir kısım kayıp.\n",
        "\n",
        "* **embark_town** daki iki gözlemi **Mode ** tedavi yöntemi ile eksik hücreleri doldurulabilinir."
      ]
    },
    {
      "cell_type": "code",
      "metadata": {
        "id": "_d1LMGvdzjsQ"
      },
      "source": [
        "dc.missing_values_treatment(feature=\"deck\",strategy=\"delete\")"
      ],
      "execution_count": 32,
      "outputs": []
    },
    {
      "cell_type": "markdown",
      "metadata": {
        "id": "OqPQERTHS0WO"
      },
      "source": [
        "Aynı zamanda bizim categorical_variables listesinden de deck özniteliğini silme işlemini yapalım.\n"
      ]
    },
    {
      "cell_type": "code",
      "metadata": {
        "id": "mhYjjXN3SvsV"
      },
      "source": [
        "categorical_variables.remove(\"deck\")"
      ],
      "execution_count": 33,
      "outputs": []
    },
    {
      "cell_type": "code",
      "metadata": {
        "colab": {
          "base_uri": "https://localhost:8080/"
        },
        "id": "q1_jjx-p0nVn",
        "outputId": "0120e448-54ca-4995-90d3-a9e3d85ae780"
      },
      "source": [
        "dc.missing_values_treatment(feature=\"age\",strategy=\"median\")"
      ],
      "execution_count": 34,
      "outputs": [
        {
          "output_type": "stream",
          "name": "stdout",
          "text": [
            "Median :  28.0\n"
          ]
        }
      ]
    },
    {
      "cell_type": "code",
      "metadata": {
        "colab": {
          "base_uri": "https://localhost:8080/"
        },
        "id": "oH4kfUqmlRXK",
        "outputId": "84f505e9-d4cd-4ca6-921a-8b307b3ef75d"
      },
      "source": [
        "dc.missing_values_treatment(feature=\"embark_town\",strategy=\"mode\")"
      ],
      "execution_count": 35,
      "outputs": [
        {
          "output_type": "stream",
          "name": "stdout",
          "text": [
            "Mode :  Southampton\n"
          ]
        }
      ]
    },
    {
      "cell_type": "markdown",
      "metadata": {
        "id": "WbU9Ta_2lnRm"
      },
      "source": [
        "Tekrardan kayıp hücre yüzdeliğine bakarsak eğer aşağıdaki 0 değerini görürüz.\n",
        "\n",
        "\n"
      ]
    },
    {
      "cell_type": "code",
      "metadata": {
        "colab": {
          "base_uri": "https://localhost:8080/"
        },
        "id": "DnI4CZuGliLI",
        "outputId": "b180d2a0-e491-4449-87f7-a55d8d88f50f"
      },
      "source": [
        "\n",
        "print(\"(Train) Yüzdelik olarak :\\n\" ,dc.df_train.isnull().sum() / len(dc.df_train.index))\n",
        "print(\"\\n----------------\\n\")\n",
        "print(\"(Test) Yüzdelik olarak :\\n\" ,dc.df_test.isnull().sum() / len(dc.df_test.index))"
      ],
      "execution_count": 36,
      "outputs": [
        {
          "output_type": "stream",
          "name": "stdout",
          "text": [
            "(Train) Yüzdelik olarak :\n",
            " sex            0.0\n",
            "age            0.0\n",
            "sibsp          0.0\n",
            "parch          0.0\n",
            "fare           0.0\n",
            "class          0.0\n",
            "who            0.0\n",
            "embark_town    0.0\n",
            "survived       0.0\n",
            "dtype: float64\n",
            "\n",
            "----------------\n",
            "\n",
            "(Test) Yüzdelik olarak :\n",
            " sex            0.0\n",
            "age            0.0\n",
            "sibsp          0.0\n",
            "parch          0.0\n",
            "fare           0.0\n",
            "class          0.0\n",
            "who            0.0\n",
            "embark_town    0.0\n",
            "survived       0.0\n",
            "dtype: float64\n"
          ]
        }
      ]
    },
    {
      "cell_type": "markdown",
      "metadata": {
        "id": "2o8fhd17rMbn"
      },
      "source": [
        "> **Aykırı değerleri tespit etme ve silme**"
      ]
    },
    {
      "cell_type": "markdown",
      "metadata": {
        "id": "Xr7jgfS2jrnJ"
      },
      "source": [
        "Eğer Keşifçi veri analizi kısmında ki grafiği hatırlarsanız fare özniteliğinde oldukça aykırı (outlier) değer olduğunu fark ettik. İlk olarak aşağıda aykırı değerler Çeyrekler arası Aralık yöntemi ile tespit ediyoruz. Görüldüğü üzere aralığımız -30.125 ile 71.675 arası seçildi. result değişkeni eğitim ve test veri seti için aykırı değerleri tutuyor.\n"
      ]
    },
    {
      "cell_type": "code",
      "metadata": {
        "colab": {
          "base_uri": "https://localhost:8080/"
        },
        "id": "YhZgHgILx7nT",
        "outputId": "fe37e575-545f-4141-8396-5eb05559259d"
      },
      "source": [
        "result=dc.outlier_detection(feature=\"fare\",strategy=\"inter_quartile_range\")"
      ],
      "execution_count": 37,
      "outputs": [
        {
          "output_type": "stream",
          "name": "stdout",
          "text": [
            "Alt sınır :  -30.124999999999996 \n",
            "Üst sınır :  71.675\n"
          ]
        }
      ]
    },
    {
      "cell_type": "markdown",
      "metadata": {
        "id": "KjP5MPpcU4aJ"
      },
      "source": [
        "Eğitim veri setindeki aykırı değerlerin indeksleri aşağıda tespit ediliyor.\n"
      ]
    },
    {
      "cell_type": "code",
      "metadata": {
        "colab": {
          "base_uri": "https://localhost:8080/"
        },
        "id": "rO68FYyqycCI",
        "outputId": "f380368f-88c7-48c4-d5a9-6d43b549043f"
      },
      "source": [
        "train_outlier_index=result[\"df_train\"].index\n",
        "train_outlier_index"
      ],
      "execution_count": 38,
      "outputs": [
        {
          "output_type": "execute_result",
          "data": {
            "text/plain": [
              "Int64Index([  6,  41,  53,  75,  87,  88, 100, 107, 111, 133, 152, 171, 175,\n",
              "            179, 183, 185, 187, 195, 213, 217, 232, 235, 248, 251, 254, 264,\n",
              "            295, 329, 331, 335, 336, 345, 348, 353, 360, 368, 384, 390, 401,\n",
              "            402, 407, 412, 419, 426, 466, 468, 476, 478, 483, 491, 493, 494,\n",
              "            505, 522, 527, 543, 545, 555, 568, 589, 594, 595],\n",
              "           dtype='int64')"
            ]
          },
          "metadata": {},
          "execution_count": 38
        }
      ]
    },
    {
      "cell_type": "markdown",
      "metadata": {
        "id": "-t47l2W0U67y"
      },
      "source": [
        "Test veri setindeki aykırı değerlerin indeksleri aşağıda tespit ediliyor.\n"
      ]
    },
    {
      "cell_type": "code",
      "metadata": {
        "colab": {
          "base_uri": "https://localhost:8080/"
        },
        "id": "qrY-mUgfyhrz",
        "outputId": "ed06d8f1-71a1-4896-b100-099df77ece53"
      },
      "source": [
        "test_outlier_index=result[\"df_test\"].index\n",
        "test_outlier_index"
      ],
      "execution_count": 39,
      "outputs": [
        {
          "output_type": "execute_result",
          "data": {
            "text/plain": [
              "Int64Index([  5,  40,  49,  51,  53,  55,  57,  66,  69,  71,  73,  82,  86,\n",
              "            102, 112, 114, 121, 122, 127, 136, 148, 163, 184, 195, 196, 207,\n",
              "            210, 212, 227, 231, 236, 238, 254, 257, 260, 261, 268, 273, 278,\n",
              "            282],\n",
              "           dtype='int64')"
            ]
          },
          "metadata": {},
          "execution_count": 39
        }
      ]
    },
    {
      "cell_type": "markdown",
      "metadata": {
        "id": "2rYP9d4_0MCx"
      },
      "source": [
        " Elde edilen indeksler yardımıyla bunları veri setlerinden aşağıdaki blok yardımıyla atalım.\n"
      ]
    },
    {
      "cell_type": "code",
      "metadata": {
        "id": "kV_7lVao0as9"
      },
      "source": [
        "dc.df_train=dc.df_train.drop(train_outlier_index)\n",
        "dc.df_test=dc.df_test.drop(test_outlier_index)\n"
      ],
      "execution_count": 40,
      "outputs": []
    },
    {
      "cell_type": "markdown",
      "metadata": {
        "id": "pugKAHiN2Hwj"
      },
      "source": [
        "> **Şimdi ise temizlenen bu veri setlerini kayıt altına alalım.**"
      ]
    },
    {
      "cell_type": "code",
      "metadata": {
        "id": "cG8mLcYj2Gmb"
      },
      "source": [
        "df_train = dc.df_train\n",
        "df_test=dc.df_test"
      ],
      "execution_count": 41,
      "outputs": []
    },
    {
      "cell_type": "markdown",
      "metadata": {
        "id": "j8oRHf_YkoVN"
      },
      "source": [
        "Tebrikler veri temizleme bölümünü bitirdik.\n"
      ]
    },
    {
      "cell_type": "markdown",
      "metadata": {
        "id": "69jkNlMdX_0Y"
      },
      "source": [
        "# 3. Öznitelik seçme "
      ]
    },
    {
      "cell_type": "markdown",
      "metadata": {
        "id": "ax8HG9oLrg5j"
      },
      "source": [
        "Öznitelik seçimi için yine kitabımızda beraber geliştirdiğimiz FeatureSelection sınıfını kullanarak gerçekleştireceğiz.  Aşağıda standart bir şekilde FeatureSelection sınıfımızdan nesne oluşturuyoruz.\n"
      ]
    },
    {
      "cell_type": "code",
      "metadata": {
        "id": "8JgIZ34J2tq8"
      },
      "source": [
        "target = \"survived\"\n",
        "fc=FeatureSelection(df_train, continuous_variables,\n",
        "               categorical_variables,\n",
        "               target)"
      ],
      "execution_count": 42,
      "outputs": []
    },
    {
      "cell_type": "markdown",
      "metadata": {
        "id": "BuD07LjPTaeJ"
      },
      "source": [
        "Hedef değişken kategorik olduğundan bağımsız değişkenlerden sürekli olanlar ile ANOVA testi yaparken bağımsız değişkenlerden kategorik olanlar ile de Ki-Kare testi yaparak ilgili öznitelikleri seçebiliriz.\n"
      ]
    },
    {
      "cell_type": "code",
      "metadata": {
        "colab": {
          "base_uri": "https://localhost:8080/"
        },
        "id": "FQOVeJVNUAsl",
        "outputId": "419b9dfc-594f-41a0-e74a-07753c8395f9"
      },
      "source": [
        "for cont_var in continuous_variables:\n",
        "  fc.ANOVA_test(cont_var) "
      ],
      "execution_count": 43,
      "outputs": [
        {
          "output_type": "stream",
          "name": "stdout",
          "text": [
            "##### ANOVA Sonucu ##### \n",
            "\n",
            "age ,  survived ile ilişkili değildir. | P-Value: 0.4014261999603343\n",
            "##### ANOVA Sonucu ##### \n",
            "\n",
            "fare ,  survived ile ilişkilidir. | P-Value: 0.0012014613541648995\n"
          ]
        }
      ]
    },
    {
      "cell_type": "code",
      "metadata": {
        "colab": {
          "base_uri": "https://localhost:8080/"
        },
        "id": "x3dPrTq2TGM_",
        "outputId": "6ef00a43-1e31-4651-dccd-abeb55eff627"
      },
      "source": [
        "for cat_var in categorical_variables:\n",
        "  fc.chi2_contingency(cat_var) "
      ],
      "execution_count": 44,
      "outputs": [
        {
          "output_type": "stream",
          "name": "stdout",
          "text": [
            "sex ,  survived ile ilişkilidir. | P-Value: 6.093926821081137e-23\n",
            "sibsp ,  survived ile ilişkili değildir. | P-Value: 0.08590162177422218\n",
            "parch ,  survived ile ilişkilidir. | P-Value: 0.0018571342807470461\n",
            "class ,  survived ile ilişkilidir. | P-Value: 4.080831072412039e-08\n",
            "who ,  survived ile ilişkilidir. | P-Value: 1.167209557808614e-24\n",
            "embark_town ,  survived ile ilişkilidir. | P-Value: 0.0033191765202641864\n"
          ]
        }
      ]
    },
    {
      "cell_type": "markdown",
      "metadata": {
        "id": "2gZsugKhUKsa"
      },
      "source": [
        "**Analizler sonucunda görüldüğü üzere sibsp özniteliği dışında bütün öznitelikler survived özniteliği ile ilişkili olduğu bulundu.**\n",
        "\n",
        "Şimdi ilişkisi olmayan bu özniteliği veri setlerimizden aşağıdaki kod bloğunu çalıştırarak çıkaralım\n",
        "\n",
        "\n",
        " "
      ]
    },
    {
      "cell_type": "code",
      "metadata": {
        "id": "TjMZsopfEIcf"
      },
      "source": [
        "df_train=df_train.drop(['sibsp'], axis=1)\n",
        "df_test=df_test.drop(['sibsp'], axis=1)\n"
      ],
      "execution_count": 45,
      "outputs": []
    },
    {
      "cell_type": "markdown",
      "metadata": {
        "id": "Xd3RYmoJKSfS"
      },
      "source": [
        "### Model kurmadan önceki son adım: Kategorik değişkenleri sayısala dökme "
      ]
    },
    {
      "cell_type": "markdown",
      "metadata": {
        "id": "rwMkyrzGVoUo"
      },
      "source": [
        "Makine öğrenmesi modellerine veri setini göndermeden önce yapmamızın gereken bir aşama kaldı. Bu ise kategorik değişkenleri sayısal olarak temsil etmektir.Çünkü makine öğrenmesi algoritmaları temelinde matematiksel ifadeler yer alıyor. Bundan dolayı bu dönüşüm şarttır.\n",
        "\n",
        "Şimdi kategorik değişkenler 2 türe sahiptir. Bunlar ordinal ve nominal diye adlandırılan veri türleridir.\n",
        "\n",
        "* Ordinal veri tipinde üstünlük veya bir sıralama mevcuttur. Veri setimizden örnek verecek olursak yolcuların ekonomi statüsü bilgileri içeren **class** özniteliği verilebilinir. Çünkü bu öznitelikte yer alan First(Birinci),Second (İkinci) ve Third (Üçüncü) etiketlerinde bir sıralama ve üstünlük var. Ordinal verileri sayısal olarak ifade etmek istediğimizde sıralanabilinir değerler ile ifade edilir. First etiketi için 1, Second etiketi için 2 ve Third etiketi içinde 3 sayı atanabilir. Bu işleme Label Encoding denir.\n",
        "\n",
        "* Nominal veri tipinde ise üstünlük veya bir sıralama yoktur. Veri setimizden örnek verecek olursak yolcuların cinsiyet bilgileri içeren **sex** özniteliği verilebilinir. Çünkü bu öznitelikte yer alan female(kadın) ve male (erkek) etiketleri arasında herhangi bir sıralama ve üstünlük yoktur. Başka bir örnek olarakta liman isimlerini içeren **embark_town** özniteliği verilebilinir. Çünkü burada yer alan Southampton, Queenstown ve Cherbourg limanların birbirlerine olan bir üstünlükleri yoktur. Nominal verileri sayısal olarak ifade etmek istediğimizde 0 ve 1 değerleri değerler ile ifade edilir.Eğer özniteliğiniz 2 kategori içeriyorsa bunları bu özniteliği tek sütunda kodlanabilir. Bu duruma örnek olarak elimizde sex özniteliği var. sex özniteliğindeki female kategorisini 0, male kategorisini ise 1 sayısal değeri ile kodlanabilir. Eğer öznitelik 2'den fazla kategoriye sahipse , her bir kategori bir sütuna getirilip 1 ve 0 sayısal değerleri kullanılır. Bu olaya One-Hot Encoding denilir.\n",
        "\n",
        "**NOT** : One-Hot Encoding yapılırken \"Dummy Variable Trap (Kukla Değişken Tuzağı )\" adında bir önemli konu karşımıza çıkıyor. Kukla Değişken Tuzağı sorununa bazı algoritmalar dayanıklı iken bazıları bu konuda zayıflardır.Bu konuyu sizin araştırmanızı istiyorum. Bu konuyu araştırdıktan sonra şu an yapılan One-Hot Encoding kısmında neler değiştirilmeli veya değiştirilmemeli gibi soruyu kendinize sormanızı istiyorum. Kolay gelsin.\n",
        "\n",
        "\n",
        "Yukarıda bahsedilen kodlamalara örnek olarak aşağıdaki tablolar verilebilinir. Tablo A, ham veri seti iken, Tablo B makine öğrenmesi algoritmalarının çalışabileceği halidir.\n",
        "\n",
        "\n",
        "|   sex  | embark_town | class  |\n",
        "|:------:|:-----------:|--------|\n",
        "| female | Southampton | First  |\n",
        "| male   | Queenstown  | Second |\n",
        "| female | Cherbourg   | Third  |\n",
        "\n",
        "\n",
        "<center> Tablo A     </center>\n",
        "\n",
        "<center> --------------------------------------------------------  </center>\n",
        "\n",
        "\n",
        "| sex | embark_town_Southampton | embark_town_Queenstown | embark_town_Cherbourg | class |\n",
        "|:---:|:-----------------------:|------------------------|-----------------------|-------|\n",
        "| 0   | 1                       | 0                      | 0                     | 1     |\n",
        "| 1   | 0                       | 1                      | 0                     | 2     |\n",
        "| 0   | 0                       | 0                      | 1                     | 3     |\n",
        "\n",
        "<center> Tablo B    </center>\n"
      ]
    },
    {
      "cell_type": "markdown",
      "metadata": {
        "id": "ta-YweMrLi2B"
      },
      "source": [
        "Yukarıda aldığımız teorik bilgiden hareketle, veri setlerimizdeki  kategorik verilerin kodlanması aşağıdaki kod bloğunda gerçekleşiyor."
      ]
    },
    {
      "cell_type": "code",
      "metadata": {
        "id": "to9nvOhQVnV5"
      },
      "source": [
        "df_train['class'].replace({'First':1, 'Second':2,'Third':3}, inplace=True)\n",
        "df_test['class'].replace({'First':1, 'Second':2,'Third':3}, inplace=True)\n",
        "\n",
        "df_train['sex'].replace({'female':0, 'male':1}, inplace=True)\n",
        "df_test['sex'].replace({'female':0, 'male':1}, inplace=True)\n",
        "\n",
        "df_train = pd.get_dummies(df_train, columns=[\"embark_town\"])\n",
        "df_test = pd.get_dummies(df_test, columns=[\"embark_town\"])\n",
        "\n",
        "\n",
        "df_train = pd.get_dummies(df_train, columns=[\"who\"])\n",
        "df_test = pd.get_dummies(df_test, columns=[\"who\"])\n"
      ],
      "execution_count": 46,
      "outputs": []
    },
    {
      "cell_type": "code",
      "metadata": {
        "colab": {
          "base_uri": "https://localhost:8080/",
          "height": 406
        },
        "id": "vrB9PsTcYHyY",
        "outputId": "b73faf17-4687-43a3-d780-f3de4daa2c58"
      },
      "source": [
        "df_train"
      ],
      "execution_count": 47,
      "outputs": [
        {
          "output_type": "execute_result",
          "data": {
            "text/html": [
              "<div>\n",
              "<style scoped>\n",
              "    .dataframe tbody tr th:only-of-type {\n",
              "        vertical-align: middle;\n",
              "    }\n",
              "\n",
              "    .dataframe tbody tr th {\n",
              "        vertical-align: top;\n",
              "    }\n",
              "\n",
              "    .dataframe thead th {\n",
              "        text-align: right;\n",
              "    }\n",
              "</style>\n",
              "<table border=\"1\" class=\"dataframe\">\n",
              "  <thead>\n",
              "    <tr style=\"text-align: right;\">\n",
              "      <th></th>\n",
              "      <th>sex</th>\n",
              "      <th>age</th>\n",
              "      <th>parch</th>\n",
              "      <th>fare</th>\n",
              "      <th>class</th>\n",
              "      <th>survived</th>\n",
              "      <th>embark_town_Cherbourg</th>\n",
              "      <th>embark_town_Queenstown</th>\n",
              "      <th>embark_town_Southampton</th>\n",
              "      <th>who_child</th>\n",
              "      <th>who_man</th>\n",
              "      <th>who_woman</th>\n",
              "    </tr>\n",
              "  </thead>\n",
              "  <tbody>\n",
              "    <tr>\n",
              "      <th>0</th>\n",
              "      <td>1</td>\n",
              "      <td>54</td>\n",
              "      <td>0</td>\n",
              "      <td>51.8625</td>\n",
              "      <td>1</td>\n",
              "      <td>0</td>\n",
              "      <td>0</td>\n",
              "      <td>0</td>\n",
              "      <td>1</td>\n",
              "      <td>0</td>\n",
              "      <td>1</td>\n",
              "      <td>0</td>\n",
              "    </tr>\n",
              "    <tr>\n",
              "      <th>1</th>\n",
              "      <td>1</td>\n",
              "      <td>28</td>\n",
              "      <td>0</td>\n",
              "      <td>15.5</td>\n",
              "      <td>3</td>\n",
              "      <td>0</td>\n",
              "      <td>0</td>\n",
              "      <td>1</td>\n",
              "      <td>0</td>\n",
              "      <td>0</td>\n",
              "      <td>1</td>\n",
              "      <td>0</td>\n",
              "    </tr>\n",
              "    <tr>\n",
              "      <th>2</th>\n",
              "      <td>1</td>\n",
              "      <td>25</td>\n",
              "      <td>2</td>\n",
              "      <td>41.5792</td>\n",
              "      <td>2</td>\n",
              "      <td>0</td>\n",
              "      <td>1</td>\n",
              "      <td>0</td>\n",
              "      <td>0</td>\n",
              "      <td>0</td>\n",
              "      <td>1</td>\n",
              "      <td>0</td>\n",
              "    </tr>\n",
              "    <tr>\n",
              "      <th>3</th>\n",
              "      <td>1</td>\n",
              "      <td>26</td>\n",
              "      <td>0</td>\n",
              "      <td>14.4542</td>\n",
              "      <td>3</td>\n",
              "      <td>0</td>\n",
              "      <td>1</td>\n",
              "      <td>0</td>\n",
              "      <td>0</td>\n",
              "      <td>0</td>\n",
              "      <td>1</td>\n",
              "      <td>0</td>\n",
              "    </tr>\n",
              "    <tr>\n",
              "      <th>4</th>\n",
              "      <td>0</td>\n",
              "      <td>22</td>\n",
              "      <td>0</td>\n",
              "      <td>10.5167</td>\n",
              "      <td>3</td>\n",
              "      <td>0</td>\n",
              "      <td>0</td>\n",
              "      <td>0</td>\n",
              "      <td>1</td>\n",
              "      <td>0</td>\n",
              "      <td>0</td>\n",
              "      <td>1</td>\n",
              "    </tr>\n",
              "    <tr>\n",
              "      <th>...</th>\n",
              "      <td>...</td>\n",
              "      <td>...</td>\n",
              "      <td>...</td>\n",
              "      <td>...</td>\n",
              "      <td>...</td>\n",
              "      <td>...</td>\n",
              "      <td>...</td>\n",
              "      <td>...</td>\n",
              "      <td>...</td>\n",
              "      <td>...</td>\n",
              "      <td>...</td>\n",
              "      <td>...</td>\n",
              "    </tr>\n",
              "    <tr>\n",
              "      <th>588</th>\n",
              "      <td>1</td>\n",
              "      <td>35</td>\n",
              "      <td>0</td>\n",
              "      <td>26</td>\n",
              "      <td>2</td>\n",
              "      <td>0</td>\n",
              "      <td>0</td>\n",
              "      <td>0</td>\n",
              "      <td>1</td>\n",
              "      <td>0</td>\n",
              "      <td>1</td>\n",
              "      <td>0</td>\n",
              "    </tr>\n",
              "    <tr>\n",
              "      <th>590</th>\n",
              "      <td>0</td>\n",
              "      <td>16</td>\n",
              "      <td>2</td>\n",
              "      <td>46.9</td>\n",
              "      <td>3</td>\n",
              "      <td>0</td>\n",
              "      <td>0</td>\n",
              "      <td>0</td>\n",
              "      <td>1</td>\n",
              "      <td>0</td>\n",
              "      <td>0</td>\n",
              "      <td>1</td>\n",
              "    </tr>\n",
              "    <tr>\n",
              "      <th>591</th>\n",
              "      <td>0</td>\n",
              "      <td>21</td>\n",
              "      <td>0</td>\n",
              "      <td>7.65</td>\n",
              "      <td>3</td>\n",
              "      <td>1</td>\n",
              "      <td>0</td>\n",
              "      <td>0</td>\n",
              "      <td>1</td>\n",
              "      <td>0</td>\n",
              "      <td>0</td>\n",
              "      <td>1</td>\n",
              "    </tr>\n",
              "    <tr>\n",
              "      <th>592</th>\n",
              "      <td>1</td>\n",
              "      <td>28</td>\n",
              "      <td>0</td>\n",
              "      <td>31</td>\n",
              "      <td>1</td>\n",
              "      <td>0</td>\n",
              "      <td>0</td>\n",
              "      <td>0</td>\n",
              "      <td>1</td>\n",
              "      <td>0</td>\n",
              "      <td>1</td>\n",
              "      <td>0</td>\n",
              "    </tr>\n",
              "    <tr>\n",
              "      <th>593</th>\n",
              "      <td>1</td>\n",
              "      <td>41</td>\n",
              "      <td>0</td>\n",
              "      <td>14.1083</td>\n",
              "      <td>3</td>\n",
              "      <td>0</td>\n",
              "      <td>0</td>\n",
              "      <td>0</td>\n",
              "      <td>1</td>\n",
              "      <td>0</td>\n",
              "      <td>1</td>\n",
              "      <td>0</td>\n",
              "    </tr>\n",
              "  </tbody>\n",
              "</table>\n",
              "<p>471 rows × 12 columns</p>\n",
              "</div>"
            ],
            "text/plain": [
              "     sex age parch  ... who_child  who_man  who_woman\n",
              "0      1  54     0  ...         0        1          0\n",
              "1      1  28     0  ...         0        1          0\n",
              "2      1  25     2  ...         0        1          0\n",
              "3      1  26     0  ...         0        1          0\n",
              "4      0  22     0  ...         0        0          1\n",
              "..   ...  ..   ...  ...       ...      ...        ...\n",
              "588    1  35     0  ...         0        1          0\n",
              "590    0  16     2  ...         0        0          1\n",
              "591    0  21     0  ...         0        0          1\n",
              "592    1  28     0  ...         0        1          0\n",
              "593    1  41     0  ...         0        1          0\n",
              "\n",
              "[471 rows x 12 columns]"
            ]
          },
          "metadata": {},
          "execution_count": 47
        }
      ]
    },
    {
      "cell_type": "code",
      "metadata": {
        "colab": {
          "base_uri": "https://localhost:8080/",
          "height": 406
        },
        "id": "w_0q0ZecYUw6",
        "outputId": "11caad24-7848-4bda-8aed-013b72b7a6f3"
      },
      "source": [
        "df_test"
      ],
      "execution_count": 48,
      "outputs": [
        {
          "output_type": "execute_result",
          "data": {
            "text/html": [
              "<div>\n",
              "<style scoped>\n",
              "    .dataframe tbody tr th:only-of-type {\n",
              "        vertical-align: middle;\n",
              "    }\n",
              "\n",
              "    .dataframe tbody tr th {\n",
              "        vertical-align: top;\n",
              "    }\n",
              "\n",
              "    .dataframe thead th {\n",
              "        text-align: right;\n",
              "    }\n",
              "</style>\n",
              "<table border=\"1\" class=\"dataframe\">\n",
              "  <thead>\n",
              "    <tr style=\"text-align: right;\">\n",
              "      <th></th>\n",
              "      <th>sex</th>\n",
              "      <th>age</th>\n",
              "      <th>parch</th>\n",
              "      <th>fare</th>\n",
              "      <th>class</th>\n",
              "      <th>survived</th>\n",
              "      <th>embark_town_Cherbourg</th>\n",
              "      <th>embark_town_Queenstown</th>\n",
              "      <th>embark_town_Southampton</th>\n",
              "      <th>who_child</th>\n",
              "      <th>who_man</th>\n",
              "      <th>who_woman</th>\n",
              "    </tr>\n",
              "  </thead>\n",
              "  <tbody>\n",
              "    <tr>\n",
              "      <th>0</th>\n",
              "      <td>1</td>\n",
              "      <td>28</td>\n",
              "      <td>1</td>\n",
              "      <td>15.2458</td>\n",
              "      <td>3</td>\n",
              "      <td>1</td>\n",
              "      <td>1</td>\n",
              "      <td>0</td>\n",
              "      <td>0</td>\n",
              "      <td>0</td>\n",
              "      <td>1</td>\n",
              "      <td>0</td>\n",
              "    </tr>\n",
              "    <tr>\n",
              "      <th>1</th>\n",
              "      <td>1</td>\n",
              "      <td>31</td>\n",
              "      <td>0</td>\n",
              "      <td>10.5</td>\n",
              "      <td>2</td>\n",
              "      <td>0</td>\n",
              "      <td>0</td>\n",
              "      <td>0</td>\n",
              "      <td>1</td>\n",
              "      <td>0</td>\n",
              "      <td>1</td>\n",
              "      <td>0</td>\n",
              "    </tr>\n",
              "    <tr>\n",
              "      <th>2</th>\n",
              "      <td>1</td>\n",
              "      <td>20</td>\n",
              "      <td>0</td>\n",
              "      <td>7.925</td>\n",
              "      <td>3</td>\n",
              "      <td>0</td>\n",
              "      <td>0</td>\n",
              "      <td>0</td>\n",
              "      <td>1</td>\n",
              "      <td>0</td>\n",
              "      <td>1</td>\n",
              "      <td>0</td>\n",
              "    </tr>\n",
              "    <tr>\n",
              "      <th>3</th>\n",
              "      <td>0</td>\n",
              "      <td>6</td>\n",
              "      <td>1</td>\n",
              "      <td>33</td>\n",
              "      <td>2</td>\n",
              "      <td>1</td>\n",
              "      <td>0</td>\n",
              "      <td>0</td>\n",
              "      <td>1</td>\n",
              "      <td>1</td>\n",
              "      <td>0</td>\n",
              "      <td>0</td>\n",
              "    </tr>\n",
              "    <tr>\n",
              "      <th>4</th>\n",
              "      <td>0</td>\n",
              "      <td>14</td>\n",
              "      <td>0</td>\n",
              "      <td>11.2417</td>\n",
              "      <td>3</td>\n",
              "      <td>1</td>\n",
              "      <td>1</td>\n",
              "      <td>0</td>\n",
              "      <td>0</td>\n",
              "      <td>1</td>\n",
              "      <td>0</td>\n",
              "      <td>0</td>\n",
              "    </tr>\n",
              "    <tr>\n",
              "      <th>...</th>\n",
              "      <td>...</td>\n",
              "      <td>...</td>\n",
              "      <td>...</td>\n",
              "      <td>...</td>\n",
              "      <td>...</td>\n",
              "      <td>...</td>\n",
              "      <td>...</td>\n",
              "      <td>...</td>\n",
              "      <td>...</td>\n",
              "      <td>...</td>\n",
              "      <td>...</td>\n",
              "      <td>...</td>\n",
              "    </tr>\n",
              "    <tr>\n",
              "      <th>290</th>\n",
              "      <td>1</td>\n",
              "      <td>19</td>\n",
              "      <td>0</td>\n",
              "      <td>7.65</td>\n",
              "      <td>3</td>\n",
              "      <td>0</td>\n",
              "      <td>0</td>\n",
              "      <td>0</td>\n",
              "      <td>1</td>\n",
              "      <td>0</td>\n",
              "      <td>1</td>\n",
              "      <td>0</td>\n",
              "    </tr>\n",
              "    <tr>\n",
              "      <th>291</th>\n",
              "      <td>1</td>\n",
              "      <td>40.5</td>\n",
              "      <td>0</td>\n",
              "      <td>7.75</td>\n",
              "      <td>3</td>\n",
              "      <td>0</td>\n",
              "      <td>0</td>\n",
              "      <td>1</td>\n",
              "      <td>0</td>\n",
              "      <td>0</td>\n",
              "      <td>1</td>\n",
              "      <td>0</td>\n",
              "    </tr>\n",
              "    <tr>\n",
              "      <th>292</th>\n",
              "      <td>0</td>\n",
              "      <td>1</td>\n",
              "      <td>2</td>\n",
              "      <td>15.7417</td>\n",
              "      <td>3</td>\n",
              "      <td>1</td>\n",
              "      <td>1</td>\n",
              "      <td>0</td>\n",
              "      <td>0</td>\n",
              "      <td>1</td>\n",
              "      <td>0</td>\n",
              "      <td>0</td>\n",
              "    </tr>\n",
              "    <tr>\n",
              "      <th>293</th>\n",
              "      <td>0</td>\n",
              "      <td>28</td>\n",
              "      <td>2</td>\n",
              "      <td>15.2458</td>\n",
              "      <td>3</td>\n",
              "      <td>0</td>\n",
              "      <td>1</td>\n",
              "      <td>0</td>\n",
              "      <td>0</td>\n",
              "      <td>0</td>\n",
              "      <td>0</td>\n",
              "      <td>1</td>\n",
              "    </tr>\n",
              "    <tr>\n",
              "      <th>294</th>\n",
              "      <td>1</td>\n",
              "      <td>21</td>\n",
              "      <td>0</td>\n",
              "      <td>7.925</td>\n",
              "      <td>3</td>\n",
              "      <td>0</td>\n",
              "      <td>0</td>\n",
              "      <td>0</td>\n",
              "      <td>1</td>\n",
              "      <td>0</td>\n",
              "      <td>1</td>\n",
              "      <td>0</td>\n",
              "    </tr>\n",
              "  </tbody>\n",
              "</table>\n",
              "<p>239 rows × 12 columns</p>\n",
              "</div>"
            ],
            "text/plain": [
              "     sex   age parch  ... who_child  who_man  who_woman\n",
              "0      1    28     1  ...         0        1          0\n",
              "1      1    31     0  ...         0        1          0\n",
              "2      1    20     0  ...         0        1          0\n",
              "3      0     6     1  ...         1        0          0\n",
              "4      0    14     0  ...         1        0          0\n",
              "..   ...   ...   ...  ...       ...      ...        ...\n",
              "290    1    19     0  ...         0        1          0\n",
              "291    1  40.5     0  ...         0        1          0\n",
              "292    0     1     2  ...         1        0          0\n",
              "293    0    28     2  ...         0        0          1\n",
              "294    1    21     0  ...         0        1          0\n",
              "\n",
              "[239 rows x 12 columns]"
            ]
          },
          "metadata": {},
          "execution_count": 48
        }
      ]
    },
    {
      "cell_type": "markdown",
      "metadata": {
        "id": "4J1qoPYgYLHt"
      },
      "source": [
        "# 4. Modelleri kurma"
      ]
    },
    {
      "cell_type": "markdown",
      "metadata": {
        "id": "8QQ692r0L5v-"
      },
      "source": [
        "Şimdi ise makine öğrenmesi için hedef değişken ile tahmin edici değişkenleri (bağımsız değişkenler) tekrardan belirme zamanıdır.\n",
        "\n",
        "\n",
        "\n"
      ]
    },
    {
      "cell_type": "code",
      "metadata": {
        "colab": {
          "base_uri": "https://localhost:8080/"
        },
        "id": "7MMw_Hb1NP6X",
        "outputId": "0318dd3b-df85-43ee-db92-8d02ac26cefc"
      },
      "source": [
        "all_features = df_test.columns.to_list()\n",
        "y_feature = ['survived']\n",
        "print(\"Hedef değişken (y_feature) : \",y_feature)\n",
        "all_features.remove('survived') # hedef değişken listeden kaldırılıyor.\n",
        "X_features = all_features\n",
        "print(\"Bağımsız değişkenler (X_feature) : \",X_features)"
      ],
      "execution_count": 49,
      "outputs": [
        {
          "output_type": "stream",
          "name": "stdout",
          "text": [
            "Hedef değişken (y_feature) :  ['survived']\n",
            "Bağımsız değişkenler (X_feature) :  ['sex', 'age', 'parch', 'fare', 'class', 'embark_town_Cherbourg', 'embark_town_Queenstown', 'embark_town_Southampton', 'who_child', 'who_man', 'who_woman']\n"
          ]
        }
      ]
    },
    {
      "cell_type": "markdown",
      "metadata": {
        "id": "P2xOpj0ySsH7"
      },
      "source": [
        "\n",
        "X_train üzerinde makine öğrenmesi belli başlı yapıları öğrenerek y_train değişkeninde bulunan değerleri tespit etmeye çalışacaktır. Ve makine öğrenmesi modelinin performanısını ölçmek için de test verisi gerekecektir. Performansı görmek için, modelin görmediği X_test test veri seti üzerinde modele tahmin yaptırarak bir tahmin sonucu elde ettikten sonra bu sonuçları  y_test ile karşılaştırdığımızda performansı göreceğiz. "
      ]
    },
    {
      "cell_type": "code",
      "metadata": {
        "id": "BvkS8D_4L2PS"
      },
      "source": [
        "X_train = df_train.loc[:,X_features].values\n",
        "X_test = df_test.loc[:,X_features].values\n",
        "\n",
        "y_train = df_train.loc[:,y_feature].values\n",
        "y_test = df_test.loc[:,y_feature].values"
      ],
      "execution_count": 50,
      "outputs": []
    },
    {
      "cell_type": "markdown",
      "metadata": {
        "id": "oPvoJzu8Omst"
      },
      "source": [
        "Makine öğrenmesi modelini kurma aşamasına geldik. Şimdi ilk olarak Destek Vektör Makineleri ile sınıflandırma modelini kuralım. Bu algoritmayı kullanmak için kullan SVC sınıfı kullanmalıyız. Aşağıda da görüldüğü üzere SVC sınıfına çeşitli hiper parametreler (kernel ve gamma) girilmiştir. Bu parametreler sayesinde herhangi bir algoritma veriyi daha iyi analiz edebilir. Bu hiper parametreler algoritmalara göre değişir. Aşağıda görüldüğü üzere biz sadece kernel ve gamma hiper parametrelerine özel bir değer atadık.Bu hiper parametreleri ayarlamaya ince ayar yapma (hyperparameter tuning) denir. Eğer bir algoritmanın verinize iyi oturmasını istiyorsanız mutlaka o algoritmanın hiper parametrelerini keşfet edin. (Aşağıdaki parametreleri size araştırma ödevi olarak veriyorum :) )\n",
        "\n",
        "Aşağıdaki kod incelendiğinde, SVC() sınıfından üretilen nesnenin fit() adındaki metoduna X_train ve y_train değişkenleri gönderiliyor. Bunun amacı SVC algoritmasını eğitmek içindir. Ardında da görüldüğü üzere predict() metodu çağrılıyor. Bu metodun amacı da verilen bağımsız değişkenlerden hareketle bağımlı değişkeni tahmin etmektir. Biz predict() metoduna X_test ile test veri setinin bağımsız verilerini gönderdik. Ardında y_pred adında modelin bize tahmin ettiği bağımsız değişken değerleri elde edildi. Sonra ise modelin performansını ölçmek için de doğruluk metriği görevini yapan accuracy_score() fonksiyonu ile de tahmin edilen (y_pred) ile gerçek-doğru (y_test) değerlerini karşılaştırarak modelin performansı veriyor. Aşağıda görüldüğü üzere bu modelin doğruluk skoru 74.06’dır. \n",
        "\n",
        "\n",
        "\n"
      ]
    },
    {
      "cell_type": "markdown",
      "metadata": {
        "id": "9FkCgSYZanWU"
      },
      "source": [
        ""
      ]
    },
    {
      "cell_type": "code",
      "metadata": {
        "colab": {
          "base_uri": "https://localhost:8080/"
        },
        "id": "7zTxs34gwC4g",
        "outputId": "a1797e9e-543c-42f0-83ad-50b4a2218374"
      },
      "source": [
        "clf = SVC(kernel=\"rbf\",gamma=0.1,C=10)\n",
        "clf.fit(X_train, y_train)\n",
        "y_pred=clf.predict(X_test)\n",
        "print(round(accuracy_score(y_test,y_pred) * 100, 2))"
      ],
      "execution_count": 51,
      "outputs": [
        {
          "output_type": "stream",
          "name": "stdout",
          "text": [
            "74.06\n"
          ]
        }
      ]
    },
    {
      "cell_type": "markdown",
      "metadata": {
        "id": "5sejebAzx0JD"
      },
      "source": [
        "Genel olarak bir algoritmanın nasıl eğitilip nasıl test edildiğini gördük. Yukarıda görüldüğü üzere 74.06’lık bir doğruluk skoru elde edilmiş. Bu skor kötü değil ancak daha iyisini yapabilir miyiz acaba ? sorusu hemen kıllara geliyor değil mi? Evet ,bu modelin ince ayarlarını (kernel,gamma gibi parametreleri) farklı değerler ile tek tek deneyip en iyi sonucu almamız gerekir. En iyi sonucu deneyerek bulabiliriz. Fakat belki biz en iyi ince ayarları yapsak bile seçtiğim algoritma bizim veri setine uygun olmadığından istediğimiz sonucu alamayabiliriz. O zamanda yeni bir algoritma kurup onun ince ayarlarını yapıp istediğimiz skoru almaya çalışabiliriz. O algoritmada olmazsa başka bir algoritma denenmelidir.\n",
        "\n",
        "Gördüğünüz üzere durmadan farklı algoritmaları farklı parametreler ile deneme süreci var. Bu görev için GridSearchCV adında çok güzel bir araç vardır. GridSearchCV bu hiper parametreleri (ince ayar parametreleri) bizim için dener. Ve bize en iyi skora sahip modelin hiper parametrelerini de verir. GridSearchCV aracının bir diğer özelliği ise tek bir algoritma için değilde birden fazla algoritmayı da aynı anda çalıştırabilir. Bu aracın en göze çarpan dezavantajı çok zaman almasıdır.\n",
        "\n",
        "GridSearchCV ile makine öğrenmesi modeli eğitimi için en uygun ince ayar değerlerini bulma Cross Validation (CV - Çapraz Doğrulama) diye adlandırılan yöntem üzerinden gerçekleşir. Çeşitli çapraz doğrulama yöntemleri vardır.\n",
        "\n",
        "* Çapraz Doğrulama yöntemlerinden en bilineni **K-fold Cross Validation ( K-kat Çapraz Doğrulama)**.K-kat Çapraz Doğrulama, train-test veri seti bölmenin benzer bir yoludur. Ama burada bölünen veri ham veri seti değilde en başta bölünen eğitim ve test diye bölünen eğitim veri seti üzerinden işler yürür. Veri seti (en başta bölünen eğitim veri setinden bahsediliyor) k alt kümeye bölünür ve k kez makine öğrenmesi modeli eğitilir. Eğitimin her seferinde, k alt kümelerinden biri test kümesi olarak kullanılır ve diğer k-1 alt kümeleri bir eğitim kümesi oluşturmak için bir araya getirilir. Daha sonra tüm k tane deneme sonucunda k tane doğruluk skoru elde edilir. Ve GridSearchCV ise en iyi skora sahip olan modeli bize seçer.\n",
        "\n",
        "* Diğer çokça kullanılan çaprazlama yöntemi ise, **Stratified K Fold Cross Validation** adlandırılan yöntemdir.Bu yöntem sınıflandırma problemleri için kullanılır. Biz de bu yöntemi aşağıda kullanacağız. Bu yöntemin bir önceki çapraz doğrulama yönteminden farkı k tane kümenin içerisindeki sınıfları eşit dağıtmasıdır.Bunu yaparak herhangi bir sınıfı herhangi bir kümede rastgele toplanması yerine kümelere eşit dağıtıp işlerim öyle yapmasıdır.\n",
        "\n",
        "Ve sonuçta, en iyi tahmin edicinin çapraz doğrulanmış ortalama puanından hareketle en iyi sonucu veren ince ayar parametreleri o algoritma için seçiliyor. Haydi şimdi GridSearchCV kullanarak Karar Ağaçları Sınıflandırıcısı (DecisionTreeClassifier), Destek Vektör Makineleri (SVC-SVM),Rassal Orman Sınıflandırıcısı (RandomForestClassifier), Lojistik Regresyon (LogisticRegression) ve K En Yakın Komşular Sınıflandırıcısı(KNeighborsClassifier) algoritmaları için bu eğitim veri seti için parametre değerlerini bulalım.\n",
        "\n",
        "GridSearchCV aracına ilk başta hangi algoritmaları kullanacağımızı bir liste içinde aşağıdaki gibi belirtelim. Ve algoritmaların her seferde aynı sonucu vermesi için random_state  adında bir değişken kullanıyoruz. Bu değişkene bir sabit değişken olarak 45 değeri atıyoruz. Bazı algoritmalar yapısı gereği rastgelelik ile değer atamalarından dolayı biz bu değer atamayı böylece sabitliyoruz. Böylece biz bu kodu her seferinde çalıştırdığımızda aynı doğruluk oranını alacağız. \n",
        "\n",
        "\n"
      ]
    },
    {
      "cell_type": "code",
      "metadata": {
        "id": "Rzm-gHqjiJrN"
      },
      "source": [
        "\n",
        "random_state=45\n",
        "classifier = [\n",
        "             DecisionTreeClassifier(random_state = random_state),\n",
        "             SVC(),\n",
        "             RandomForestClassifier(random_state = random_state),\n",
        "             LogisticRegression(),\n",
        "             KNeighborsClassifier()]"
      ],
      "execution_count": 52,
      "outputs": []
    },
    {
      "cell_type": "markdown",
      "metadata": {
        "id": "lMKvmiqsyG-c"
      },
      "source": [
        "Şimdi ise hangi parametrelerin hangi aralıktaki değerler ile deneme yapılıp algoritmanın eğitimi yapılması aşamasına geldik. Eğitim denemesi yapılması için her bir algoritmaya özel bir python sözlük yapısında algoritmanın hiper parametre seti oluşturmalıyız. Bu seti açıklamak için aşağıdan  K En Yakın Komşular Sınıflandırıcısı için oluşturulan knn_hyperparameters sözlük yapısın bakabiliriz. Görüldüğü üzere n_neighbors parametresi için [1,3,5,7] değerini içeren bir liste verilmiştir. Bu listenin anlamı, K En Yakın Komşular Sınıflandırıcısı algoritması eğitimi denemeleri yapılırken ilk başta en yakın 1 komşuya bak , ardından 3, sonra 5 ve en sonki denemende en yakın 7 komşuya bak ona göre bir eğitim yap. Bunları yaparkende  \"metric\":[\"manhattan\"] ile mesafe ölçümünü de manhattan ile yap anlamı çıkar. En son nihayetinde en yüksek skor hangi kombinasyonda çıkarsa o değerler o algoritma için en iyi parametreler olarak seçilecektir. Diğer parametreleri de size ödev olarak veriyorum. Lütfen bu parametreleri detaylı olarak araştırın . Çünkü sizin gelişiminizde çok büyük bir etken olacaktır.\n",
        "\n",
        "Bütün algoritmalarının hiper parametre sözlükleri classifier listesindeki algoritma sırası ile bir bir python listesinde biriktiriliyor.\n"
      ]
    },
    {
      "cell_type": "code",
      "metadata": {
        "id": "GX75nelbdd3H"
      },
      "source": [
        "\n",
        "dt_hyperparameters= {\"min_samples_split\" : range(10,500,20),\n",
        "                \"max_depth\": range(1,20,2)}\n",
        "\n",
        "svc_hyperparameters= {\"kernel\" : [\"rbf\"],\n",
        "                 \"gamma\": [0.001, 0.01, 0.1],\n",
        "                 \"C\": [1,10,50,100,250,500]}\n",
        "\n",
        "\n",
        "rf_hyperparameters= {\"max_depth\":[1,3,5],\n",
        "                \"min_samples_leaf\":[1,3,5],\n",
        "                 'max_depth': [3, 5, 7],\n",
        "                \"n_estimators\":[50,100,150]}\n",
        "\n",
        "logreg_hyperparameters= {\"C\":np.logspace(-3,3,7),\n",
        "                    \"penalty\": [\"l1\",\"l2\"]} \n",
        "\n",
        "knn_hyperparameters= {\"n_neighbors\": [1,3,5,7],\n",
        "                 \"metric\":[\"manhattan\"]} \n",
        "             \n",
        "classifier_param = [\n",
        "                    dt_hyperparameters,\n",
        "                   svc_hyperparameters,\n",
        "                   rf_hyperparameters,\n",
        "                   logreg_hyperparameters,\n",
        "                   knn_hyperparameters]"
      ],
      "execution_count": 53,
      "outputs": []
    },
    {
      "cell_type": "markdown",
      "metadata": {
        "id": "KJdYfpgLyDyp"
      },
      "source": [
        "Her şey hazırsa GridSearchCV aracını çalıştıralım. cv_result listesi Çapraz Doğrulama Ortalaması değerleri tutacaktır. real_test_result listesi test verilerimizin sonuçlarını tutacaktır. best_estimators ise de her bir algoritmanın hangi parametrelerde en iyi performans verdiğini tutacaktır. GridSearchCV sınıfından nesne oluşturulurken ilk parametre algoritmanın sınıfı gönderiliyor. **param_grid** paramametresine ise ilgili algoritmanın hiper parametre python sözlüğü gönderiliyor. **cv** parametresine ise önceki sayfalarda bahsedilen Stratified K Fold Cross Validation işlemi için StratifiedKFold(n_splits = 10) (K değeri 10 olarak belirtilmiştir.) fonksiyonu gönderiliyor. **scoring** parametresine de algoritmaların performans metriği olarak doğruluğu (“accuracy”) kullanılması belirtilmiştir. **n_jobs** parametresine -1 değeri verilerek denemelerin paralel olarak hızlı yapılması için kullanıldı. Aşağıdaki kod bloğunu çalıştırdığınızda biraz zaman alabilir. Çünkü bir çok deneme yapılacaktır.\n"
      ]
    },
    {
      "cell_type": "code",
      "metadata": {
        "colab": {
          "base_uri": "https://localhost:8080/"
        },
        "id": "COMGkwQ7T7bq",
        "outputId": "1c5c537f-b335-4559-a1a7-fb76e1b4557c"
      },
      "source": [
        "cv_result = []\n",
        "real_test_result = []\n",
        "best_estimators = []\n",
        "for i in range(len(classifier)):\n",
        "    clf = GridSearchCV(classifier[i], param_grid=classifier_param[i], cv = StratifiedKFold(n_splits = 10), scoring = \"accuracy\", n_jobs = -1,verbose = 1)\n",
        "    clf.fit(X_train,y_train)\n",
        "    cv_result.append(clf.best_score_)\n",
        "    best_estimators.append(clf.best_estimator_)\n",
        "    real_test_result.append(clf.score(X_test, y_test))  "
      ],
      "execution_count": 54,
      "outputs": [
        {
          "output_type": "stream",
          "name": "stdout",
          "text": [
            "Fitting 10 folds for each of 250 candidates, totalling 2500 fits\n"
          ]
        },
        {
          "output_type": "stream",
          "name": "stderr",
          "text": [
            "[Parallel(n_jobs=-1)]: Using backend LokyBackend with 2 concurrent workers.\n",
            "[Parallel(n_jobs=-1)]: Done 904 tasks      | elapsed:    2.5s\n",
            "[Parallel(n_jobs=-1)]: Done 2497 out of 2500 | elapsed:    4.8s remaining:    0.0s\n",
            "[Parallel(n_jobs=-1)]: Done 2500 out of 2500 | elapsed:    4.8s finished\n",
            "[Parallel(n_jobs=-1)]: Using backend LokyBackend with 2 concurrent workers.\n"
          ]
        },
        {
          "output_type": "stream",
          "name": "stdout",
          "text": [
            "Fitting 10 folds for each of 18 candidates, totalling 180 fits\n"
          ]
        },
        {
          "output_type": "stream",
          "name": "stderr",
          "text": [
            "[Parallel(n_jobs=-1)]: Done 180 out of 180 | elapsed:    3.0s finished\n",
            "[Parallel(n_jobs=-1)]: Using backend LokyBackend with 2 concurrent workers.\n"
          ]
        },
        {
          "output_type": "stream",
          "name": "stdout",
          "text": [
            "Fitting 10 folds for each of 27 candidates, totalling 270 fits\n"
          ]
        },
        {
          "output_type": "stream",
          "name": "stderr",
          "text": [
            "[Parallel(n_jobs=-1)]: Done  88 tasks      | elapsed:   11.2s\n",
            "[Parallel(n_jobs=-1)]: Done 270 out of 270 | elapsed:   34.9s finished\n",
            "[Parallel(n_jobs=-1)]: Using backend LokyBackend with 2 concurrent workers.\n"
          ]
        },
        {
          "output_type": "stream",
          "name": "stdout",
          "text": [
            "Fitting 10 folds for each of 14 candidates, totalling 140 fits\n"
          ]
        },
        {
          "output_type": "stream",
          "name": "stderr",
          "text": [
            "[Parallel(n_jobs=-1)]: Done 140 out of 140 | elapsed:    1.5s finished\n",
            "[Parallel(n_jobs=-1)]: Using backend LokyBackend with 2 concurrent workers.\n"
          ]
        },
        {
          "output_type": "stream",
          "name": "stdout",
          "text": [
            "Fitting 10 folds for each of 4 candidates, totalling 40 fits\n"
          ]
        },
        {
          "output_type": "stream",
          "name": "stderr",
          "text": [
            "[Parallel(n_jobs=-1)]: Done  40 out of  40 | elapsed:    0.2s finished\n"
          ]
        }
      ]
    },
    {
      "cell_type": "markdown",
      "metadata": {
        "id": "U5Two8nlyAnM"
      },
      "source": [
        "Yukarıdaki kod çalıştıktan sonra hangi algoritmanın belirttiğimiz hangi değerler ile daha başarılı bir sonuç veridğini görmek için aşağıdaki kod bloğunu çalıştırmalıyız. Ve aşağıdaki çıktıyı detaylı olarak inceleyebilirsiniz.\n"
      ]
    },
    {
      "cell_type": "code",
      "metadata": {
        "colab": {
          "base_uri": "https://localhost:8080/"
        },
        "id": "vWcwIFsBU0BW",
        "outputId": "837a27f9-7051-4cb7-9cc3-7de5e0199a17"
      },
      "source": [
        "best_estimators"
      ],
      "execution_count": 55,
      "outputs": [
        {
          "output_type": "execute_result",
          "data": {
            "text/plain": [
              "[DecisionTreeClassifier(ccp_alpha=0.0, class_weight=None, criterion='gini',\n",
              "                        max_depth=3, max_features=None, max_leaf_nodes=None,\n",
              "                        min_impurity_decrease=0.0, min_impurity_split=None,\n",
              "                        min_samples_leaf=1, min_samples_split=10,\n",
              "                        min_weight_fraction_leaf=0.0, presort='deprecated',\n",
              "                        random_state=45, splitter='best'),\n",
              " SVC(C=100, break_ties=False, cache_size=200, class_weight=None, coef0=0.0,\n",
              "     decision_function_shape='ovr', degree=3, gamma=0.001, kernel='rbf',\n",
              "     max_iter=-1, probability=False, random_state=None, shrinking=True,\n",
              "     tol=0.001, verbose=False),\n",
              " RandomForestClassifier(bootstrap=True, ccp_alpha=0.0, class_weight=None,\n",
              "                        criterion='gini', max_depth=7, max_features='auto',\n",
              "                        max_leaf_nodes=None, max_samples=None,\n",
              "                        min_impurity_decrease=0.0, min_impurity_split=None,\n",
              "                        min_samples_leaf=3, min_samples_split=2,\n",
              "                        min_weight_fraction_leaf=0.0, n_estimators=50,\n",
              "                        n_jobs=None, oob_score=False, random_state=45, verbose=0,\n",
              "                        warm_start=False),\n",
              " LogisticRegression(C=0.1, class_weight=None, dual=False, fit_intercept=True,\n",
              "                    intercept_scaling=1, l1_ratio=None, max_iter=100,\n",
              "                    multi_class='auto', n_jobs=None, penalty='l2',\n",
              "                    random_state=None, solver='lbfgs', tol=0.0001, verbose=0,\n",
              "                    warm_start=False),\n",
              " KNeighborsClassifier(algorithm='auto', leaf_size=30, metric='manhattan',\n",
              "                      metric_params=None, n_jobs=None, n_neighbors=7, p=2,\n",
              "                      weights='uniform')]"
            ]
          },
          "metadata": {},
          "execution_count": 55
        }
      ]
    },
    {
      "cell_type": "markdown",
      "metadata": {
        "id": "MUpjqYQ6x-mK"
      },
      "source": [
        "Şimdi ise algoritmın hem eğitim hem de test veri seti üzerindeki performansına bakalım. Bunu için aşıdaki kod bloğunu çalıştırmamız yeterlidir.\n"
      ]
    },
    {
      "cell_type": "code",
      "metadata": {
        "colab": {
          "base_uri": "https://localhost:8080/",
          "height": 197
        },
        "id": "DYhvv1-nVCdK",
        "outputId": "221463fa-c483-44cf-e9ff-d400799db975"
      },
      "source": [
        "cv_results = pd.DataFrame({ \"Makine Öğrenmesi Modelleri\":[\"Karar Ağaçları Sınıflandırıcısı\", \"Destek Vektör Makineleri\",\"Rassal Orman Sınıflandırıcısı\",\n",
        "             \"Lojistik Regresyon\",\n",
        "             \"K En Yakın Komşular Sınıflandırıcısı\"],\"Çapraz Doğrulama Ortalaması\":cv_result, \"Test Sonucu\":real_test_result})\n",
        "\n",
        "cv_results"
      ],
      "execution_count": 56,
      "outputs": [
        {
          "output_type": "execute_result",
          "data": {
            "text/html": [
              "<div>\n",
              "<style scoped>\n",
              "    .dataframe tbody tr th:only-of-type {\n",
              "        vertical-align: middle;\n",
              "    }\n",
              "\n",
              "    .dataframe tbody tr th {\n",
              "        vertical-align: top;\n",
              "    }\n",
              "\n",
              "    .dataframe thead th {\n",
              "        text-align: right;\n",
              "    }\n",
              "</style>\n",
              "<table border=\"1\" class=\"dataframe\">\n",
              "  <thead>\n",
              "    <tr style=\"text-align: right;\">\n",
              "      <th></th>\n",
              "      <th>Makine Öğrenmesi Modelleri</th>\n",
              "      <th>Çapraz Doğrulama Ortalaması</th>\n",
              "      <th>Test Sonucu</th>\n",
              "    </tr>\n",
              "  </thead>\n",
              "  <tbody>\n",
              "    <tr>\n",
              "      <th>0</th>\n",
              "      <td>Karar Ağaçları Sınıflandırıcısı</td>\n",
              "      <td>0.800709</td>\n",
              "      <td>0.815900</td>\n",
              "    </tr>\n",
              "    <tr>\n",
              "      <th>1</th>\n",
              "      <td>Destek Vektör Makineleri</td>\n",
              "      <td>0.775222</td>\n",
              "      <td>0.803347</td>\n",
              "    </tr>\n",
              "    <tr>\n",
              "      <th>2</th>\n",
              "      <td>Rassal Orman Sınıflandırıcısı</td>\n",
              "      <td>0.811170</td>\n",
              "      <td>0.799163</td>\n",
              "    </tr>\n",
              "    <tr>\n",
              "      <th>3</th>\n",
              "      <td>Lojistik Regresyon</td>\n",
              "      <td>0.777305</td>\n",
              "      <td>0.807531</td>\n",
              "    </tr>\n",
              "    <tr>\n",
              "      <th>4</th>\n",
              "      <td>K En Yakın Komşular Sınıflandırıcısı</td>\n",
              "      <td>0.726330</td>\n",
              "      <td>0.744770</td>\n",
              "    </tr>\n",
              "  </tbody>\n",
              "</table>\n",
              "</div>"
            ],
            "text/plain": [
              "             Makine Öğrenmesi Modelleri  ...  Test Sonucu\n",
              "0       Karar Ağaçları Sınıflandırıcısı  ...     0.815900\n",
              "1              Destek Vektör Makineleri  ...     0.803347\n",
              "2         Rassal Orman Sınıflandırıcısı  ...     0.799163\n",
              "3                    Lojistik Regresyon  ...     0.807531\n",
              "4  K En Yakın Komşular Sınıflandırıcısı  ...     0.744770\n",
              "\n",
              "[5 rows x 3 columns]"
            ]
          },
          "metadata": {},
          "execution_count": 56
        }
      ]
    },
    {
      "cell_type": "markdown",
      "metadata": {
        "id": "chOxniItbOZg"
      },
      "source": [
        "Yukarıda görüldüğü üzere, en başarılı model Karar Ağaçları Sınıflandırıcı modeli test veri seti üzerinde 0.815 skoru elde etmiş. Ve hemen hemen aynı skoru da GridSearchCV aracından elde edilen çapraz doğrulama ortalaması ile de yakın bir skor elde etmiş. Diğer modellere bakıldığında en yakın başarılı model ise yine ağaç tabanlı olan Rassal Orman Sınıflandırıcısı çıkmıştır. En kötü skoru ise gördüğünüz üzere K En Yakın Komşular Sınıflandırıcısı elde etmiştir.\n",
        "\n",
        "Projenin sonuna kadar geldiğiniz için ,tebrik ederim arkadaşlar . Şimdi buradan sonra bu veri seti üzerine daha farklı bir makine öğrenmesi modeli deneyin veya şuan var olan algoritmaların parametreleri daha iyi hale getirmenizi rica ediyorum.\n",
        "\n",
        "Bunun için yine sizlere anahtar kelimeler vermek istiyorum.\n",
        "\n",
        "* Eğer var olan algoritmaları daha başarılı yapmak istiyorsanız, hem algoritmanın matematiksel denklemine hem de sklearn kütüphanesinde o algoritmalar ile ilgili hangi parametreler var onları incelemeniz olacaktır.\n",
        "\n",
        "* Eğer bu modelleri birleştirip ortak güçlü bir model kurmak istiyorsanız , sklearn.ensemble.VotingClassifier sınıfını incelemenizi tavisiye ederim.\n",
        "\n",
        "* Eğer yeni bir algoritma denemek istiyorsanız, şuan için sizlere önerim XGBoost ve LightGBM algoritmalarıdır.\n",
        "\n",
        "\n",
        "\n"
      ]
    }
  ]
}